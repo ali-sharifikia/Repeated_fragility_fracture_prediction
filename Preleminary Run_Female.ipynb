{
 "cells": [
  {
   "cell_type": "code",
   "execution_count": 1,
   "id": "33e48ee4",
   "metadata": {},
   "outputs": [
    {
     "name": "stderr",
     "output_type": "stream",
     "text": [
      "<frozen importlib._bootstrap>:228: RuntimeWarning: scipy._lib.messagestream.MessageStream size changed, may indicate binary incompatibility. Expected 56 from C header, got 64 from PyObject\n"
     ]
    }
   ],
   "source": [
    "import pandas as pd\n",
    "import numpy as np\n",
    "from imblearn.over_sampling import SMOTE\n",
    "from sklearn.preprocessing import normalize,StandardScaler\n",
    "from sklearn.model_selection import cross_val_predict, cross_val_score, GridSearchCV,train_test_split,KFold\n",
    "from sklearn.metrics import accuracy_score, classification_report, precision_score, recall_score,f1_score\n",
    "from sklearn.metrics import confusion_matrix, precision_recall_curve, roc_curve, auc, log_loss,roc_auc_score\n",
    "from xgboost import XGBClassifier\n",
    "import seaborn as sns\n",
    "import matplotlib.pyplot as plt\n",
    "plt.rc(\"font\", size=14)\n",
    "sns.set(style=\"white\")\n",
    "sns.set(style=\"whitegrid\", color_codes=True)"
   ]
  },
  {
   "cell_type": "code",
   "execution_count": 2,
   "id": "381d76ff",
   "metadata": {},
   "outputs": [],
   "source": [
    "Dataset = pd.read_csv(\"Dataset_female.csv\")"
   ]
  },
  {
   "cell_type": "code",
   "execution_count": 3,
   "id": "72f5f3df",
   "metadata": {},
   "outputs": [
    {
     "data": {
      "text/html": [
       "<div>\n",
       "<style scoped>\n",
       "    .dataframe tbody tr th:only-of-type {\n",
       "        vertical-align: middle;\n",
       "    }\n",
       "\n",
       "    .dataframe tbody tr th {\n",
       "        vertical-align: top;\n",
       "    }\n",
       "\n",
       "    .dataframe thead th {\n",
       "        text-align: right;\n",
       "    }\n",
       "</style>\n",
       "<table border=\"1\" class=\"dataframe\">\n",
       "  <thead>\n",
       "    <tr style=\"text-align: right;\">\n",
       "      <th></th>\n",
       "      <th>ID</th>\n",
       "      <th>Name</th>\n",
       "      <th>Last_Name</th>\n",
       "      <th>Sex</th>\n",
       "      <th>Age</th>\n",
       "      <th>Menopause_age</th>\n",
       "      <th>Tscore_Hip_total</th>\n",
       "      <th>CRP</th>\n",
       "      <th>Cr</th>\n",
       "      <th>ALP</th>\n",
       "      <th>...</th>\n",
       "      <th>Tscore_Hip_neck</th>\n",
       "      <th>Zscore_Hip_neck</th>\n",
       "      <th>BMI</th>\n",
       "      <th>Pregnancy_Count</th>\n",
       "      <th>Histroy_Anticoagulant</th>\n",
       "      <th>Active_Smoking</th>\n",
       "      <th>History_Smoking</th>\n",
       "      <th>Calcium_Supplement</th>\n",
       "      <th>History_Diabetes_2</th>\n",
       "      <th>Refracture</th>\n",
       "    </tr>\n",
       "  </thead>\n",
       "  <tbody>\n",
       "    <tr>\n",
       "      <th>0</th>\n",
       "      <td>1163</td>\n",
       "      <td>گلدسته</td>\n",
       "      <td>اسلامی</td>\n",
       "      <td>0</td>\n",
       "      <td>66</td>\n",
       "      <td>50</td>\n",
       "      <td>-1.6</td>\n",
       "      <td>5</td>\n",
       "      <td>1.1</td>\n",
       "      <td>320</td>\n",
       "      <td>...</td>\n",
       "      <td>-2.3</td>\n",
       "      <td>-0.8</td>\n",
       "      <td>26.7</td>\n",
       "      <td>13</td>\n",
       "      <td>0</td>\n",
       "      <td>0</td>\n",
       "      <td></td>\n",
       "      <td>0</td>\n",
       "      <td>0</td>\n",
       "      <td>0</td>\n",
       "    </tr>\n",
       "    <tr>\n",
       "      <th>1</th>\n",
       "      <td>1035</td>\n",
       "      <td>زرین</td>\n",
       "      <td>غلامی عبدی</td>\n",
       "      <td>0</td>\n",
       "      <td>65</td>\n",
       "      <td>50</td>\n",
       "      <td>-2.6</td>\n",
       "      <td>6</td>\n",
       "      <td>0.7</td>\n",
       "      <td>170</td>\n",
       "      <td>...</td>\n",
       "      <td>-3.5</td>\n",
       "      <td>-2</td>\n",
       "      <td>28.3</td>\n",
       "      <td>12</td>\n",
       "      <td>1</td>\n",
       "      <td>0</td>\n",
       "      <td>0</td>\n",
       "      <td>0</td>\n",
       "      <td>0</td>\n",
       "      <td>0</td>\n",
       "    </tr>\n",
       "    <tr>\n",
       "      <th>2</th>\n",
       "      <td>916</td>\n",
       "      <td>فاطمه</td>\n",
       "      <td>قاسمی</td>\n",
       "      <td>0</td>\n",
       "      <td>72</td>\n",
       "      <td>40</td>\n",
       "      <td>-1.7</td>\n",
       "      <td>29</td>\n",
       "      <td>0.7</td>\n",
       "      <td>190</td>\n",
       "      <td>...</td>\n",
       "      <td>-3</td>\n",
       "      <td>-1.1</td>\n",
       "      <td>24.4</td>\n",
       "      <td>12</td>\n",
       "      <td>0</td>\n",
       "      <td>0</td>\n",
       "      <td>0</td>\n",
       "      <td>0</td>\n",
       "      <td>0</td>\n",
       "      <td>0</td>\n",
       "    </tr>\n",
       "    <tr>\n",
       "      <th>3</th>\n",
       "      <td>1358</td>\n",
       "      <td>حلیمه</td>\n",
       "      <td>رضایی</td>\n",
       "      <td>0</td>\n",
       "      <td>62</td>\n",
       "      <td>40</td>\n",
       "      <td>-0.2</td>\n",
       "      <td>1</td>\n",
       "      <td>0.9</td>\n",
       "      <td>175</td>\n",
       "      <td>...</td>\n",
       "      <td>-1.5</td>\n",
       "      <td>0.7</td>\n",
       "      <td>22.6</td>\n",
       "      <td>12</td>\n",
       "      <td></td>\n",
       "      <td></td>\n",
       "      <td>0</td>\n",
       "      <td>0</td>\n",
       "      <td></td>\n",
       "      <td>0</td>\n",
       "    </tr>\n",
       "    <tr>\n",
       "      <th>4</th>\n",
       "      <td>146</td>\n",
       "      <td>زهرا</td>\n",
       "      <td>فلاح مراد</td>\n",
       "      <td>0</td>\n",
       "      <td>76</td>\n",
       "      <td>50</td>\n",
       "      <td>-1.6</td>\n",
       "      <td>13</td>\n",
       "      <td>1.2</td>\n",
       "      <td>290</td>\n",
       "      <td>...</td>\n",
       "      <td>-1.8</td>\n",
       "      <td>0.3</td>\n",
       "      <td>33.2</td>\n",
       "      <td>10</td>\n",
       "      <td></td>\n",
       "      <td></td>\n",
       "      <td>0</td>\n",
       "      <td>0</td>\n",
       "      <td></td>\n",
       "      <td>1</td>\n",
       "    </tr>\n",
       "    <tr>\n",
       "      <th>...</th>\n",
       "      <td>...</td>\n",
       "      <td>...</td>\n",
       "      <td>...</td>\n",
       "      <td>...</td>\n",
       "      <td>...</td>\n",
       "      <td>...</td>\n",
       "      <td>...</td>\n",
       "      <td>...</td>\n",
       "      <td>...</td>\n",
       "      <td>...</td>\n",
       "      <td>...</td>\n",
       "      <td>...</td>\n",
       "      <td>...</td>\n",
       "      <td>...</td>\n",
       "      <td>...</td>\n",
       "      <td>...</td>\n",
       "      <td>...</td>\n",
       "      <td>...</td>\n",
       "      <td>...</td>\n",
       "      <td>...</td>\n",
       "      <td>...</td>\n",
       "    </tr>\n",
       "    <tr>\n",
       "      <th>707</th>\n",
       "      <td>1103</td>\n",
       "      <td>زهرا</td>\n",
       "      <td>امیری</td>\n",
       "      <td>0</td>\n",
       "      <td>77</td>\n",
       "      <td></td>\n",
       "      <td>-2.2</td>\n",
       "      <td>11</td>\n",
       "      <td>1</td>\n",
       "      <td>134</td>\n",
       "      <td>...</td>\n",
       "      <td>-2.9</td>\n",
       "      <td>-0.8</td>\n",
       "      <td></td>\n",
       "      <td></td>\n",
       "      <td>0</td>\n",
       "      <td></td>\n",
       "      <td></td>\n",
       "      <td></td>\n",
       "      <td></td>\n",
       "      <td>1</td>\n",
       "    </tr>\n",
       "    <tr>\n",
       "      <th>708</th>\n",
       "      <td>1107</td>\n",
       "      <td>صدیقه</td>\n",
       "      <td>اسمعیلی</td>\n",
       "      <td>0</td>\n",
       "      <td>65</td>\n",
       "      <td></td>\n",
       "      <td>-1</td>\n",
       "      <td>33</td>\n",
       "      <td>0.8</td>\n",
       "      <td>123</td>\n",
       "      <td>...</td>\n",
       "      <td>-2</td>\n",
       "      <td>-0.5</td>\n",
       "      <td></td>\n",
       "      <td></td>\n",
       "      <td>0</td>\n",
       "      <td></td>\n",
       "      <td></td>\n",
       "      <td></td>\n",
       "      <td></td>\n",
       "      <td>1</td>\n",
       "    </tr>\n",
       "    <tr>\n",
       "      <th>709</th>\n",
       "      <td>1115</td>\n",
       "      <td>سیده ربابه</td>\n",
       "      <td>اکبری</td>\n",
       "      <td>0</td>\n",
       "      <td>62</td>\n",
       "      <td></td>\n",
       "      <td>-0.1</td>\n",
       "      <td>19</td>\n",
       "      <td>0.9</td>\n",
       "      <td>201</td>\n",
       "      <td>...</td>\n",
       "      <td>-2</td>\n",
       "      <td>-0.7</td>\n",
       "      <td></td>\n",
       "      <td></td>\n",
       "      <td>0</td>\n",
       "      <td></td>\n",
       "      <td></td>\n",
       "      <td></td>\n",
       "      <td></td>\n",
       "      <td>0</td>\n",
       "    </tr>\n",
       "    <tr>\n",
       "      <th>710</th>\n",
       "      <td>1109</td>\n",
       "      <td>لیلا</td>\n",
       "      <td>کیا شمشکی</td>\n",
       "      <td>0</td>\n",
       "      <td>56</td>\n",
       "      <td></td>\n",
       "      <td>0.1</td>\n",
       "      <td>32</td>\n",
       "      <td>1</td>\n",
       "      <td>153</td>\n",
       "      <td>...</td>\n",
       "      <td>-1.2</td>\n",
       "      <td>-0.2</td>\n",
       "      <td></td>\n",
       "      <td></td>\n",
       "      <td>0</td>\n",
       "      <td></td>\n",
       "      <td></td>\n",
       "      <td></td>\n",
       "      <td></td>\n",
       "      <td>0</td>\n",
       "    </tr>\n",
       "    <tr>\n",
       "      <th>711</th>\n",
       "      <td>1110</td>\n",
       "      <td>بیتا</td>\n",
       "      <td>حسینی</td>\n",
       "      <td>0</td>\n",
       "      <td>53</td>\n",
       "      <td></td>\n",
       "      <td>1.9</td>\n",
       "      <td>1</td>\n",
       "      <td>1</td>\n",
       "      <td>191</td>\n",
       "      <td>...</td>\n",
       "      <td>0.3</td>\n",
       "      <td>1.2</td>\n",
       "      <td></td>\n",
       "      <td></td>\n",
       "      <td>0</td>\n",
       "      <td></td>\n",
       "      <td></td>\n",
       "      <td></td>\n",
       "      <td></td>\n",
       "      <td>0</td>\n",
       "    </tr>\n",
       "  </tbody>\n",
       "</table>\n",
       "<p>712 rows × 31 columns</p>\n",
       "</div>"
      ],
      "text/plain": [
       "       ID        Name   Last_Name  Sex  Age Menopause_age Tscore_Hip_total  \\\n",
       "0    1163      گلدسته      اسلامی    0   66            50             -1.6   \n",
       "1    1035        زرین  غلامی عبدی    0   65            50             -2.6   \n",
       "2     916       فاطمه       قاسمی    0   72            40             -1.7   \n",
       "3    1358       حلیمه       رضایی    0   62            40             -0.2   \n",
       "4     146        زهرا   فلاح مراد    0   76            50             -1.6   \n",
       "..    ...         ...         ...  ...  ...           ...              ...   \n",
       "707  1103        زهرا       امیری    0   77                           -2.2   \n",
       "708  1107       صدیقه     اسمعیلی    0   65                             -1   \n",
       "709  1115  سیده ربابه       اکبری    0   62                           -0.1   \n",
       "710  1109        لیلا   کیا شمشکی    0   56                            0.1   \n",
       "711  1110        بیتا       حسینی    0   53                            1.9   \n",
       "\n",
       "    CRP   Cr  ALP  ... Tscore_Hip_neck Zscore_Hip_neck   BMI Pregnancy_Count  \\\n",
       "0     5  1.1  320  ...            -2.3            -0.8  26.7              13   \n",
       "1     6  0.7  170  ...            -3.5              -2  28.3              12   \n",
       "2    29  0.7  190  ...              -3            -1.1  24.4              12   \n",
       "3     1  0.9  175  ...            -1.5             0.7  22.6              12   \n",
       "4    13  1.2  290  ...            -1.8             0.3  33.2              10   \n",
       "..   ..  ...  ...  ...             ...             ...   ...             ...   \n",
       "707  11    1  134  ...            -2.9            -0.8                         \n",
       "708  33  0.8  123  ...              -2            -0.5                         \n",
       "709  19  0.9  201  ...              -2            -0.7                         \n",
       "710  32    1  153  ...            -1.2            -0.2                         \n",
       "711   1    1  191  ...             0.3             1.2                         \n",
       "\n",
       "    Histroy_Anticoagulant Active_Smoking History_Smoking Calcium_Supplement  \\\n",
       "0                       0              0                                  0   \n",
       "1                       1              0               0                  0   \n",
       "2                       0              0               0                  0   \n",
       "3                                                      0                  0   \n",
       "4                                                      0                  0   \n",
       "..                    ...            ...             ...                ...   \n",
       "707                     0                                                     \n",
       "708                     0                                                     \n",
       "709                     0                                                     \n",
       "710                     0                                                     \n",
       "711                     0                                                     \n",
       "\n",
       "    History_Diabetes_2 Refracture  \n",
       "0                    0          0  \n",
       "1                    0          0  \n",
       "2                    0          0  \n",
       "3                               0  \n",
       "4                               1  \n",
       "..                 ...        ...  \n",
       "707                             1  \n",
       "708                             1  \n",
       "709                             0  \n",
       "710                             0  \n",
       "711                             0  \n",
       "\n",
       "[712 rows x 31 columns]"
      ]
     },
     "metadata": {},
     "output_type": "display_data"
    }
   ],
   "source": [
    "display(Dataset)"
   ]
  },
  {
   "cell_type": "code",
   "execution_count": 4,
   "id": "66fefd06",
   "metadata": {},
   "outputs": [],
   "source": [
    "Dataset.drop(\"Name\", axis = 1, inplace=True)\n",
    "Dataset.drop(\"Last_Name\", axis = 1, inplace=True)\n",
    "Dataset.replace(r'\\s+', np.nan, regex=True, inplace=True)"
   ]
  },
  {
   "cell_type": "code",
   "execution_count": 5,
   "id": "721302f8",
   "metadata": {},
   "outputs": [
    {
     "data": {
      "text/html": [
       "<div>\n",
       "<style scoped>\n",
       "    .dataframe tbody tr th:only-of-type {\n",
       "        vertical-align: middle;\n",
       "    }\n",
       "\n",
       "    .dataframe tbody tr th {\n",
       "        vertical-align: top;\n",
       "    }\n",
       "\n",
       "    .dataframe thead th {\n",
       "        text-align: right;\n",
       "    }\n",
       "</style>\n",
       "<table border=\"1\" class=\"dataframe\">\n",
       "  <thead>\n",
       "    <tr style=\"text-align: right;\">\n",
       "      <th></th>\n",
       "      <th>ID</th>\n",
       "      <th>Sex</th>\n",
       "      <th>Age</th>\n",
       "      <th>Menopause_age</th>\n",
       "      <th>Tscore_Hip_total</th>\n",
       "      <th>CRP</th>\n",
       "      <th>Cr</th>\n",
       "      <th>ALP</th>\n",
       "      <th>BUN</th>\n",
       "      <th>P</th>\n",
       "      <th>...</th>\n",
       "      <th>Tscore_Hip_neck</th>\n",
       "      <th>Zscore_Hip_neck</th>\n",
       "      <th>BMI</th>\n",
       "      <th>Pregnancy_Count</th>\n",
       "      <th>Histroy_Anticoagulant</th>\n",
       "      <th>Active_Smoking</th>\n",
       "      <th>History_Smoking</th>\n",
       "      <th>Calcium_Supplement</th>\n",
       "      <th>History_Diabetes_2</th>\n",
       "      <th>Refracture</th>\n",
       "    </tr>\n",
       "  </thead>\n",
       "  <tbody>\n",
       "    <tr>\n",
       "      <th>0</th>\n",
       "      <td>1163</td>\n",
       "      <td>0</td>\n",
       "      <td>66</td>\n",
       "      <td>50</td>\n",
       "      <td>-1.6</td>\n",
       "      <td>5</td>\n",
       "      <td>1.1</td>\n",
       "      <td>320</td>\n",
       "      <td>25</td>\n",
       "      <td>4.5</td>\n",
       "      <td>...</td>\n",
       "      <td>-2.3</td>\n",
       "      <td>-0.8</td>\n",
       "      <td>26.7</td>\n",
       "      <td>13</td>\n",
       "      <td>0</td>\n",
       "      <td>0</td>\n",
       "      <td>NaN</td>\n",
       "      <td>0</td>\n",
       "      <td>0</td>\n",
       "      <td>0</td>\n",
       "    </tr>\n",
       "    <tr>\n",
       "      <th>1</th>\n",
       "      <td>1035</td>\n",
       "      <td>0</td>\n",
       "      <td>65</td>\n",
       "      <td>50</td>\n",
       "      <td>-2.6</td>\n",
       "      <td>6</td>\n",
       "      <td>0.7</td>\n",
       "      <td>170</td>\n",
       "      <td>17</td>\n",
       "      <td>4.2</td>\n",
       "      <td>...</td>\n",
       "      <td>-3.5</td>\n",
       "      <td>-2</td>\n",
       "      <td>28.3</td>\n",
       "      <td>12</td>\n",
       "      <td>1</td>\n",
       "      <td>0</td>\n",
       "      <td>0</td>\n",
       "      <td>0</td>\n",
       "      <td>0</td>\n",
       "      <td>0</td>\n",
       "    </tr>\n",
       "    <tr>\n",
       "      <th>2</th>\n",
       "      <td>916</td>\n",
       "      <td>0</td>\n",
       "      <td>72</td>\n",
       "      <td>40</td>\n",
       "      <td>-1.7</td>\n",
       "      <td>29</td>\n",
       "      <td>0.7</td>\n",
       "      <td>190</td>\n",
       "      <td>19</td>\n",
       "      <td>4.3</td>\n",
       "      <td>...</td>\n",
       "      <td>-3</td>\n",
       "      <td>-1.1</td>\n",
       "      <td>24.4</td>\n",
       "      <td>12</td>\n",
       "      <td>0</td>\n",
       "      <td>0</td>\n",
       "      <td>0</td>\n",
       "      <td>0</td>\n",
       "      <td>0</td>\n",
       "      <td>0</td>\n",
       "    </tr>\n",
       "    <tr>\n",
       "      <th>3</th>\n",
       "      <td>1358</td>\n",
       "      <td>0</td>\n",
       "      <td>62</td>\n",
       "      <td>40</td>\n",
       "      <td>-0.2</td>\n",
       "      <td>1</td>\n",
       "      <td>0.9</td>\n",
       "      <td>175</td>\n",
       "      <td>16</td>\n",
       "      <td>3.2</td>\n",
       "      <td>...</td>\n",
       "      <td>-1.5</td>\n",
       "      <td>0.7</td>\n",
       "      <td>22.6</td>\n",
       "      <td>12</td>\n",
       "      <td>NaN</td>\n",
       "      <td>NaN</td>\n",
       "      <td>0</td>\n",
       "      <td>0</td>\n",
       "      <td>NaN</td>\n",
       "      <td>0</td>\n",
       "    </tr>\n",
       "    <tr>\n",
       "      <th>4</th>\n",
       "      <td>146</td>\n",
       "      <td>0</td>\n",
       "      <td>76</td>\n",
       "      <td>50</td>\n",
       "      <td>-1.6</td>\n",
       "      <td>13</td>\n",
       "      <td>1.2</td>\n",
       "      <td>290</td>\n",
       "      <td>23</td>\n",
       "      <td>3.3</td>\n",
       "      <td>...</td>\n",
       "      <td>-1.8</td>\n",
       "      <td>0.3</td>\n",
       "      <td>33.2</td>\n",
       "      <td>10</td>\n",
       "      <td>NaN</td>\n",
       "      <td>NaN</td>\n",
       "      <td>0</td>\n",
       "      <td>0</td>\n",
       "      <td>NaN</td>\n",
       "      <td>1</td>\n",
       "    </tr>\n",
       "    <tr>\n",
       "      <th>...</th>\n",
       "      <td>...</td>\n",
       "      <td>...</td>\n",
       "      <td>...</td>\n",
       "      <td>...</td>\n",
       "      <td>...</td>\n",
       "      <td>...</td>\n",
       "      <td>...</td>\n",
       "      <td>...</td>\n",
       "      <td>...</td>\n",
       "      <td>...</td>\n",
       "      <td>...</td>\n",
       "      <td>...</td>\n",
       "      <td>...</td>\n",
       "      <td>...</td>\n",
       "      <td>...</td>\n",
       "      <td>...</td>\n",
       "      <td>...</td>\n",
       "      <td>...</td>\n",
       "      <td>...</td>\n",
       "      <td>...</td>\n",
       "      <td>...</td>\n",
       "    </tr>\n",
       "    <tr>\n",
       "      <th>707</th>\n",
       "      <td>1103</td>\n",
       "      <td>0</td>\n",
       "      <td>77</td>\n",
       "      <td>NaN</td>\n",
       "      <td>-2.2</td>\n",
       "      <td>11</td>\n",
       "      <td>1</td>\n",
       "      <td>134</td>\n",
       "      <td>11</td>\n",
       "      <td>3.7</td>\n",
       "      <td>...</td>\n",
       "      <td>-2.9</td>\n",
       "      <td>-0.8</td>\n",
       "      <td>NaN</td>\n",
       "      <td>NaN</td>\n",
       "      <td>0</td>\n",
       "      <td>NaN</td>\n",
       "      <td>NaN</td>\n",
       "      <td>NaN</td>\n",
       "      <td>NaN</td>\n",
       "      <td>1</td>\n",
       "    </tr>\n",
       "    <tr>\n",
       "      <th>708</th>\n",
       "      <td>1107</td>\n",
       "      <td>0</td>\n",
       "      <td>65</td>\n",
       "      <td>NaN</td>\n",
       "      <td>-1</td>\n",
       "      <td>33</td>\n",
       "      <td>0.8</td>\n",
       "      <td>123</td>\n",
       "      <td>12</td>\n",
       "      <td>2.3</td>\n",
       "      <td>...</td>\n",
       "      <td>-2</td>\n",
       "      <td>-0.5</td>\n",
       "      <td>NaN</td>\n",
       "      <td>NaN</td>\n",
       "      <td>0</td>\n",
       "      <td>NaN</td>\n",
       "      <td>NaN</td>\n",
       "      <td>NaN</td>\n",
       "      <td>NaN</td>\n",
       "      <td>1</td>\n",
       "    </tr>\n",
       "    <tr>\n",
       "      <th>709</th>\n",
       "      <td>1115</td>\n",
       "      <td>0</td>\n",
       "      <td>62</td>\n",
       "      <td>NaN</td>\n",
       "      <td>-0.1</td>\n",
       "      <td>19</td>\n",
       "      <td>0.9</td>\n",
       "      <td>201</td>\n",
       "      <td>12</td>\n",
       "      <td>4.7</td>\n",
       "      <td>...</td>\n",
       "      <td>-2</td>\n",
       "      <td>-0.7</td>\n",
       "      <td>NaN</td>\n",
       "      <td>NaN</td>\n",
       "      <td>0</td>\n",
       "      <td>NaN</td>\n",
       "      <td>NaN</td>\n",
       "      <td>NaN</td>\n",
       "      <td>NaN</td>\n",
       "      <td>0</td>\n",
       "    </tr>\n",
       "    <tr>\n",
       "      <th>710</th>\n",
       "      <td>1109</td>\n",
       "      <td>0</td>\n",
       "      <td>56</td>\n",
       "      <td>NaN</td>\n",
       "      <td>0.1</td>\n",
       "      <td>32</td>\n",
       "      <td>1</td>\n",
       "      <td>153</td>\n",
       "      <td>16</td>\n",
       "      <td>4</td>\n",
       "      <td>...</td>\n",
       "      <td>-1.2</td>\n",
       "      <td>-0.2</td>\n",
       "      <td>NaN</td>\n",
       "      <td>NaN</td>\n",
       "      <td>0</td>\n",
       "      <td>NaN</td>\n",
       "      <td>NaN</td>\n",
       "      <td>NaN</td>\n",
       "      <td>NaN</td>\n",
       "      <td>0</td>\n",
       "    </tr>\n",
       "    <tr>\n",
       "      <th>711</th>\n",
       "      <td>1110</td>\n",
       "      <td>0</td>\n",
       "      <td>53</td>\n",
       "      <td>NaN</td>\n",
       "      <td>1.9</td>\n",
       "      <td>1</td>\n",
       "      <td>1</td>\n",
       "      <td>191</td>\n",
       "      <td>13</td>\n",
       "      <td>3</td>\n",
       "      <td>...</td>\n",
       "      <td>0.3</td>\n",
       "      <td>1.2</td>\n",
       "      <td>NaN</td>\n",
       "      <td>NaN</td>\n",
       "      <td>0</td>\n",
       "      <td>NaN</td>\n",
       "      <td>NaN</td>\n",
       "      <td>NaN</td>\n",
       "      <td>NaN</td>\n",
       "      <td>0</td>\n",
       "    </tr>\n",
       "  </tbody>\n",
       "</table>\n",
       "<p>712 rows × 29 columns</p>\n",
       "</div>"
      ],
      "text/plain": [
       "       ID  Sex  Age Menopause_age Tscore_Hip_total CRP   Cr  ALP BUN    P  \\\n",
       "0    1163    0   66            50             -1.6   5  1.1  320  25  4.5   \n",
       "1    1035    0   65            50             -2.6   6  0.7  170  17  4.2   \n",
       "2     916    0   72            40             -1.7  29  0.7  190  19  4.3   \n",
       "3    1358    0   62            40             -0.2   1  0.9  175  16  3.2   \n",
       "4     146    0   76            50             -1.6  13  1.2  290  23  3.3   \n",
       "..    ...  ...  ...           ...              ...  ..  ...  ...  ..  ...   \n",
       "707  1103    0   77           NaN             -2.2  11    1  134  11  3.7   \n",
       "708  1107    0   65           NaN               -1  33  0.8  123  12  2.3   \n",
       "709  1115    0   62           NaN             -0.1  19  0.9  201  12  4.7   \n",
       "710  1109    0   56           NaN              0.1  32    1  153  16    4   \n",
       "711  1110    0   53           NaN              1.9   1    1  191  13    3   \n",
       "\n",
       "     ... Tscore_Hip_neck Zscore_Hip_neck   BMI Pregnancy_Count  \\\n",
       "0    ...            -2.3            -0.8  26.7              13   \n",
       "1    ...            -3.5              -2  28.3              12   \n",
       "2    ...              -3            -1.1  24.4              12   \n",
       "3    ...            -1.5             0.7  22.6              12   \n",
       "4    ...            -1.8             0.3  33.2              10   \n",
       "..   ...             ...             ...   ...             ...   \n",
       "707  ...            -2.9            -0.8   NaN             NaN   \n",
       "708  ...              -2            -0.5   NaN             NaN   \n",
       "709  ...              -2            -0.7   NaN             NaN   \n",
       "710  ...            -1.2            -0.2   NaN             NaN   \n",
       "711  ...             0.3             1.2   NaN             NaN   \n",
       "\n",
       "    Histroy_Anticoagulant Active_Smoking History_Smoking Calcium_Supplement  \\\n",
       "0                       0              0             NaN                  0   \n",
       "1                       1              0               0                  0   \n",
       "2                       0              0               0                  0   \n",
       "3                     NaN            NaN               0                  0   \n",
       "4                     NaN            NaN               0                  0   \n",
       "..                    ...            ...             ...                ...   \n",
       "707                     0            NaN             NaN                NaN   \n",
       "708                     0            NaN             NaN                NaN   \n",
       "709                     0            NaN             NaN                NaN   \n",
       "710                     0            NaN             NaN                NaN   \n",
       "711                     0            NaN             NaN                NaN   \n",
       "\n",
       "    History_Diabetes_2 Refracture  \n",
       "0                    0          0  \n",
       "1                    0          0  \n",
       "2                    0          0  \n",
       "3                  NaN          0  \n",
       "4                  NaN          1  \n",
       "..                 ...        ...  \n",
       "707                NaN          1  \n",
       "708                NaN          1  \n",
       "709                NaN          0  \n",
       "710                NaN          0  \n",
       "711                NaN          0  \n",
       "\n",
       "[712 rows x 29 columns]"
      ]
     },
     "metadata": {},
     "output_type": "display_data"
    }
   ],
   "source": [
    "display(Dataset)"
   ]
  },
  {
   "cell_type": "code",
   "execution_count": 6,
   "id": "c59ee98e",
   "metadata": {},
   "outputs": [
    {
     "data": {
      "text/plain": [
       "ID                         0\n",
       "Sex                        0\n",
       "Age                        0\n",
       "Menopause_age             44\n",
       "Tscore_Hip_total          59\n",
       "CRP                       25\n",
       "Cr                        25\n",
       "ALP                       34\n",
       "BUN                       36\n",
       "P                         37\n",
       "Ca                        31\n",
       "PTH                      122\n",
       "Vit_D3                    53\n",
       "BMD_vertebra              75\n",
       "Tscore_vertebra           73\n",
       "Zscore_vertebra           73\n",
       "BMD_Hip_total             57\n",
       "Zscore_hip_total          58\n",
       "BMD_Hip_Neck              60\n",
       "Tscore_Hip_neck           60\n",
       "Zscore_Hip_neck           60\n",
       "BMI                       11\n",
       "Pregnancy_Count           97\n",
       "Histroy_Anticoagulant    125\n",
       "Active_Smoking           155\n",
       "History_Smoking           37\n",
       "Calcium_Supplement        39\n",
       "History_Diabetes_2       115\n",
       "Refracture                 0\n",
       "dtype: int64"
      ]
     },
     "execution_count": 6,
     "metadata": {},
     "output_type": "execute_result"
    }
   ],
   "source": [
    "Dataset.isnull().sum()"
   ]
  },
  {
   "cell_type": "code",
   "execution_count": 7,
   "id": "dc59f134",
   "metadata": {},
   "outputs": [
    {
     "name": "stdout",
     "output_type": "stream",
     "text": [
      "Percent of missing \"Menopause_age\" records is 6.18%\n",
      "Percent of missing \"Tscore_Hip_total\" records is 8.29%\n",
      "Percent of missing \"CRP\" records is 3.51%\n",
      "Percent of missing \"Cr\" records is 3.51%\n",
      "Percent of missing \"ALP\" records is 4.78%\n",
      "Percent of missing \"BUN\" records is 5.06%\n",
      "Percent of missing \"P\" records is 5.20%\n",
      "Percent of missing \"Ca\" records is 4.35%\n",
      "Percent of missing \"PTH\" records is 17.13%\n",
      "Percent of missing \"Vit_D3\" records is 7.44%\n",
      "Percent of missing \"BMD_vertebra\" records is 10.53%\n",
      "Percent of missing \"Tscore_vertebra\" records is 10.25%\n",
      "Percent of missing \"Zscore_vertebra\" records is 10.25%\n",
      "Percent of missing \"BMD_Hip_total\" records is 8.01%\n",
      "Percent of missing \"Zscore_hip_total\" records is 8.15%\n",
      "Percent of missing \"BMD_Hip_Neck\" records is 8.43%\n",
      "Percent of missing \"Tscore_Hip_neck\" records is 8.43%\n",
      "Percent of missing \"Zscore_Hip_neck\" records is 8.43%\n",
      "Percent of missing \"BMI\" records is 1.54%\n",
      "Percent of missing \"Pregnancy_Count\" records is 13.62%\n",
      "Percent of missing \"Histroy_Anticoagulant\" records is 17.56%\n",
      "Percent of missing \"Active_Smoking\" records is 21.77%\n",
      "Percent of missing \"History_Smoking\" records is 5.20%\n",
      "Percent of missing \"Calcium_Supplement\" records is 5.48%\n",
      "Percent of missing \"History_Diabetes_2\" records is 16.15%\n"
     ]
    }
   ],
   "source": [
    "print('Percent of missing \"Menopause_age\" records is %.2f%%' %((Dataset['Menopause_age'].isnull().sum()/Dataset.shape[0])*100))\n",
    "print('Percent of missing \"Tscore_Hip_total\" records is %.2f%%' %((Dataset['Tscore_Hip_total'].isnull().sum()/Dataset.shape[0])*100))\n",
    "print('Percent of missing \"CRP\" records is %.2f%%' %((Dataset['CRP'].isnull().sum()/Dataset.shape[0])*100))\n",
    "print('Percent of missing \"Cr\" records is %.2f%%' %((Dataset['Cr'].isnull().sum()/Dataset.shape[0])*100))\n",
    "print('Percent of missing \"ALP\" records is %.2f%%' %((Dataset['ALP'].isnull().sum()/Dataset.shape[0])*100))\n",
    "print('Percent of missing \"BUN\" records is %.2f%%' %((Dataset['BUN'].isnull().sum()/Dataset.shape[0])*100))\n",
    "print('Percent of missing \"P\" records is %.2f%%' %((Dataset['P'].isnull().sum()/Dataset.shape[0])*100))\n",
    "print('Percent of missing \"Ca\" records is %.2f%%' %((Dataset['Ca'].isnull().sum()/Dataset.shape[0])*100))\n",
    "print('Percent of missing \"PTH\" records is %.2f%%' %((Dataset['PTH'].isnull().sum()/Dataset.shape[0])*100))\n",
    "print('Percent of missing \"Vit_D3\" records is %.2f%%' %((Dataset['Vit_D3'].isnull().sum()/Dataset.shape[0])*100))\n",
    "print('Percent of missing \"BMD_vertebra\" records is %.2f%%' %((Dataset['BMD_vertebra'].isnull().sum()/Dataset.shape[0])*100))\n",
    "print('Percent of missing \"Tscore_vertebra\" records is %.2f%%' %((Dataset['Tscore_vertebra'].isnull().sum()/Dataset.shape[0])*100))\n",
    "print('Percent of missing \"Zscore_vertebra\" records is %.2f%%' %((Dataset['Zscore_vertebra'].isnull().sum()/Dataset.shape[0])*100))\n",
    "print('Percent of missing \"BMD_Hip_total\" records is %.2f%%' %((Dataset['BMD_Hip_total'].isnull().sum()/Dataset.shape[0])*100))\n",
    "print('Percent of missing \"Zscore_hip_total\" records is %.2f%%' %((Dataset['Zscore_hip_total'].isnull().sum()/Dataset.shape[0])*100))\n",
    "print('Percent of missing \"BMD_Hip_Neck\" records is %.2f%%' %((Dataset['BMD_Hip_Neck'].isnull().sum()/Dataset.shape[0])*100))\n",
    "print('Percent of missing \"Tscore_Hip_neck\" records is %.2f%%' %((Dataset['Tscore_Hip_neck'].isnull().sum()/Dataset.shape[0])*100))\n",
    "print('Percent of missing \"Zscore_Hip_neck\" records is %.2f%%' %((Dataset['Zscore_Hip_neck'].isnull().sum()/Dataset.shape[0])*100))\n",
    "print('Percent of missing \"BMI\" records is %.2f%%' %((Dataset['BMI'].isnull().sum()/Dataset.shape[0])*100))\n",
    "print('Percent of missing \"Pregnancy_Count\" records is %.2f%%' %((Dataset['Pregnancy_Count'].isnull().sum()/Dataset.shape[0])*100))\n",
    "print('Percent of missing \"Histroy_Anticoagulant\" records is %.2f%%' %((Dataset['Histroy_Anticoagulant'].isnull().sum()/Dataset.shape[0])*100))\n",
    "print('Percent of missing \"Active_Smoking\" records is %.2f%%' %((Dataset['Active_Smoking'].isnull().sum()/Dataset.shape[0])*100))\n",
    "print('Percent of missing \"History_Smoking\" records is %.2f%%' %((Dataset['History_Smoking'].isnull().sum()/Dataset.shape[0])*100))\n",
    "print('Percent of missing \"Calcium_Supplement\" records is %.2f%%' %((Dataset['Calcium_Supplement'].isnull().sum()/Dataset.shape[0])*100))\n",
    "print('Percent of missing \"History_Diabetes_2\" records is %.2f%%' %((Dataset['History_Diabetes_2'].isnull().sum()/Dataset.shape[0])*100))\n"
   ]
  },
  {
   "cell_type": "code",
   "execution_count": 7,
   "id": "3c773b81",
   "metadata": {},
   "outputs": [
    {
     "name": "stdout",
     "output_type": "stream",
     "text": [
      "0    712\n",
      "Name: Sex, dtype: int64\n"
     ]
    },
    {
     "data": {
      "image/png": "[encoded data removed]",
      "text/plain": [
       "<Figure size 432x288 with 1 Axes>"
      ]
     },
     "metadata": {},
     "output_type": "display_data"
    }
   ],
   "source": [
    "#Visualizing the distribution of variables\n",
    "print(Dataset['Sex'].value_counts())\n",
    "sns.countplot(x='Sex', data=Dataset, palette='Set2')\n",
    "plt.show()"
   ]
  },
  {
   "cell_type": "code",
   "execution_count": 8,
   "id": "ba739311",
   "metadata": {},
   "outputs": [
    {
     "data": {
      "image/png": "[encoded data removed]",
      "text/plain": [
       "<Figure size 432x288 with 1 Axes>"
      ]
     },
     "metadata": {},
     "output_type": "display_data"
    }
   ],
   "source": [
    "#Visualizing the distribution of variables\n",
    "ax = Dataset[\"Age\"].hist(bins=15, density=True, stacked=True, color='teal', alpha=0.6)\n",
    "ax = Dataset[\"Age\"].hist(bins=15, density=True, stacked=True, color='teal', alpha=0.6)\n",
    "Dataset[\"Age\"].plot(kind='density', color='teal')\n",
    "ax.set(xlabel='Age')\n",
    "plt.xlim(0,100)\n",
    "plt.show()"
   ]
  },
  {
   "cell_type": "code",
   "execution_count": 9,
   "id": "22f5e4b9",
   "metadata": {},
   "outputs": [
    {
     "data": {
      "text/plain": [
       "ID                        int64\n",
       "Sex                       int64\n",
       "Age                       int64\n",
       "Menopause_age            object\n",
       "Tscore_Hip_total         object\n",
       "CRP                      object\n",
       "Cr                       object\n",
       "ALP                      object\n",
       "BUN                      object\n",
       "P                        object\n",
       "Ca                       object\n",
       "PTH                      object\n",
       "Vit_D3                   object\n",
       "BMD_vertebra             object\n",
       "Tscore_vertebra          object\n",
       "Zscore_vertebra          object\n",
       "BMD_Hip_total            object\n",
       "Zscore_hip_total         object\n",
       "BMD_Hip_Neck             object\n",
       "Tscore_Hip_neck          object\n",
       "Zscore_Hip_neck          object\n",
       "BMI                      object\n",
       "Pregnancy_Count          object\n",
       "Histroy_Anticoagulant    object\n",
       "Active_Smoking           object\n",
       "History_Smoking          object\n",
       "Calcium_Supplement       object\n",
       "History_Diabetes_2       object\n",
       "Refracture                int64\n",
       "dtype: object"
      ]
     },
     "execution_count": 9,
     "metadata": {},
     "output_type": "execute_result"
    }
   ],
   "source": [
    "Dataset.dtypes"
   ]
  },
  {
   "cell_type": "code",
   "execution_count": 10,
   "id": "934a2c96",
   "metadata": {},
   "outputs": [],
   "source": [
    "Dataset[\"Menopause_age\"] = Dataset[\"Menopause_age\"].astype(\"float\")\n",
    "Dataset[\"Tscore_Hip_total\"] = Dataset[\"Tscore_Hip_total\"].astype(\"float\")\n",
    "Dataset[\"CRP\"] = Dataset[\"CRP\"].astype(\"float\")\n",
    "Dataset[\"Cr\"] = Dataset[\"Cr\"].astype(\"float\")\n",
    "Dataset[\"ALP\"] = Dataset[\"ALP\"].astype(\"float\")\n",
    "Dataset[\"BUN\"] = Dataset[\"BUN\"].astype(\"float\")\n",
    "Dataset[\"P\"] = Dataset[\"P\"].astype(\"float\")\n",
    "Dataset[\"Ca\"] = Dataset[\"Ca\"].astype(\"float\")\n",
    "Dataset[\"PTH\"] = Dataset[\"PTH\"].astype(\"float\")\n",
    "Dataset[\"Vit_D3\"] = Dataset[\"Vit_D3\"].astype(\"float\")\n",
    "Dataset[\"BMD_vertebra\"] = Dataset[\"BMD_vertebra\"].astype(\"float\")\n",
    "Dataset[\"Tscore_vertebra\"] = Dataset[\"Tscore_vertebra\"].astype(\"float\")\n",
    "Dataset[\"Zscore_vertebra\"] = Dataset[\"Zscore_vertebra\"].astype(\"float\")\n",
    "Dataset[\"BMD_Hip_total\"] = Dataset[\"BMD_Hip_total\"].astype(\"float\")\n",
    "Dataset[\"Zscore_hip_total\"] = Dataset[\"Zscore_hip_total\"].astype(\"float\")\n",
    "Dataset[\"BMD_Hip_Neck\"] = Dataset[\"BMD_Hip_Neck\"].astype(\"float\")\n",
    "Dataset[\"Tscore_Hip_neck\"] = Dataset[\"Tscore_Hip_neck\"].astype(\"float\")\n",
    "Dataset[\"Zscore_Hip_neck\"] = Dataset[\"Zscore_Hip_neck\"].astype(\"float\")\n",
    "Dataset[\"BMI\"] = Dataset[\"BMI\"].astype(\"float\")\n",
    "Dataset[\"Pregnancy_Count\"] = Dataset[\"Pregnancy_Count\"].astype(\"float\")"
   ]
  },
  {
   "cell_type": "code",
   "execution_count": 11,
   "id": "7be6bf9c",
   "metadata": {},
   "outputs": [
    {
     "data": {
      "text/plain": [
       "ID                         int64\n",
       "Sex                        int64\n",
       "Age                        int64\n",
       "Menopause_age            float64\n",
       "Tscore_Hip_total         float64\n",
       "CRP                      float64\n",
       "Cr                       float64\n",
       "ALP                      float64\n",
       "BUN                      float64\n",
       "P                        float64\n",
       "Ca                       float64\n",
       "PTH                      float64\n",
       "Vit_D3                   float64\n",
       "BMD_vertebra             float64\n",
       "Tscore_vertebra          float64\n",
       "Zscore_vertebra          float64\n",
       "BMD_Hip_total            float64\n",
       "Zscore_hip_total         float64\n",
       "BMD_Hip_Neck             float64\n",
       "Tscore_Hip_neck          float64\n",
       "Zscore_Hip_neck          float64\n",
       "BMI                      float64\n",
       "Pregnancy_Count          float64\n",
       "Histroy_Anticoagulant     object\n",
       "Active_Smoking            object\n",
       "History_Smoking           object\n",
       "Calcium_Supplement        object\n",
       "History_Diabetes_2        object\n",
       "Refracture                 int64\n",
       "dtype: object"
      ]
     },
     "execution_count": 11,
     "metadata": {},
     "output_type": "execute_result"
    }
   ],
   "source": [
    "Dataset.dtypes"
   ]
  },
  {
   "cell_type": "code",
   "execution_count": 12,
   "id": "b6082dab",
   "metadata": {},
   "outputs": [
    {
     "data": {
      "image/png": "[encoded data removed]",
      "text/plain": [
       "<Figure size 432x288 with 1 Axes>"
      ]
     },
     "metadata": {},
     "output_type": "display_data"
    }
   ],
   "source": [
    "#Visualizing the distribution of variables\n",
    "ax = Dataset[\"Menopause_age\"].hist(bins=15, density=True, stacked=True, color='teal', alpha=0.6)\n",
    "ax = Dataset[\"Menopause_age\"].hist(bins=15, density=True, stacked=True, color='teal', alpha=0.6)\n",
    "Dataset[\"Menopause_age\"].plot(kind='density', color='teal')\n",
    "ax.set(xlabel='Menopause_age')\n",
    "plt.xlim(0,100)\n",
    "plt.show()"
   ]
  },
  {
   "cell_type": "code",
   "execution_count": 13,
   "id": "caec29b6",
   "metadata": {},
   "outputs": [
    {
     "data": {
      "image/png": "[encoded data removed]",
      "text/plain": [
       "<Figure size 432x288 with 1 Axes>"
      ]
     },
     "metadata": {},
     "output_type": "display_data"
    }
   ],
   "source": [
    "#Visualizing the distribution of variables\n",
    "ax = Dataset[\"Tscore_Hip_total\"].hist(bins=15, density=True, stacked=True, color='teal', alpha=0.6)\n",
    "ax = Dataset[\"Tscore_Hip_total\"].hist(bins=15, density=True, stacked=True, color='teal', alpha=0.6)\n",
    "Dataset[\"Tscore_Hip_total\"].plot(kind='density', color='teal')\n",
    "ax.set(xlabel='Tscore_Hip_total')\n",
    "plt.xlim(-10,10)\n",
    "plt.show()"
   ]
  },
  {
   "cell_type": "code",
   "execution_count": 14,
   "id": "47cf9c5a",
   "metadata": {},
   "outputs": [
    {
     "data": {
      "image/png": "[encoded data removed]",
      "text/plain": [
       "<Figure size 432x288 with 1 Axes>"
      ]
     },
     "metadata": {},
     "output_type": "display_data"
    }
   ],
   "source": [
    "#Visualizing the distribution of variables\n",
    "ax = Dataset[\"CRP\"].hist(bins=15, density=True, stacked=True, color='teal', alpha=0.6)\n",
    "ax = Dataset[\"CRP\"].hist(bins=15, density=True, stacked=True, color='teal', alpha=0.6)\n",
    "Dataset[\"CRP\"].plot(kind='density', color='teal')\n",
    "ax.set(xlabel='CRP')\n",
    "plt.xlim(-20,200)\n",
    "plt.show()"
   ]
  },
  {
   "cell_type": "code",
   "execution_count": 15,
   "id": "06cc31c7",
   "metadata": {},
   "outputs": [
    {
     "data": {
      "image/png": "[encoded data removed]",
      "text/plain": [
       "<Figure size 432x288 with 1 Axes>"
      ]
     },
     "metadata": {},
     "output_type": "display_data"
    }
   ],
   "source": [
    "#Visualizing the distribution of variables\n",
    "ax = Dataset[\"Cr\"].hist(bins=15, density=True, stacked=True, color='teal', alpha=0.6)\n",
    "ax = Dataset[\"Cr\"].hist(bins=15, density=True, stacked=True, color='teal', alpha=0.6)\n",
    "Dataset[\"Cr\"].plot(kind='density', color='red')\n",
    "ax.set(xlabel='Cr')\n",
    "plt.xlim(-5,5)\n",
    "plt.show()"
   ]
  },
  {
   "cell_type": "code",
   "execution_count": 16,
   "id": "ce3f08a8",
   "metadata": {},
   "outputs": [
    {
     "data": {
      "image/png": "[encoded data removed]",
      "text/plain": [
       "<Figure size 432x288 with 1 Axes>"
      ]
     },
     "metadata": {},
     "output_type": "display_data"
    }
   ],
   "source": [
    "#Visualizing the distribution of variables\n",
    "ax = Dataset[\"ALP\"].hist(bins=15, density=True, stacked=True, color='teal', alpha=0.6)\n",
    "ax = Dataset[\"ALP\"].hist(bins=15, density=True, stacked=True, color='teal', alpha=0.6)\n",
    "Dataset[\"ALP\"].plot(kind='density', color='red')\n",
    "ax.set(xlabel='ALP')\n",
    "plt.xlim(-100,700)\n",
    "plt.show()"
   ]
  },
  {
   "cell_type": "code",
   "execution_count": 17,
   "id": "e52c7934",
   "metadata": {},
   "outputs": [
    {
     "data": {
      "image/png": "[encoded data removed]",
      "text/plain": [
       "<Figure size 432x288 with 1 Axes>"
      ]
     },
     "metadata": {},
     "output_type": "display_data"
    }
   ],
   "source": [
    "#Visualizing the distribution of variables\n",
    "ax = Dataset[\"BUN\"].hist(bins=15, density=True, stacked=True, color='teal', alpha=0.6)\n",
    "ax = Dataset[\"BUN\"].hist(bins=15, density=True, stacked=True, color='teal', alpha=0.6)\n",
    "Dataset[\"BUN\"].plot(kind='density', color='red')\n",
    "ax.set(xlabel='BUN')\n",
    "plt.xlim(-10,50)\n",
    "plt.show()"
   ]
  },
  {
   "cell_type": "code",
   "execution_count": 18,
   "id": "d29922d4",
   "metadata": {},
   "outputs": [
    {
     "data": {
      "image/png": "[encoded data removed]",
      "text/plain": [
       "<Figure size 432x288 with 1 Axes>"
      ]
     },
     "metadata": {},
     "output_type": "display_data"
    }
   ],
   "source": [
    "#Visualizing the distribution of variables\n",
    "ax = Dataset[\"P\"].hist(bins=15, density=True, stacked=True, color='teal', alpha=0.6)\n",
    "ax = Dataset[\"P\"].hist(bins=15, density=True, stacked=True, color='teal', alpha=0.6)\n",
    "Dataset[\"P\"].plot(kind='density', color='red')\n",
    "ax.set(xlabel='P')\n",
    "plt.xlim(-5,10)\n",
    "plt.show()"
   ]
  },
  {
   "cell_type": "code",
   "execution_count": 19,
   "id": "88394e2f",
   "metadata": {},
   "outputs": [
    {
     "data": {
      "image/png": "[encoded data removed]",
      "text/plain": [
       "<Figure size 432x288 with 1 Axes>"
      ]
     },
     "metadata": {},
     "output_type": "display_data"
    }
   ],
   "source": [
    "#Visualizing the distribution of variables\n",
    "ax = Dataset[\"Ca\"].hist(bins=15, density=True, stacked=True, color='teal', alpha=0.6)\n",
    "ax = Dataset[\"Ca\"].hist(bins=15, density=True, stacked=True, color='teal', alpha=0.6)\n",
    "Dataset[\"Ca\"].plot(kind='density', color='red')\n",
    "ax.set(xlabel='Ca')\n",
    "plt.xlim(-5,20)\n",
    "plt.show()"
   ]
  },
  {
   "cell_type": "code",
   "execution_count": 20,
   "id": "717e430f",
   "metadata": {},
   "outputs": [
    {
     "data": {
      "image/png": "[encoded data removed]",
      "text/plain": [
       "<Figure size 432x288 with 1 Axes>"
      ]
     },
     "metadata": {},
     "output_type": "display_data"
    }
   ],
   "source": [
    "#Visualizing the distribution of variables\n",
    "ax = Dataset[\"PTH\"].hist(bins=15, density=True, stacked=True, color='teal', alpha=0.6)\n",
    "ax = Dataset[\"PTH\"].hist(bins=15, density=True, stacked=True, color='teal', alpha=0.6)\n",
    "Dataset[\"PTH\"].plot(kind='density', color='red')\n",
    "ax.set(xlabel='PTH')\n",
    "plt.xlim(-5,150)\n",
    "plt.show()"
   ]
  },
  {
   "cell_type": "code",
   "execution_count": 21,
   "id": "c3371fa1",
   "metadata": {},
   "outputs": [
    {
     "data": {
      "image/png": "[encoded data removed]",
      "text/plain": [
       "<Figure size 432x288 with 1 Axes>"
      ]
     },
     "metadata": {},
     "output_type": "display_data"
    }
   ],
   "source": [
    "#Visualizing the distribution of variables\n",
    "ax = Dataset[\"Vit_D3\"].hist(bins=15, density=True, stacked=True, color='teal', alpha=0.6)\n",
    "ax = Dataset[\"Vit_D3\"].hist(bins=15, density=True, stacked=True, color='teal', alpha=0.6)\n",
    "Dataset[\"Vit_D3\"].plot(kind='density', color='red')\n",
    "ax.set(xlabel='Vit_D3')\n",
    "plt.xlim(-5,150)\n",
    "plt.show()"
   ]
  },
  {
   "cell_type": "code",
   "execution_count": 22,
   "id": "47a081fa",
   "metadata": {},
   "outputs": [
    {
     "data": {
      "image/png": "[encoded data removed]",
      "text/plain": [
       "<Figure size 432x288 with 1 Axes>"
      ]
     },
     "metadata": {},
     "output_type": "display_data"
    }
   ],
   "source": [
    "#Visualizing the distribution of variables\n",
    "ax = Dataset[\"BMD_vertebra\"].hist(bins=15, density=True, stacked=True, color='teal', alpha=0.6)\n",
    "ax = Dataset[\"BMD_vertebra\"].hist(bins=15, density=True, stacked=True, color='teal', alpha=0.6)\n",
    "Dataset[\"BMD_vertebra\"].plot(kind='density', color='red')\n",
    "ax.set(xlabel='BMD_vertebra')\n",
    "plt.xlim(-5,2.5)\n",
    "plt.show()"
   ]
  },
  {
   "cell_type": "code",
   "execution_count": 23,
   "id": "a9bf8369",
   "metadata": {},
   "outputs": [
    {
     "data": {
      "image/png": "[encoded data removed]",
      "text/plain": [
       "<Figure size 432x288 with 1 Axes>"
      ]
     },
     "metadata": {},
     "output_type": "display_data"
    }
   ],
   "source": [
    "#Visualizing the distribution of variables\n",
    "ax = Dataset[\"Tscore_vertebra\"].hist(bins=15, density=True, stacked=True, color='teal', alpha=0.6)\n",
    "ax = Dataset[\"Tscore_vertebra\"].hist(bins=15, density=True, stacked=True, color='teal', alpha=0.6)\n",
    "Dataset[\"Tscore_vertebra\"].plot(kind='density', color='red')\n",
    "ax.set(xlabel='Tscore_vertebra')\n",
    "plt.xlim(-10,10)\n",
    "plt.show()"
   ]
  },
  {
   "cell_type": "code",
   "execution_count": 24,
   "id": "dfa94017",
   "metadata": {},
   "outputs": [
    {
     "data": {
      "image/png": "[encoded data removed]",
      "text/plain": [
       "<Figure size 432x288 with 1 Axes>"
      ]
     },
     "metadata": {},
     "output_type": "display_data"
    }
   ],
   "source": [
    "#Visualizing the distribution of variables\n",
    "ax = Dataset[\"Zscore_vertebra\"].hist(bins=15, density=True, stacked=True, color='teal', alpha=0.6)\n",
    "ax = Dataset[\"Zscore_vertebra\"].hist(bins=15, density=True, stacked=True, color='teal', alpha=0.6)\n",
    "Dataset[\"Zscore_vertebra\"].plot(kind='density', color='red')\n",
    "ax.set(xlabel='Zscore_vertebra')\n",
    "plt.xlim(-10,10)\n",
    "plt.show()"
   ]
  },
  {
   "cell_type": "code",
   "execution_count": 25,
   "id": "9f90f0df",
   "metadata": {},
   "outputs": [
    {
     "data": {
      "image/png": "[encoded data removed]",
      "text/plain": [
       "<Figure size 432x288 with 1 Axes>"
      ]
     },
     "metadata": {},
     "output_type": "display_data"
    }
   ],
   "source": [
    "#Visualizing the distribution of variables\n",
    "ax = Dataset[\"BMD_Hip_total\"].hist(bins=15, density=True, stacked=True, color='teal', alpha=0.6)\n",
    "ax = Dataset[\"BMD_Hip_total\"].hist(bins=15, density=True, stacked=True, color='teal', alpha=0.6)\n",
    "Dataset[\"BMD_Hip_total\"].plot(kind='density', color='red')\n",
    "ax.set(xlabel='BMD_Hip_total')\n",
    "plt.xlim(-5,5)\n",
    "plt.show()"
   ]
  },
  {
   "cell_type": "code",
   "execution_count": 26,
   "id": "d2aa9457",
   "metadata": {},
   "outputs": [
    {
     "data": {
      "image/png": "[encoded data removed]",
      "text/plain": [
       "<Figure size 432x288 with 1 Axes>"
      ]
     },
     "metadata": {},
     "output_type": "display_data"
    }
   ],
   "source": [
    "#Visualizing the distribution of variables\n",
    "ax = Dataset[\"Zscore_hip_total\"].hist(bins=15, density=True, stacked=True, color='teal', alpha=0.6)\n",
    "ax = Dataset[\"Zscore_hip_total\"].hist(bins=15, density=True, stacked=True, color='teal', alpha=0.6)\n",
    "Dataset[\"Zscore_hip_total\"].plot(kind='density', color='red')\n",
    "ax.set(xlabel='Zscore_hip_total')\n",
    "plt.xlim(-5,5)\n",
    "plt.show()"
   ]
  },
  {
   "cell_type": "code",
   "execution_count": 27,
   "id": "cf3c2595",
   "metadata": {},
   "outputs": [
    {
     "data": {
      "image/png": "[encoded data removed]",
      "text/plain": [
       "<Figure size 432x288 with 1 Axes>"
      ]
     },
     "metadata": {},
     "output_type": "display_data"
    }
   ],
   "source": [
    "#Visualizing the distribution of variables\n",
    "ax = Dataset[\"BMD_Hip_Neck\"].hist(bins=15, density=True, stacked=True, color='teal', alpha=0.6)\n",
    "ax = Dataset[\"BMD_Hip_Neck\"].hist(bins=15, density=True, stacked=True, color='teal', alpha=0.6)\n",
    "Dataset[\"BMD_Hip_Neck\"].plot(kind='density', color='red')\n",
    "ax.set(xlabel='BMD_Hip_Neck')\n",
    "plt.xlim(-5,5)\n",
    "plt.show()"
   ]
  },
  {
   "cell_type": "code",
   "execution_count": 28,
   "id": "182b1ffc",
   "metadata": {},
   "outputs": [
    {
     "data": {
      "image/png": "[encoded data removed]",
      "text/plain": [
       "<Figure size 432x288 with 1 Axes>"
      ]
     },
     "metadata": {},
     "output_type": "display_data"
    }
   ],
   "source": [
    "#Visualizing the distribution of variables\n",
    "ax = Dataset[\"Tscore_Hip_neck\"].hist(bins=15, density=True, stacked=True, color='teal', alpha=0.6)\n",
    "ax = Dataset[\"Tscore_Hip_neck\"].hist(bins=15, density=True, stacked=True, color='teal', alpha=0.6)\n",
    "Dataset[\"Tscore_Hip_neck\"].plot(kind='density', color='red')\n",
    "ax.set(xlabel='Tscore_Hip_neck')\n",
    "plt.xlim(-5,5)\n",
    "plt.show()"
   ]
  },
  {
   "cell_type": "code",
   "execution_count": 29,
   "id": "d5f40d49",
   "metadata": {},
   "outputs": [
    {
     "data": {
      "image/png": "[encoded data removed]",
      "text/plain": [
       "<Figure size 432x288 with 1 Axes>"
      ]
     },
     "metadata": {},
     "output_type": "display_data"
    }
   ],
   "source": [
    "#Visualizing the distribution of variables\n",
    "ax = Dataset[\"Zscore_Hip_neck\"].hist(bins=15, density=True, stacked=True, color='teal', alpha=0.6)\n",
    "ax = Dataset[\"Zscore_Hip_neck\"].hist(bins=15, density=True, stacked=True, color='teal', alpha=0.6)\n",
    "Dataset[\"Zscore_Hip_neck\"].plot(kind='density', color='red')\n",
    "ax.set(xlabel='Zscore_Hip_neck')\n",
    "plt.xlim(-5,5)\n",
    "plt.show()"
   ]
  },
  {
   "cell_type": "code",
   "execution_count": 30,
   "id": "12fcabea",
   "metadata": {},
   "outputs": [
    {
     "data": {
      "image/png": "[encoded data removed]",
      "text/plain": [
       "<Figure size 432x288 with 1 Axes>"
      ]
     },
     "metadata": {},
     "output_type": "display_data"
    }
   ],
   "source": [
    "#Visualizing the distribution of variables\n",
    "ax = Dataset[\"BMI\"].hist(bins=15, density=True, stacked=True, color='teal', alpha=0.6)\n",
    "ax = Dataset[\"BMI\"].hist(bins=15, density=True, stacked=True, color='teal', alpha=0.6)\n",
    "Dataset[\"BMI\"].plot(kind='density', color='red')\n",
    "ax.set(xlabel='BMI')\n",
    "plt.xlim(0,50)\n",
    "plt.show()"
   ]
  },
  {
   "cell_type": "code",
   "execution_count": 31,
   "id": "8fdf09df",
   "metadata": {},
   "outputs": [
    {
     "data": {
      "image/png": "[encoded data removed]",
      "text/plain": [
       "<Figure size 432x288 with 1 Axes>"
      ]
     },
     "metadata": {},
     "output_type": "display_data"
    }
   ],
   "source": [
    "#Visualizing the distribution of variables\n",
    "ax = Dataset[\"Pregnancy_Count\"].hist(bins=15, density=True, stacked=True, color='teal', alpha=0.6)\n",
    "ax = Dataset[\"Pregnancy_Count\"].hist(bins=15, density=True, stacked=True, color='teal', alpha=0.6)\n",
    "Dataset[\"Pregnancy_Count\"].plot(kind='density', color='red')\n",
    "ax.set(xlabel='Pregnancy_Count')\n",
    "plt.xlim(-10,50)\n",
    "plt.show()"
   ]
  },
  {
   "cell_type": "code",
   "execution_count": 32,
   "id": "e6ed3dcb",
   "metadata": {},
   "outputs": [
    {
     "name": "stdout",
     "output_type": "stream",
     "text": [
      "0    483\n",
      "1    104\n",
      "Name: Histroy_Anticoagulant, dtype: int64\n"
     ]
    },
    {
     "data": {
      "image/png": "[encoded data removed]",
      "text/plain": [
       "<Figure size 432x288 with 1 Axes>"
      ]
     },
     "metadata": {},
     "output_type": "display_data"
    }
   ],
   "source": [
    "#Visualizing the distribution of variables\n",
    "print(Dataset['Histroy_Anticoagulant'].value_counts())\n",
    "sns.countplot(x='Histroy_Anticoagulant', data=Dataset, palette='Set2')\n",
    "plt.show()"
   ]
  },
  {
   "cell_type": "code",
   "execution_count": 33,
   "id": "531ba041",
   "metadata": {},
   "outputs": [
    {
     "name": "stdout",
     "output_type": "stream",
     "text": [
      "0    540\n",
      "1     17\n",
      "Name: Active_Smoking, dtype: int64\n"
     ]
    },
    {
     "data": {
      "image/png": "[encoded data removed]",
      "text/plain": [
       "<Figure size 432x288 with 1 Axes>"
      ]
     },
     "metadata": {},
     "output_type": "display_data"
    }
   ],
   "source": [
    "#Visualizing the distribution of variables\n",
    "print(Dataset['Active_Smoking'].value_counts())\n",
    "sns.countplot(x='Active_Smoking', data=Dataset, palette='Set2')\n",
    "plt.show()"
   ]
  },
  {
   "cell_type": "code",
   "execution_count": 34,
   "id": "b25e5114",
   "metadata": {},
   "outputs": [
    {
     "name": "stdout",
     "output_type": "stream",
     "text": [
      "0    654\n",
      "1     21\n",
      "Name: History_Smoking, dtype: int64\n"
     ]
    },
    {
     "data": {
      "image/png": "[encoded data removed]",
      "text/plain": [
       "<Figure size 432x288 with 1 Axes>"
      ]
     },
     "metadata": {},
     "output_type": "display_data"
    }
   ],
   "source": [
    "#Visualizing the distribution of variables\n",
    "print(Dataset['History_Smoking'].value_counts())\n",
    "sns.countplot(x='History_Smoking', data=Dataset, palette='Set2')\n",
    "plt.show()"
   ]
  },
  {
   "cell_type": "code",
   "execution_count": 35,
   "id": "e5fc4989",
   "metadata": {},
   "outputs": [
    {
     "name": "stdout",
     "output_type": "stream",
     "text": [
      "0    446\n",
      "1    151\n",
      "Name: History_Diabetes_2, dtype: int64\n"
     ]
    },
    {
     "data": {
      "image/png": "[encoded data removed]",
      "text/plain": [
       "<Figure size 432x288 with 1 Axes>"
      ]
     },
     "metadata": {},
     "output_type": "display_data"
    }
   ],
   "source": [
    "#Visualizing the distribution of variables\n",
    "print(Dataset['History_Diabetes_2'].value_counts())\n",
    "sns.countplot(x='History_Diabetes_2', data=Dataset, palette='Set2')\n",
    "plt.show()"
   ]
  },
  {
   "cell_type": "code",
   "execution_count": 36,
   "id": "1fb2abf5",
   "metadata": {},
   "outputs": [
    {
     "name": "stdout",
     "output_type": "stream",
     "text": [
      "0    576\n",
      "1     97\n",
      "Name: Calcium_Supplement, dtype: int64\n"
     ]
    },
    {
     "data": {
      "image/png": "[encoded data removed]",
      "text/plain": [
       "<Figure size 432x288 with 1 Axes>"
      ]
     },
     "metadata": {},
     "output_type": "display_data"
    }
   ],
   "source": [
    "#Visualizing the distribution of variables\n",
    "print(Dataset['Calcium_Supplement'].value_counts())\n",
    "sns.countplot(x='Calcium_Supplement', data=Dataset, palette='Set2')\n",
    "plt.show()"
   ]
  },
  {
   "cell_type": "code",
   "execution_count": 37,
   "id": "1430304c",
   "metadata": {},
   "outputs": [
    {
     "data": {
      "text/plain": [
       "Index(['ID', 'Sex', 'Age', 'Menopause_age', 'Tscore_Hip_total', 'CRP', 'Cr',\n",
       "       'ALP', 'BUN', 'P', 'Ca', 'PTH', 'Vit_D3', 'BMD_vertebra',\n",
       "       'Tscore_vertebra', 'Zscore_vertebra', 'BMD_Hip_total',\n",
       "       'Zscore_hip_total', 'BMD_Hip_Neck', 'Tscore_Hip_neck',\n",
       "       'Zscore_Hip_neck', 'BMI', 'Pregnancy_Count', 'Histroy_Anticoagulant',\n",
       "       'Active_Smoking', 'History_Smoking', 'Calcium_Supplement',\n",
       "       'History_Diabetes_2', 'Refracture'],\n",
       "      dtype='object')"
      ]
     },
     "execution_count": 37,
     "metadata": {},
     "output_type": "execute_result"
    }
   ],
   "source": [
    "Dataset.columns"
   ]
  },
  {
   "cell_type": "code",
   "execution_count": 38,
   "id": "aac343a5",
   "metadata": {},
   "outputs": [],
   "source": [
    "Dataset['Menopause_age'].fillna(Dataset[\"Menopause_age\"].median(skipna=True), inplace=True)\n",
    "Dataset['Tscore_Hip_total'].fillna(Dataset[\"Tscore_Hip_total\"].mean(skipna=True), inplace=True)\n",
    "Dataset['CRP'].fillna(Dataset[\"CRP\"].median(skipna=True), inplace=True)\n",
    "Dataset['Cr'].fillna(Dataset[\"Cr\"].mean(skipna=True), inplace=True)\n",
    "Dataset['ALP'].fillna(Dataset[\"ALP\"].mean(skipna=True), inplace=True)\n",
    "Dataset['BUN'].fillna(Dataset[\"BUN\"].mean(skipna=True), inplace=True)\n",
    "Dataset['P'].fillna(Dataset[\"P\"].mean(skipna=True), inplace=True)\n",
    "Dataset['Ca'].fillna(Dataset[\"Ca\"].mean(skipna=True), inplace=True)\n",
    "Dataset['PTH'].fillna(Dataset[\"PTH\"].median(skipna=True), inplace=True)\n",
    "Dataset['Vit_D3'].fillna(Dataset[\"Vit_D3\"].mean(skipna=True), inplace=True)\n",
    "Dataset['BMD_vertebra'].fillna(Dataset[\"BMD_vertebra\"].mean(skipna=True), inplace=True)\n",
    "Dataset['Tscore_vertebra'].fillna(Dataset[\"Tscore_vertebra\"].mean(skipna=True), inplace=True)\n",
    "Dataset['Zscore_vertebra'].fillna(Dataset[\"Zscore_vertebra\"].mean(skipna=True), inplace=True)\n",
    "Dataset['BMD_Hip_total'].fillna(Dataset[\"BMD_Hip_total\"].mean(skipna=True), inplace=True)\n",
    "Dataset['Zscore_hip_total'].fillna(Dataset[\"Zscore_hip_total\"].median(skipna=True), inplace=True)\n",
    "Dataset['BMD_Hip_Neck'].fillna(Dataset[\"BMD_Hip_Neck\"].mean(skipna=True), inplace=True)\n",
    "Dataset['Tscore_Hip_neck'].fillna(Dataset[\"Tscore_Hip_neck\"].mean(skipna=True), inplace=True)\n",
    "Dataset['Zscore_Hip_neck'].fillna(Dataset[\"Zscore_Hip_neck\"].mean(skipna=True), inplace=True)\n",
    "Dataset['BMI'].fillna(Dataset[\"BMI\"].mean(skipna=True), inplace=True)\n",
    "Dataset['Pregnancy_Count'].fillna(Dataset[\"Pregnancy_Count\"].median(skipna=True), inplace=True)\n",
    "Dataset['Histroy_Anticoagulant'].fillna(0, inplace=True)\n",
    "Dataset['Active_Smoking'].fillna(0, inplace=True)\n",
    "Dataset['History_Smoking'].fillna(0, inplace=True)\n",
    "Dataset['Calcium_Supplement'].fillna(0, inplace=True)\n",
    "Dataset['History_Diabetes_2'].fillna(0, inplace=True)"
   ]
  },
  {
   "cell_type": "code",
   "execution_count": 39,
   "id": "92985a3c",
   "metadata": {},
   "outputs": [
    {
     "data": {
      "text/plain": [
       "ID                       0\n",
       "Sex                      0\n",
       "Age                      0\n",
       "Menopause_age            0\n",
       "Tscore_Hip_total         0\n",
       "CRP                      0\n",
       "Cr                       0\n",
       "ALP                      0\n",
       "BUN                      0\n",
       "P                        0\n",
       "Ca                       0\n",
       "PTH                      0\n",
       "Vit_D3                   0\n",
       "BMD_vertebra             0\n",
       "Tscore_vertebra          0\n",
       "Zscore_vertebra          0\n",
       "BMD_Hip_total            0\n",
       "Zscore_hip_total         0\n",
       "BMD_Hip_Neck             0\n",
       "Tscore_Hip_neck          0\n",
       "Zscore_Hip_neck          0\n",
       "BMI                      0\n",
       "Pregnancy_Count          0\n",
       "Histroy_Anticoagulant    0\n",
       "Active_Smoking           0\n",
       "History_Smoking          0\n",
       "Calcium_Supplement       0\n",
       "History_Diabetes_2       0\n",
       "Refracture               0\n",
       "dtype: int64"
      ]
     },
     "execution_count": 39,
     "metadata": {},
     "output_type": "execute_result"
    }
   ],
   "source": [
    "Dataset.isnull().sum()"
   ]
  },
  {
   "cell_type": "code",
   "execution_count": 40,
   "id": "29a91879",
   "metadata": {},
   "outputs": [
    {
     "data": {
      "text/plain": [
       "Age                        int64\n",
       "Menopause_age            float64\n",
       "Tscore_Hip_total         float64\n",
       "CRP                      float64\n",
       "Cr                       float64\n",
       "ALP                      float64\n",
       "BUN                      float64\n",
       "P                        float64\n",
       "Ca                       float64\n",
       "PTH                      float64\n",
       "Vit_D3                   float64\n",
       "BMD_vertebra             float64\n",
       "Tscore_vertebra          float64\n",
       "Zscore_vertebra          float64\n",
       "BMD_Hip_total            float64\n",
       "Zscore_hip_total         float64\n",
       "BMD_Hip_Neck             float64\n",
       "Tscore_Hip_neck          float64\n",
       "Zscore_Hip_neck          float64\n",
       "BMI                      float64\n",
       "Pregnancy_Count          float64\n",
       "Histroy_Anticoagulant     object\n",
       "Active_Smoking            object\n",
       "History_Smoking           object\n",
       "Calcium_Supplement        object\n",
       "History_Diabetes_2        object\n",
       "Refracture                 int64\n",
       "dtype: object"
      ]
     },
     "execution_count": 40,
     "metadata": {},
     "output_type": "execute_result"
    }
   ],
   "source": [
    "Dataset.drop(\"ID\", axis=1, inplace= True)\n",
    "Dataset.drop(\"Sex\", axis=1, inplace= True)\n",
    "Dataset.dtypes"
   ]
  },
  {
   "cell_type": "code",
   "execution_count": 41,
   "id": "790e89ca",
   "metadata": {},
   "outputs": [],
   "source": [
    "Dataset[\"Histroy_Anticoagulant\"] = Dataset[\"Histroy_Anticoagulant\"].astype(\"int\")\n",
    "Dataset[\"Active_Smoking\"] = Dataset[\"Active_Smoking\"].astype(\"int\")\n",
    "Dataset[\"History_Smoking\"] = Dataset[\"History_Smoking\"].astype(\"int\")\n",
    "Dataset[\"Calcium_Supplement\"] = Dataset[\"Calcium_Supplement\"].astype(\"int\")\n",
    "Dataset[\"History_Diabetes_2\"] = Dataset[\"History_Diabetes_2\"].astype(\"int\")\n",
    "Dataset[\"Refracture\"] = Dataset[\"Refracture\"].astype(\"int\")"
   ]
  },
  {
   "cell_type": "code",
   "execution_count": 42,
   "id": "263d3d8d",
   "metadata": {},
   "outputs": [],
   "source": [
    "Dataset.to_csv(\"Dataset_Female_Final.csv\")"
   ]
  },
  {
   "cell_type": "code",
   "execution_count": 43,
   "id": "97f2427c",
   "metadata": {},
   "outputs": [],
   "source": [
    "X= Dataset.loc[:, Dataset.columns != 'Refracture']\n",
    "Y = Dataset[\"Refracture\"]"
   ]
  },
  {
   "cell_type": "code",
   "execution_count": 44,
   "id": "08444902",
   "metadata": {},
   "outputs": [
    {
     "name": "stdout",
     "output_type": "stream",
     "text": [
      "Fitting 10 folds for each of 270 candidates, totalling 2700 fits\n"
     ]
    },
    {
     "data": {
      "text/plain": [
       "GridSearchCV(cv=10,\n",
       "             estimator=XGBClassifier(base_score=None, booster=None,\n",
       "                                     callbacks=None, colsample_bylevel=None,\n",
       "                                     colsample_bynode=None,\n",
       "                                     colsample_bytree=None,\n",
       "                                     early_stopping_rounds=None,\n",
       "                                     enable_categorical=False, eval_metric=None,\n",
       "                                     gamma=None, gpu_id=None, grow_policy=None,\n",
       "                                     importance_type=None,\n",
       "                                     interaction_constraints=None,\n",
       "                                     learning_rate=None, max_bin=None,\n",
       "                                     max_c...\n",
       "                                     max_delta_step=None, max_depth=None,\n",
       "                                     max_leaves=None, min_child_weight=None,\n",
       "                                     missing=nan, monotone_constraints=None,\n",
       "                                     n_estimators=100, n_jobs=None, nthread=4,\n",
       "                                     num_parallel_tree=None, predictor=None,\n",
       "                                     random_state=None, reg_alpha=None, ...),\n",
       "             param_grid={'colsample_bytree': [0.3, 0.5, 0.8],\n",
       "                         'learning_rate': [0.1, 0.01, 0.001],\n",
       "                         'max_depth': [3, 4, 6, 8, 10, 15],\n",
       "                         'n_estimators': range(100, 1000, 200)},\n",
       "             verbose=1)"
      ]
     },
     "execution_count": 44,
     "metadata": {},
     "output_type": "execute_result"
    }
   ],
   "source": [
    "xgb = XGBClassifier( objective= 'binary:logistic', nthread=4, seed=42)\n",
    "\n",
    "params = {\n",
    "    \"max_depth\": [ 3, 4, 6, 8, 10, 15],\n",
    "    'n_estimators': range(100,1000,200),\n",
    "    'learning_rate': [0.1,0.01,0.001],\n",
    "    \"colsample_bytree\" : [0.3, 0.5 , 0.8]\n",
    "}\n",
    "\n",
    "cv = GridSearchCV(xgb,params,cv=10, verbose=1)\n",
    "cv.fit(X,Y.values.ravel(), verbose=1)"
   ]
  },
  {
   "cell_type": "code",
   "execution_count": 45,
   "id": "3b09f434",
   "metadata": {},
   "outputs": [
    {
     "name": "stdout",
     "output_type": "stream",
     "text": [
      "Best parameters are: {'colsample_bytree': 0.5, 'learning_rate': 0.01, 'max_depth': 3, 'n_estimators': 700}\n",
      "Best Score is : 0.7907276995305165 \n",
      "\n",
      "\n",
      "0.784 + or -0.017 for the {'colsample_bytree': 0.3, 'learning_rate': 0.1, 'max_depth': 3, 'n_estimators': 100}\n",
      "0.764 + or -0.031 for the {'colsample_bytree': 0.3, 'learning_rate': 0.1, 'max_depth': 3, 'n_estimators': 300}\n",
      "0.749 + or -0.044 for the {'colsample_bytree': 0.3, 'learning_rate': 0.1, 'max_depth': 3, 'n_estimators': 500}\n",
      "0.743 + or -0.039 for the {'colsample_bytree': 0.3, 'learning_rate': 0.1, 'max_depth': 3, 'n_estimators': 700}\n",
      "0.732 + or -0.04 for the {'colsample_bytree': 0.3, 'learning_rate': 0.1, 'max_depth': 3, 'n_estimators': 900}\n",
      "0.772 + or -0.017 for the {'colsample_bytree': 0.3, 'learning_rate': 0.1, 'max_depth': 4, 'n_estimators': 100}\n",
      "0.75 + or -0.04 for the {'colsample_bytree': 0.3, 'learning_rate': 0.1, 'max_depth': 4, 'n_estimators': 300}\n",
      "0.741 + or -0.044 for the {'colsample_bytree': 0.3, 'learning_rate': 0.1, 'max_depth': 4, 'n_estimators': 500}\n",
      "0.739 + or -0.041 for the {'colsample_bytree': 0.3, 'learning_rate': 0.1, 'max_depth': 4, 'n_estimators': 700}\n",
      "0.739 + or -0.039 for the {'colsample_bytree': 0.3, 'learning_rate': 0.1, 'max_depth': 4, 'n_estimators': 900}\n",
      "0.779 + or -0.024 for the {'colsample_bytree': 0.3, 'learning_rate': 0.1, 'max_depth': 6, 'n_estimators': 100}\n",
      "0.765 + or -0.026 for the {'colsample_bytree': 0.3, 'learning_rate': 0.1, 'max_depth': 6, 'n_estimators': 300}\n",
      "0.764 + or -0.03 for the {'colsample_bytree': 0.3, 'learning_rate': 0.1, 'max_depth': 6, 'n_estimators': 500}\n",
      "0.757 + or -0.039 for the {'colsample_bytree': 0.3, 'learning_rate': 0.1, 'max_depth': 6, 'n_estimators': 700}\n",
      "0.758 + or -0.037 for the {'colsample_bytree': 0.3, 'learning_rate': 0.1, 'max_depth': 6, 'n_estimators': 900}\n",
      "0.775 + or -0.021 for the {'colsample_bytree': 0.3, 'learning_rate': 0.1, 'max_depth': 8, 'n_estimators': 100}\n",
      "0.772 + or -0.018 for the {'colsample_bytree': 0.3, 'learning_rate': 0.1, 'max_depth': 8, 'n_estimators': 300}\n",
      "0.765 + or -0.024 for the {'colsample_bytree': 0.3, 'learning_rate': 0.1, 'max_depth': 8, 'n_estimators': 500}\n",
      "0.767 + or -0.025 for the {'colsample_bytree': 0.3, 'learning_rate': 0.1, 'max_depth': 8, 'n_estimators': 700}\n",
      "0.767 + or -0.026 for the {'colsample_bytree': 0.3, 'learning_rate': 0.1, 'max_depth': 8, 'n_estimators': 900}\n",
      "0.782 + or -0.017 for the {'colsample_bytree': 0.3, 'learning_rate': 0.1, 'max_depth': 10, 'n_estimators': 100}\n",
      "0.772 + or -0.02 for the {'colsample_bytree': 0.3, 'learning_rate': 0.1, 'max_depth': 10, 'n_estimators': 300}\n",
      "0.77 + or -0.022 for the {'colsample_bytree': 0.3, 'learning_rate': 0.1, 'max_depth': 10, 'n_estimators': 500}\n",
      "0.767 + or -0.023 for the {'colsample_bytree': 0.3, 'learning_rate': 0.1, 'max_depth': 10, 'n_estimators': 700}\n",
      "0.767 + or -0.023 for the {'colsample_bytree': 0.3, 'learning_rate': 0.1, 'max_depth': 10, 'n_estimators': 900}\n",
      "0.782 + or -0.021 for the {'colsample_bytree': 0.3, 'learning_rate': 0.1, 'max_depth': 15, 'n_estimators': 100}\n",
      "0.774 + or -0.019 for the {'colsample_bytree': 0.3, 'learning_rate': 0.1, 'max_depth': 15, 'n_estimators': 300}\n",
      "0.771 + or -0.021 for the {'colsample_bytree': 0.3, 'learning_rate': 0.1, 'max_depth': 15, 'n_estimators': 500}\n",
      "0.77 + or -0.02 for the {'colsample_bytree': 0.3, 'learning_rate': 0.1, 'max_depth': 15, 'n_estimators': 700}\n",
      "0.77 + or -0.019 for the {'colsample_bytree': 0.3, 'learning_rate': 0.1, 'max_depth': 15, 'n_estimators': 900}\n",
      "0.791 + or -0.004 for the {'colsample_bytree': 0.3, 'learning_rate': 0.01, 'max_depth': 3, 'n_estimators': 100}\n",
      "0.791 + or -0.004 for the {'colsample_bytree': 0.3, 'learning_rate': 0.01, 'max_depth': 3, 'n_estimators': 300}\n",
      "0.788 + or -0.008 for the {'colsample_bytree': 0.3, 'learning_rate': 0.01, 'max_depth': 3, 'n_estimators': 500}\n",
      "0.788 + or -0.012 for the {'colsample_bytree': 0.3, 'learning_rate': 0.01, 'max_depth': 3, 'n_estimators': 700}\n",
      "0.787 + or -0.015 for the {'colsample_bytree': 0.3, 'learning_rate': 0.01, 'max_depth': 3, 'n_estimators': 900}\n",
      "0.791 + or -0.004 for the {'colsample_bytree': 0.3, 'learning_rate': 0.01, 'max_depth': 4, 'n_estimators': 100}\n",
      "0.789 + or -0.006 for the {'colsample_bytree': 0.3, 'learning_rate': 0.01, 'max_depth': 4, 'n_estimators': 300}\n",
      "0.787 + or -0.008 for the {'colsample_bytree': 0.3, 'learning_rate': 0.01, 'max_depth': 4, 'n_estimators': 500}\n",
      "0.782 + or -0.014 for the {'colsample_bytree': 0.3, 'learning_rate': 0.01, 'max_depth': 4, 'n_estimators': 700}\n",
      "0.779 + or -0.016 for the {'colsample_bytree': 0.3, 'learning_rate': 0.01, 'max_depth': 4, 'n_estimators': 900}\n",
      "0.791 + or -0.004 for the {'colsample_bytree': 0.3, 'learning_rate': 0.01, 'max_depth': 6, 'n_estimators': 100}\n",
      "0.788 + or -0.008 for the {'colsample_bytree': 0.3, 'learning_rate': 0.01, 'max_depth': 6, 'n_estimators': 300}\n",
      "0.787 + or -0.008 for the {'colsample_bytree': 0.3, 'learning_rate': 0.01, 'max_depth': 6, 'n_estimators': 500}\n",
      "0.784 + or -0.011 for the {'colsample_bytree': 0.3, 'learning_rate': 0.01, 'max_depth': 6, 'n_estimators': 700}\n",
      "0.782 + or -0.01 for the {'colsample_bytree': 0.3, 'learning_rate': 0.01, 'max_depth': 6, 'n_estimators': 900}\n",
      "0.791 + or -0.004 for the {'colsample_bytree': 0.3, 'learning_rate': 0.01, 'max_depth': 8, 'n_estimators': 100}\n",
      "0.789 + or -0.006 for the {'colsample_bytree': 0.3, 'learning_rate': 0.01, 'max_depth': 8, 'n_estimators': 300}\n",
      "0.789 + or -0.006 for the {'colsample_bytree': 0.3, 'learning_rate': 0.01, 'max_depth': 8, 'n_estimators': 500}\n",
      "0.788 + or -0.008 for the {'colsample_bytree': 0.3, 'learning_rate': 0.01, 'max_depth': 8, 'n_estimators': 700}\n",
      "0.787 + or -0.011 for the {'colsample_bytree': 0.3, 'learning_rate': 0.01, 'max_depth': 8, 'n_estimators': 900}\n",
      "0.791 + or -0.004 for the {'colsample_bytree': 0.3, 'learning_rate': 0.01, 'max_depth': 10, 'n_estimators': 100}\n",
      "0.789 + or -0.006 for the {'colsample_bytree': 0.3, 'learning_rate': 0.01, 'max_depth': 10, 'n_estimators': 300}\n",
      "0.789 + or -0.006 for the {'colsample_bytree': 0.3, 'learning_rate': 0.01, 'max_depth': 10, 'n_estimators': 500}\n",
      "0.789 + or -0.006 for the {'colsample_bytree': 0.3, 'learning_rate': 0.01, 'max_depth': 10, 'n_estimators': 700}\n",
      "0.788 + or -0.01 for the {'colsample_bytree': 0.3, 'learning_rate': 0.01, 'max_depth': 10, 'n_estimators': 900}\n",
      "0.791 + or -0.004 for the {'colsample_bytree': 0.3, 'learning_rate': 0.01, 'max_depth': 15, 'n_estimators': 100}\n",
      "0.788 + or -0.005 for the {'colsample_bytree': 0.3, 'learning_rate': 0.01, 'max_depth': 15, 'n_estimators': 300}\n",
      "0.791 + or -0.004 for the {'colsample_bytree': 0.3, 'learning_rate': 0.01, 'max_depth': 15, 'n_estimators': 500}\n",
      "0.788 + or -0.005 for the {'colsample_bytree': 0.3, 'learning_rate': 0.01, 'max_depth': 15, 'n_estimators': 700}\n",
      "0.788 + or -0.005 for the {'colsample_bytree': 0.3, 'learning_rate': 0.01, 'max_depth': 15, 'n_estimators': 900}\n",
      "0.791 + or -0.004 for the {'colsample_bytree': 0.3, 'learning_rate': 0.001, 'max_depth': 3, 'n_estimators': 100}\n",
      "0.791 + or -0.004 for the {'colsample_bytree': 0.3, 'learning_rate': 0.001, 'max_depth': 3, 'n_estimators': 300}\n",
      "0.791 + or -0.004 for the {'colsample_bytree': 0.3, 'learning_rate': 0.001, 'max_depth': 3, 'n_estimators': 500}\n",
      "0.791 + or -0.004 for the {'colsample_bytree': 0.3, 'learning_rate': 0.001, 'max_depth': 3, 'n_estimators': 700}\n",
      "0.791 + or -0.004 for the {'colsample_bytree': 0.3, 'learning_rate': 0.001, 'max_depth': 3, 'n_estimators': 900}\n",
      "0.791 + or -0.004 for the {'colsample_bytree': 0.3, 'learning_rate': 0.001, 'max_depth': 4, 'n_estimators': 100}\n",
      "0.791 + or -0.004 for the {'colsample_bytree': 0.3, 'learning_rate': 0.001, 'max_depth': 4, 'n_estimators': 300}\n",
      "0.791 + or -0.004 for the {'colsample_bytree': 0.3, 'learning_rate': 0.001, 'max_depth': 4, 'n_estimators': 500}\n",
      "0.791 + or -0.004 for the {'colsample_bytree': 0.3, 'learning_rate': 0.001, 'max_depth': 4, 'n_estimators': 700}\n",
      "0.791 + or -0.004 for the {'colsample_bytree': 0.3, 'learning_rate': 0.001, 'max_depth': 4, 'n_estimators': 900}\n",
      "0.791 + or -0.004 for the {'colsample_bytree': 0.3, 'learning_rate': 0.001, 'max_depth': 6, 'n_estimators': 100}\n",
      "0.791 + or -0.004 for the {'colsample_bytree': 0.3, 'learning_rate': 0.001, 'max_depth': 6, 'n_estimators': 300}\n",
      "0.791 + or -0.004 for the {'colsample_bytree': 0.3, 'learning_rate': 0.001, 'max_depth': 6, 'n_estimators': 500}\n",
      "0.791 + or -0.004 for the {'colsample_bytree': 0.3, 'learning_rate': 0.001, 'max_depth': 6, 'n_estimators': 700}\n",
      "0.791 + or -0.004 for the {'colsample_bytree': 0.3, 'learning_rate': 0.001, 'max_depth': 6, 'n_estimators': 900}\n",
      "0.791 + or -0.004 for the {'colsample_bytree': 0.3, 'learning_rate': 0.001, 'max_depth': 8, 'n_estimators': 100}\n",
      "0.791 + or -0.004 for the {'colsample_bytree': 0.3, 'learning_rate': 0.001, 'max_depth': 8, 'n_estimators': 300}\n",
      "0.791 + or -0.004 for the {'colsample_bytree': 0.3, 'learning_rate': 0.001, 'max_depth': 8, 'n_estimators': 500}\n",
      "0.791 + or -0.004 for the {'colsample_bytree': 0.3, 'learning_rate': 0.001, 'max_depth': 8, 'n_estimators': 700}\n",
      "0.791 + or -0.004 for the {'colsample_bytree': 0.3, 'learning_rate': 0.001, 'max_depth': 8, 'n_estimators': 900}\n",
      "0.791 + or -0.004 for the {'colsample_bytree': 0.3, 'learning_rate': 0.001, 'max_depth': 10, 'n_estimators': 100}\n",
      "0.791 + or -0.004 for the {'colsample_bytree': 0.3, 'learning_rate': 0.001, 'max_depth': 10, 'n_estimators': 300}\n",
      "0.791 + or -0.004 for the {'colsample_bytree': 0.3, 'learning_rate': 0.001, 'max_depth': 10, 'n_estimators': 500}\n",
      "0.791 + or -0.004 for the {'colsample_bytree': 0.3, 'learning_rate': 0.001, 'max_depth': 10, 'n_estimators': 700}\n",
      "0.791 + or -0.004 for the {'colsample_bytree': 0.3, 'learning_rate': 0.001, 'max_depth': 10, 'n_estimators': 900}\n",
      "0.791 + or -0.004 for the {'colsample_bytree': 0.3, 'learning_rate': 0.001, 'max_depth': 15, 'n_estimators': 100}\n",
      "0.791 + or -0.004 for the {'colsample_bytree': 0.3, 'learning_rate': 0.001, 'max_depth': 15, 'n_estimators': 300}\n",
      "0.791 + or -0.004 for the {'colsample_bytree': 0.3, 'learning_rate': 0.001, 'max_depth': 15, 'n_estimators': 500}\n",
      "0.791 + or -0.004 for the {'colsample_bytree': 0.3, 'learning_rate': 0.001, 'max_depth': 15, 'n_estimators': 700}\n",
      "0.791 + or -0.004 for the {'colsample_bytree': 0.3, 'learning_rate': 0.001, 'max_depth': 15, 'n_estimators': 900}\n",
      "0.782 + or -0.017 for the {'colsample_bytree': 0.5, 'learning_rate': 0.1, 'max_depth': 3, 'n_estimators': 100}\n",
      "0.751 + or -0.03 for the {'colsample_bytree': 0.5, 'learning_rate': 0.1, 'max_depth': 3, 'n_estimators': 300}\n",
      "0.744 + or -0.033 for the {'colsample_bytree': 0.5, 'learning_rate': 0.1, 'max_depth': 3, 'n_estimators': 500}\n",
      "0.736 + or -0.037 for the {'colsample_bytree': 0.5, 'learning_rate': 0.1, 'max_depth': 3, 'n_estimators': 700}\n",
      "0.729 + or -0.032 for the {'colsample_bytree': 0.5, 'learning_rate': 0.1, 'max_depth': 3, 'n_estimators': 900}\n",
      "0.779 + or -0.015 for the {'colsample_bytree': 0.5, 'learning_rate': 0.1, 'max_depth': 4, 'n_estimators': 100}\n",
      "0.754 + or -0.04 for the {'colsample_bytree': 0.5, 'learning_rate': 0.1, 'max_depth': 4, 'n_estimators': 300}\n",
      "0.746 + or -0.046 for the {'colsample_bytree': 0.5, 'learning_rate': 0.1, 'max_depth': 4, 'n_estimators': 500}\n",
      "0.737 + or -0.046 for the {'colsample_bytree': 0.5, 'learning_rate': 0.1, 'max_depth': 4, 'n_estimators': 700}\n",
      "0.73 + or -0.045 for the {'colsample_bytree': 0.5, 'learning_rate': 0.1, 'max_depth': 4, 'n_estimators': 900}\n",
      "0.767 + or -0.027 for the {'colsample_bytree': 0.5, 'learning_rate': 0.1, 'max_depth': 6, 'n_estimators': 100}\n",
      "0.761 + or -0.03 for the {'colsample_bytree': 0.5, 'learning_rate': 0.1, 'max_depth': 6, 'n_estimators': 300}\n",
      "0.76 + or -0.031 for the {'colsample_bytree': 0.5, 'learning_rate': 0.1, 'max_depth': 6, 'n_estimators': 500}\n",
      "0.756 + or -0.033 for the {'colsample_bytree': 0.5, 'learning_rate': 0.1, 'max_depth': 6, 'n_estimators': 700}\n",
      "0.751 + or -0.032 for the {'colsample_bytree': 0.5, 'learning_rate': 0.1, 'max_depth': 6, 'n_estimators': 900}\n",
      "0.77 + or -0.023 for the {'colsample_bytree': 0.5, 'learning_rate': 0.1, 'max_depth': 8, 'n_estimators': 100}\n",
      "0.758 + or -0.028 for the {'colsample_bytree': 0.5, 'learning_rate': 0.1, 'max_depth': 8, 'n_estimators': 300}\n",
      "0.757 + or -0.034 for the {'colsample_bytree': 0.5, 'learning_rate': 0.1, 'max_depth': 8, 'n_estimators': 500}\n",
      "0.756 + or -0.033 for the {'colsample_bytree': 0.5, 'learning_rate': 0.1, 'max_depth': 8, 'n_estimators': 700}\n",
      "0.754 + or -0.034 for the {'colsample_bytree': 0.5, 'learning_rate': 0.1, 'max_depth': 8, 'n_estimators': 900}\n",
      "0.778 + or -0.018 for the {'colsample_bytree': 0.5, 'learning_rate': 0.1, 'max_depth': 10, 'n_estimators': 100}\n",
      "0.768 + or -0.025 for the {'colsample_bytree': 0.5, 'learning_rate': 0.1, 'max_depth': 10, 'n_estimators': 300}\n",
      "0.765 + or -0.027 for the {'colsample_bytree': 0.5, 'learning_rate': 0.1, 'max_depth': 10, 'n_estimators': 500}\n",
      "0.764 + or -0.028 for the {'colsample_bytree': 0.5, 'learning_rate': 0.1, 'max_depth': 10, 'n_estimators': 700}\n",
      "0.765 + or -0.032 for the {'colsample_bytree': 0.5, 'learning_rate': 0.1, 'max_depth': 10, 'n_estimators': 900}\n",
      "0.774 + or -0.017 for the {'colsample_bytree': 0.5, 'learning_rate': 0.1, 'max_depth': 15, 'n_estimators': 100}\n",
      "0.768 + or -0.017 for the {'colsample_bytree': 0.5, 'learning_rate': 0.1, 'max_depth': 15, 'n_estimators': 300}\n",
      "0.763 + or -0.022 for the {'colsample_bytree': 0.5, 'learning_rate': 0.1, 'max_depth': 15, 'n_estimators': 500}\n",
      "0.761 + or -0.025 for the {'colsample_bytree': 0.5, 'learning_rate': 0.1, 'max_depth': 15, 'n_estimators': 700}\n",
      "0.758 + or -0.025 for the {'colsample_bytree': 0.5, 'learning_rate': 0.1, 'max_depth': 15, 'n_estimators': 900}\n",
      "0.789 + or -0.006 for the {'colsample_bytree': 0.5, 'learning_rate': 0.01, 'max_depth': 3, 'n_estimators': 100}\n",
      "0.788 + or -0.008 for the {'colsample_bytree': 0.5, 'learning_rate': 0.01, 'max_depth': 3, 'n_estimators': 300}\n",
      "0.789 + or -0.009 for the {'colsample_bytree': 0.5, 'learning_rate': 0.01, 'max_depth': 3, 'n_estimators': 500}\n",
      "0.791 + or -0.01 for the {'colsample_bytree': 0.5, 'learning_rate': 0.01, 'max_depth': 3, 'n_estimators': 700}\n",
      "0.788 + or -0.008 for the {'colsample_bytree': 0.5, 'learning_rate': 0.01, 'max_depth': 3, 'n_estimators': 900}\n",
      "0.789 + or -0.006 for the {'colsample_bytree': 0.5, 'learning_rate': 0.01, 'max_depth': 4, 'n_estimators': 100}\n",
      "0.787 + or -0.009 for the {'colsample_bytree': 0.5, 'learning_rate': 0.01, 'max_depth': 4, 'n_estimators': 300}\n",
      "0.784 + or -0.012 for the {'colsample_bytree': 0.5, 'learning_rate': 0.01, 'max_depth': 4, 'n_estimators': 500}\n",
      "0.782 + or -0.017 for the {'colsample_bytree': 0.5, 'learning_rate': 0.01, 'max_depth': 4, 'n_estimators': 700}\n",
      "0.781 + or -0.023 for the {'colsample_bytree': 0.5, 'learning_rate': 0.01, 'max_depth': 4, 'n_estimators': 900}\n",
      "0.785 + or -0.007 for the {'colsample_bytree': 0.5, 'learning_rate': 0.01, 'max_depth': 6, 'n_estimators': 100}\n",
      "0.785 + or -0.009 for the {'colsample_bytree': 0.5, 'learning_rate': 0.01, 'max_depth': 6, 'n_estimators': 300}\n",
      "0.781 + or -0.013 for the {'colsample_bytree': 0.5, 'learning_rate': 0.01, 'max_depth': 6, 'n_estimators': 500}\n",
      "0.781 + or -0.016 for the {'colsample_bytree': 0.5, 'learning_rate': 0.01, 'max_depth': 6, 'n_estimators': 700}\n",
      "0.777 + or -0.016 for the {'colsample_bytree': 0.5, 'learning_rate': 0.01, 'max_depth': 6, 'n_estimators': 900}\n",
      "0.785 + or -0.007 for the {'colsample_bytree': 0.5, 'learning_rate': 0.01, 'max_depth': 8, 'n_estimators': 100}\n",
      "0.784 + or -0.012 for the {'colsample_bytree': 0.5, 'learning_rate': 0.01, 'max_depth': 8, 'n_estimators': 300}\n",
      "0.784 + or -0.013 for the {'colsample_bytree': 0.5, 'learning_rate': 0.01, 'max_depth': 8, 'n_estimators': 500}\n",
      "0.785 + or -0.014 for the {'colsample_bytree': 0.5, 'learning_rate': 0.01, 'max_depth': 8, 'n_estimators': 700}\n",
      "0.777 + or -0.018 for the {'colsample_bytree': 0.5, 'learning_rate': 0.01, 'max_depth': 8, 'n_estimators': 900}\n",
      "0.782 + or -0.015 for the {'colsample_bytree': 0.5, 'learning_rate': 0.01, 'max_depth': 10, 'n_estimators': 100}\n",
      "0.782 + or -0.01 for the {'colsample_bytree': 0.5, 'learning_rate': 0.01, 'max_depth': 10, 'n_estimators': 300}\n",
      "0.781 + or -0.012 for the {'colsample_bytree': 0.5, 'learning_rate': 0.01, 'max_depth': 10, 'n_estimators': 500}\n",
      "0.781 + or -0.016 for the {'colsample_bytree': 0.5, 'learning_rate': 0.01, 'max_depth': 10, 'n_estimators': 700}\n",
      "0.782 + or -0.016 for the {'colsample_bytree': 0.5, 'learning_rate': 0.01, 'max_depth': 10, 'n_estimators': 900}\n",
      "0.781 + or -0.014 for the {'colsample_bytree': 0.5, 'learning_rate': 0.01, 'max_depth': 15, 'n_estimators': 100}\n",
      "0.786 + or -0.013 for the {'colsample_bytree': 0.5, 'learning_rate': 0.01, 'max_depth': 15, 'n_estimators': 300}\n",
      "0.782 + or -0.015 for the {'colsample_bytree': 0.5, 'learning_rate': 0.01, 'max_depth': 15, 'n_estimators': 500}\n",
      "0.781 + or -0.013 for the {'colsample_bytree': 0.5, 'learning_rate': 0.01, 'max_depth': 15, 'n_estimators': 700}\n",
      "0.778 + or -0.016 for the {'colsample_bytree': 0.5, 'learning_rate': 0.01, 'max_depth': 15, 'n_estimators': 900}\n",
      "0.789 + or -0.006 for the {'colsample_bytree': 0.5, 'learning_rate': 0.001, 'max_depth': 3, 'n_estimators': 100}\n",
      "0.791 + or -0.004 for the {'colsample_bytree': 0.5, 'learning_rate': 0.001, 'max_depth': 3, 'n_estimators': 300}\n",
      "0.791 + or -0.004 for the {'colsample_bytree': 0.5, 'learning_rate': 0.001, 'max_depth': 3, 'n_estimators': 500}\n",
      "0.791 + or -0.004 for the {'colsample_bytree': 0.5, 'learning_rate': 0.001, 'max_depth': 3, 'n_estimators': 700}\n",
      "0.791 + or -0.004 for the {'colsample_bytree': 0.5, 'learning_rate': 0.001, 'max_depth': 3, 'n_estimators': 900}\n",
      "0.789 + or -0.006 for the {'colsample_bytree': 0.5, 'learning_rate': 0.001, 'max_depth': 4, 'n_estimators': 100}\n",
      "0.788 + or -0.005 for the {'colsample_bytree': 0.5, 'learning_rate': 0.001, 'max_depth': 4, 'n_estimators': 300}\n",
      "0.788 + or -0.005 for the {'colsample_bytree': 0.5, 'learning_rate': 0.001, 'max_depth': 4, 'n_estimators': 500}\n",
      "0.789 + or -0.006 for the {'colsample_bytree': 0.5, 'learning_rate': 0.001, 'max_depth': 4, 'n_estimators': 700}\n",
      "0.789 + or -0.006 for the {'colsample_bytree': 0.5, 'learning_rate': 0.001, 'max_depth': 4, 'n_estimators': 900}\n",
      "0.789 + or -0.006 for the {'colsample_bytree': 0.5, 'learning_rate': 0.001, 'max_depth': 6, 'n_estimators': 100}\n",
      "0.785 + or -0.006 for the {'colsample_bytree': 0.5, 'learning_rate': 0.001, 'max_depth': 6, 'n_estimators': 300}\n",
      "0.787 + or -0.006 for the {'colsample_bytree': 0.5, 'learning_rate': 0.001, 'max_depth': 6, 'n_estimators': 500}\n",
      "0.785 + or -0.007 for the {'colsample_bytree': 0.5, 'learning_rate': 0.001, 'max_depth': 6, 'n_estimators': 700}\n",
      "0.785 + or -0.007 for the {'colsample_bytree': 0.5, 'learning_rate': 0.001, 'max_depth': 6, 'n_estimators': 900}\n",
      "0.787 + or -0.009 for the {'colsample_bytree': 0.5, 'learning_rate': 0.001, 'max_depth': 8, 'n_estimators': 100}\n",
      "0.782 + or -0.01 for the {'colsample_bytree': 0.5, 'learning_rate': 0.001, 'max_depth': 8, 'n_estimators': 300}\n",
      "0.781 + or -0.01 for the {'colsample_bytree': 0.5, 'learning_rate': 0.001, 'max_depth': 8, 'n_estimators': 500}\n",
      "0.782 + or -0.008 for the {'colsample_bytree': 0.5, 'learning_rate': 0.001, 'max_depth': 8, 'n_estimators': 700}\n",
      "0.782 + or -0.008 for the {'colsample_bytree': 0.5, 'learning_rate': 0.001, 'max_depth': 8, 'n_estimators': 900}\n",
      "0.787 + or -0.009 for the {'colsample_bytree': 0.5, 'learning_rate': 0.001, 'max_depth': 10, 'n_estimators': 100}\n",
      "0.779 + or -0.009 for the {'colsample_bytree': 0.5, 'learning_rate': 0.001, 'max_depth': 10, 'n_estimators': 300}\n",
      "0.781 + or -0.01 for the {'colsample_bytree': 0.5, 'learning_rate': 0.001, 'max_depth': 10, 'n_estimators': 500}\n",
      "0.782 + or -0.008 for the {'colsample_bytree': 0.5, 'learning_rate': 0.001, 'max_depth': 10, 'n_estimators': 700}\n",
      "0.782 + or -0.008 for the {'colsample_bytree': 0.5, 'learning_rate': 0.001, 'max_depth': 10, 'n_estimators': 900}\n",
      "0.785 + or -0.009 for the {'colsample_bytree': 0.5, 'learning_rate': 0.001, 'max_depth': 15, 'n_estimators': 100}\n",
      "0.779 + or -0.009 for the {'colsample_bytree': 0.5, 'learning_rate': 0.001, 'max_depth': 15, 'n_estimators': 300}\n",
      "0.781 + or -0.01 for the {'colsample_bytree': 0.5, 'learning_rate': 0.001, 'max_depth': 15, 'n_estimators': 500}\n",
      "0.779 + or -0.012 for the {'colsample_bytree': 0.5, 'learning_rate': 0.001, 'max_depth': 15, 'n_estimators': 700}\n",
      "0.779 + or -0.012 for the {'colsample_bytree': 0.5, 'learning_rate': 0.001, 'max_depth': 15, 'n_estimators': 900}\n",
      "0.785 + or -0.021 for the {'colsample_bytree': 0.8, 'learning_rate': 0.1, 'max_depth': 3, 'n_estimators': 100}\n",
      "0.764 + or -0.035 for the {'colsample_bytree': 0.8, 'learning_rate': 0.1, 'max_depth': 3, 'n_estimators': 300}\n",
      "0.746 + or -0.035 for the {'colsample_bytree': 0.8, 'learning_rate': 0.1, 'max_depth': 3, 'n_estimators': 500}\n",
      "0.747 + or -0.038 for the {'colsample_bytree': 0.8, 'learning_rate': 0.1, 'max_depth': 3, 'n_estimators': 700}\n",
      "0.743 + or -0.035 for the {'colsample_bytree': 0.8, 'learning_rate': 0.1, 'max_depth': 3, 'n_estimators': 900}\n",
      "0.772 + or -0.022 for the {'colsample_bytree': 0.8, 'learning_rate': 0.1, 'max_depth': 4, 'n_estimators': 100}\n",
      "0.753 + or -0.038 for the {'colsample_bytree': 0.8, 'learning_rate': 0.1, 'max_depth': 4, 'n_estimators': 300}\n",
      "0.746 + or -0.046 for the {'colsample_bytree': 0.8, 'learning_rate': 0.1, 'max_depth': 4, 'n_estimators': 500}\n",
      "0.747 + or -0.042 for the {'colsample_bytree': 0.8, 'learning_rate': 0.1, 'max_depth': 4, 'n_estimators': 700}\n",
      "0.747 + or -0.048 for the {'colsample_bytree': 0.8, 'learning_rate': 0.1, 'max_depth': 4, 'n_estimators': 900}\n",
      "0.777 + or -0.026 for the {'colsample_bytree': 0.8, 'learning_rate': 0.1, 'max_depth': 6, 'n_estimators': 100}\n",
      "0.753 + or -0.034 for the {'colsample_bytree': 0.8, 'learning_rate': 0.1, 'max_depth': 6, 'n_estimators': 300}\n",
      "0.747 + or -0.04 for the {'colsample_bytree': 0.8, 'learning_rate': 0.1, 'max_depth': 6, 'n_estimators': 500}\n",
      "0.747 + or -0.037 for the {'colsample_bytree': 0.8, 'learning_rate': 0.1, 'max_depth': 6, 'n_estimators': 700}\n",
      "0.749 + or -0.03 for the {'colsample_bytree': 0.8, 'learning_rate': 0.1, 'max_depth': 6, 'n_estimators': 900}\n",
      "0.771 + or -0.031 for the {'colsample_bytree': 0.8, 'learning_rate': 0.1, 'max_depth': 8, 'n_estimators': 100}\n",
      "0.765 + or -0.026 for the {'colsample_bytree': 0.8, 'learning_rate': 0.1, 'max_depth': 8, 'n_estimators': 300}\n",
      "0.76 + or -0.027 for the {'colsample_bytree': 0.8, 'learning_rate': 0.1, 'max_depth': 8, 'n_estimators': 500}\n",
      "0.757 + or -0.025 for the {'colsample_bytree': 0.8, 'learning_rate': 0.1, 'max_depth': 8, 'n_estimators': 700}\n",
      "0.754 + or -0.034 for the {'colsample_bytree': 0.8, 'learning_rate': 0.1, 'max_depth': 8, 'n_estimators': 900}\n",
      "0.771 + or -0.026 for the {'colsample_bytree': 0.8, 'learning_rate': 0.1, 'max_depth': 10, 'n_estimators': 100}\n",
      "0.761 + or -0.031 for the {'colsample_bytree': 0.8, 'learning_rate': 0.1, 'max_depth': 10, 'n_estimators': 300}\n",
      "0.757 + or -0.031 for the {'colsample_bytree': 0.8, 'learning_rate': 0.1, 'max_depth': 10, 'n_estimators': 500}\n",
      "0.756 + or -0.033 for the {'colsample_bytree': 0.8, 'learning_rate': 0.1, 'max_depth': 10, 'n_estimators': 700}\n",
      "0.751 + or -0.032 for the {'colsample_bytree': 0.8, 'learning_rate': 0.1, 'max_depth': 10, 'n_estimators': 900}\n",
      "0.774 + or -0.025 for the {'colsample_bytree': 0.8, 'learning_rate': 0.1, 'max_depth': 15, 'n_estimators': 100}\n",
      "0.761 + or -0.031 for the {'colsample_bytree': 0.8, 'learning_rate': 0.1, 'max_depth': 15, 'n_estimators': 300}\n",
      "0.76 + or -0.031 for the {'colsample_bytree': 0.8, 'learning_rate': 0.1, 'max_depth': 15, 'n_estimators': 500}\n",
      "0.758 + or -0.035 for the {'colsample_bytree': 0.8, 'learning_rate': 0.1, 'max_depth': 15, 'n_estimators': 700}\n",
      "0.758 + or -0.035 for the {'colsample_bytree': 0.8, 'learning_rate': 0.1, 'max_depth': 15, 'n_estimators': 900}\n",
      "0.788 + or -0.008 for the {'colsample_bytree': 0.8, 'learning_rate': 0.01, 'max_depth': 3, 'n_estimators': 100}\n",
      "0.789 + or -0.006 for the {'colsample_bytree': 0.8, 'learning_rate': 0.01, 'max_depth': 3, 'n_estimators': 300}\n",
      "0.788 + or -0.008 for the {'colsample_bytree': 0.8, 'learning_rate': 0.01, 'max_depth': 3, 'n_estimators': 500}\n",
      "0.789 + or -0.009 for the {'colsample_bytree': 0.8, 'learning_rate': 0.01, 'max_depth': 3, 'n_estimators': 700}\n",
      "0.782 + or -0.019 for the {'colsample_bytree': 0.8, 'learning_rate': 0.01, 'max_depth': 3, 'n_estimators': 900}\n",
      "0.788 + or -0.01 for the {'colsample_bytree': 0.8, 'learning_rate': 0.01, 'max_depth': 4, 'n_estimators': 100}\n",
      "0.787 + or -0.011 for the {'colsample_bytree': 0.8, 'learning_rate': 0.01, 'max_depth': 4, 'n_estimators': 300}\n",
      "0.785 + or -0.011 for the {'colsample_bytree': 0.8, 'learning_rate': 0.01, 'max_depth': 4, 'n_estimators': 500}\n",
      "0.788 + or -0.016 for the {'colsample_bytree': 0.8, 'learning_rate': 0.01, 'max_depth': 4, 'n_estimators': 700}\n",
      "0.777 + or -0.024 for the {'colsample_bytree': 0.8, 'learning_rate': 0.01, 'max_depth': 4, 'n_estimators': 900}\n",
      "0.779 + or -0.019 for the {'colsample_bytree': 0.8, 'learning_rate': 0.01, 'max_depth': 6, 'n_estimators': 100}\n",
      "0.781 + or -0.016 for the {'colsample_bytree': 0.8, 'learning_rate': 0.01, 'max_depth': 6, 'n_estimators': 300}\n",
      "0.778 + or -0.021 for the {'colsample_bytree': 0.8, 'learning_rate': 0.01, 'max_depth': 6, 'n_estimators': 500}\n",
      "0.771 + or -0.028 for the {'colsample_bytree': 0.8, 'learning_rate': 0.01, 'max_depth': 6, 'n_estimators': 700}\n",
      "0.771 + or -0.031 for the {'colsample_bytree': 0.8, 'learning_rate': 0.01, 'max_depth': 6, 'n_estimators': 900}\n",
      "0.775 + or -0.02 for the {'colsample_bytree': 0.8, 'learning_rate': 0.01, 'max_depth': 8, 'n_estimators': 100}\n",
      "0.778 + or -0.021 for the {'colsample_bytree': 0.8, 'learning_rate': 0.01, 'max_depth': 8, 'n_estimators': 300}\n",
      "0.772 + or -0.021 for the {'colsample_bytree': 0.8, 'learning_rate': 0.01, 'max_depth': 8, 'n_estimators': 500}\n",
      "0.77 + or -0.028 for the {'colsample_bytree': 0.8, 'learning_rate': 0.01, 'max_depth': 8, 'n_estimators': 700}\n",
      "0.77 + or -0.024 for the {'colsample_bytree': 0.8, 'learning_rate': 0.01, 'max_depth': 8, 'n_estimators': 900}\n",
      "0.774 + or -0.019 for the {'colsample_bytree': 0.8, 'learning_rate': 0.01, 'max_depth': 10, 'n_estimators': 100}\n",
      "0.777 + or -0.017 for the {'colsample_bytree': 0.8, 'learning_rate': 0.01, 'max_depth': 10, 'n_estimators': 300}\n",
      "0.779 + or -0.018 for the {'colsample_bytree': 0.8, 'learning_rate': 0.01, 'max_depth': 10, 'n_estimators': 500}\n",
      "0.774 + or -0.026 for the {'colsample_bytree': 0.8, 'learning_rate': 0.01, 'max_depth': 10, 'n_estimators': 700}\n",
      "0.772 + or -0.028 for the {'colsample_bytree': 0.8, 'learning_rate': 0.01, 'max_depth': 10, 'n_estimators': 900}\n",
      "0.772 + or -0.02 for the {'colsample_bytree': 0.8, 'learning_rate': 0.01, 'max_depth': 15, 'n_estimators': 100}\n",
      "0.778 + or -0.022 for the {'colsample_bytree': 0.8, 'learning_rate': 0.01, 'max_depth': 15, 'n_estimators': 300}\n",
      "0.778 + or -0.02 for the {'colsample_bytree': 0.8, 'learning_rate': 0.01, 'max_depth': 15, 'n_estimators': 500}\n",
      "0.779 + or -0.017 for the {'colsample_bytree': 0.8, 'learning_rate': 0.01, 'max_depth': 15, 'n_estimators': 700}\n",
      "0.775 + or -0.026 for the {'colsample_bytree': 0.8, 'learning_rate': 0.01, 'max_depth': 15, 'n_estimators': 900}\n",
      "0.782 + or -0.01 for the {'colsample_bytree': 0.8, 'learning_rate': 0.001, 'max_depth': 3, 'n_estimators': 100}\n",
      "0.782 + or -0.009 for the {'colsample_bytree': 0.8, 'learning_rate': 0.001, 'max_depth': 3, 'n_estimators': 300}\n",
      "0.785 + or -0.007 for the {'colsample_bytree': 0.8, 'learning_rate': 0.001, 'max_depth': 3, 'n_estimators': 500}\n",
      "0.787 + or -0.009 for the {'colsample_bytree': 0.8, 'learning_rate': 0.001, 'max_depth': 3, 'n_estimators': 700}\n",
      "0.788 + or -0.008 for the {'colsample_bytree': 0.8, 'learning_rate': 0.001, 'max_depth': 3, 'n_estimators': 900}\n",
      "0.777 + or -0.012 for the {'colsample_bytree': 0.8, 'learning_rate': 0.001, 'max_depth': 4, 'n_estimators': 100}\n",
      "0.781 + or -0.009 for the {'colsample_bytree': 0.8, 'learning_rate': 0.001, 'max_depth': 4, 'n_estimators': 300}\n",
      "0.779 + or -0.009 for the {'colsample_bytree': 0.8, 'learning_rate': 0.001, 'max_depth': 4, 'n_estimators': 500}\n",
      "0.785 + or -0.007 for the {'colsample_bytree': 0.8, 'learning_rate': 0.001, 'max_depth': 4, 'n_estimators': 700}\n",
      "0.786 + or -0.013 for the {'colsample_bytree': 0.8, 'learning_rate': 0.001, 'max_depth': 4, 'n_estimators': 900}\n",
      "0.763 + or -0.028 for the {'colsample_bytree': 0.8, 'learning_rate': 0.001, 'max_depth': 6, 'n_estimators': 100}\n",
      "0.77 + or -0.016 for the {'colsample_bytree': 0.8, 'learning_rate': 0.001, 'max_depth': 6, 'n_estimators': 300}\n",
      "0.774 + or -0.013 for the {'colsample_bytree': 0.8, 'learning_rate': 0.001, 'max_depth': 6, 'n_estimators': 500}\n",
      "0.779 + or -0.015 for the {'colsample_bytree': 0.8, 'learning_rate': 0.001, 'max_depth': 6, 'n_estimators': 700}\n",
      "0.781 + or -0.018 for the {'colsample_bytree': 0.8, 'learning_rate': 0.001, 'max_depth': 6, 'n_estimators': 900}\n",
      "0.756 + or -0.022 for the {'colsample_bytree': 0.8, 'learning_rate': 0.001, 'max_depth': 8, 'n_estimators': 100}\n",
      "0.765 + or -0.019 for the {'colsample_bytree': 0.8, 'learning_rate': 0.001, 'max_depth': 8, 'n_estimators': 300}\n",
      "0.772 + or -0.014 for the {'colsample_bytree': 0.8, 'learning_rate': 0.001, 'max_depth': 8, 'n_estimators': 500}\n",
      "0.779 + or -0.014 for the {'colsample_bytree': 0.8, 'learning_rate': 0.001, 'max_depth': 8, 'n_estimators': 700}\n",
      "0.778 + or -0.019 for the {'colsample_bytree': 0.8, 'learning_rate': 0.001, 'max_depth': 8, 'n_estimators': 900}\n",
      "0.754 + or -0.024 for the {'colsample_bytree': 0.8, 'learning_rate': 0.001, 'max_depth': 10, 'n_estimators': 100}\n",
      "0.758 + or -0.028 for the {'colsample_bytree': 0.8, 'learning_rate': 0.001, 'max_depth': 10, 'n_estimators': 300}\n",
      "0.765 + or -0.02 for the {'colsample_bytree': 0.8, 'learning_rate': 0.001, 'max_depth': 10, 'n_estimators': 500}\n",
      "0.772 + or -0.013 for the {'colsample_bytree': 0.8, 'learning_rate': 0.001, 'max_depth': 10, 'n_estimators': 700}\n",
      "0.779 + or -0.018 for the {'colsample_bytree': 0.8, 'learning_rate': 0.001, 'max_depth': 10, 'n_estimators': 900}\n",
      "0.754 + or -0.023 for the {'colsample_bytree': 0.8, 'learning_rate': 0.001, 'max_depth': 15, 'n_estimators': 100}\n",
      "0.754 + or -0.028 for the {'colsample_bytree': 0.8, 'learning_rate': 0.001, 'max_depth': 15, 'n_estimators': 300}\n",
      "0.757 + or -0.024 for the {'colsample_bytree': 0.8, 'learning_rate': 0.001, 'max_depth': 15, 'n_estimators': 500}\n",
      "0.763 + or -0.021 for the {'colsample_bytree': 0.8, 'learning_rate': 0.001, 'max_depth': 15, 'n_estimators': 700}\n",
      "0.768 + or -0.019 for the {'colsample_bytree': 0.8, 'learning_rate': 0.001, 'max_depth': 15, 'n_estimators': 900}\n"
     ]
    }
   ],
   "source": [
    "def display_results(results):\n",
    "    print(f'Best parameters are: {results.best_params_}')\n",
    "    print(f'Best Score is : {results.best_score_} ')\n",
    "    print(\"\\n\")\n",
    "    mean_score = results.cv_results_['mean_test_score']\n",
    "    std_score = results.cv_results_['std_test_score']\n",
    "    params = results.cv_results_['params']\n",
    "    for mean,std,params in zip(mean_score,std_score,params):\n",
    "        print(f'{round(mean,3)} + or -{round(std,3)} for the {params}')\n",
    "        \n",
    "display_results(cv)"
   ]
  },
  {
   "cell_type": "code",
   "execution_count": 46,
   "id": "f8b2cfc9",
   "metadata": {},
   "outputs": [
    {
     "name": "stderr",
     "output_type": "stream",
     "text": [
      "C:\\Users\\alish\\anaconda3\\lib\\site-packages\\sklearn\\metrics\\_classification.py:1318: UndefinedMetricWarning: Precision is ill-defined and being set to 0.0 due to no predicted samples. Use `zero_division` parameter to control this behavior.\n",
      "  _warn_prf(average, modifier, msg_start, len(result))\n",
      "C:\\Users\\alish\\anaconda3\\lib\\site-packages\\sklearn\\metrics\\_classification.py:1318: UndefinedMetricWarning: Precision is ill-defined and being set to 0.0 due to no predicted samples. Use `zero_division` parameter to control this behavior.\n",
      "  _warn_prf(average, modifier, msg_start, len(result))\n",
      "C:\\Users\\alish\\anaconda3\\lib\\site-packages\\sklearn\\metrics\\_classification.py:1318: UndefinedMetricWarning: Precision is ill-defined and being set to 0.0 due to no predicted samples. Use `zero_division` parameter to control this behavior.\n",
      "  _warn_prf(average, modifier, msg_start, len(result))\n",
      "C:\\Users\\alish\\anaconda3\\lib\\site-packages\\sklearn\\metrics\\_classification.py:1318: UndefinedMetricWarning: Precision is ill-defined and being set to 0.0 due to no predicted samples. Use `zero_division` parameter to control this behavior.\n",
      "  _warn_prf(average, modifier, msg_start, len(result))\n",
      "C:\\Users\\alish\\anaconda3\\lib\\site-packages\\sklearn\\metrics\\_classification.py:1318: UndefinedMetricWarning: Precision is ill-defined and being set to 0.0 due to no predicted samples. Use `zero_division` parameter to control this behavior.\n",
      "  _warn_prf(average, modifier, msg_start, len(result))\n"
     ]
    },
    {
     "name": "stdout",
     "output_type": "stream",
     "text": [
      "K-fold cross-validation results:\n",
      "XGBoost average accuracy is 0.791\n",
      "XGBoost average log_loss is 0.541\n",
      "XGBoost average brier score is 0.174\n",
      "XGBoost average auc is 0.502\n",
      "XGBoost average recall is 0.020\n",
      "XGBoost average precision is 0.250\n",
      "XGBoost average f1 is 0.037\n"
     ]
    }
   ],
   "source": [
    "xgb = XGBClassifier( objective= 'binary:logistic', nthread=4, seed=42, n_estimators=700,\n",
    "                   max_depth = 3, learning_rate = 0.01, colsample_bytree = 0.5)\n",
    "xgb.fit(X,Y)\n",
    "\n",
    "scores_accuracy = cross_val_score(xgb, X, Y, cv=10, scoring='accuracy')\n",
    "scores_log_loss = cross_val_score(xgb, X, Y, cv=10, scoring='neg_log_loss')\n",
    "scores_briar = cross_val_score(xgb, X, Y, cv=10, scoring='neg_brier_score')\n",
    "scores_auc = cross_val_score(xgb, X, Y, cv=10, scoring='roc_auc')\n",
    "scores_recall = cross_val_score(xgb, X, Y, cv=10, scoring='recall')\n",
    "scores_precision = cross_val_score(xgb, X, Y, cv=10, scoring='precision')\n",
    "scores_f1 = cross_val_score(xgb, X, Y, cv=10, scoring='f1')\n",
    "print('K-fold cross-validation results:')\n",
    "print(\"XGBoost average accuracy is %2.3f\" % scores_accuracy.mean())\n",
    "print(\"XGBoost average log_loss is %2.3f\" % -scores_log_loss.mean())\n",
    "print(\"XGBoost average brier score is %2.3f\" % -scores_briar.mean())\n",
    "print(\"XGBoost average auc is %2.3f\" % scores_auc.mean())\n",
    "print(\"XGBoost average recall is %2.3f\" % scores_recall.mean())\n",
    "print(\"XGBoost average precision is %2.3f\" % scores_precision.mean())\n",
    "print(\"XGBoost average f1 is %2.3f\" % scores_f1.mean())"
   ]
  },
  {
   "cell_type": "code",
   "execution_count": 47,
   "id": "671505e4",
   "metadata": {},
   "outputs": [],
   "source": [
    "sm = SMOTE(random_state=5)\n",
    "X_balanced, Y_balanced = sm.fit_resample(X, Y)"
   ]
  },
  {
   "cell_type": "code",
   "execution_count": 48,
   "id": "519daade",
   "metadata": {},
   "outputs": [
    {
     "name": "stdout",
     "output_type": "stream",
     "text": [
      "Fitting 10 folds for each of 270 candidates, totalling 2700 fits\n"
     ]
    },
    {
     "data": {
      "text/plain": [
       "GridSearchCV(cv=10,\n",
       "             estimator=XGBClassifier(base_score=None, booster=None,\n",
       "                                     callbacks=None, colsample_bylevel=None,\n",
       "                                     colsample_bynode=None,\n",
       "                                     colsample_bytree=None,\n",
       "                                     early_stopping_rounds=None,\n",
       "                                     enable_categorical=False, eval_metric=None,\n",
       "                                     gamma=None, gpu_id=None, grow_policy=None,\n",
       "                                     importance_type=None,\n",
       "                                     interaction_constraints=None,\n",
       "                                     learning_rate=None, max_bin=None,\n",
       "                                     max_c...\n",
       "                                     max_delta_step=None, max_depth=None,\n",
       "                                     max_leaves=None, min_child_weight=None,\n",
       "                                     missing=nan, monotone_constraints=None,\n",
       "                                     n_estimators=100, n_jobs=None, nthread=4,\n",
       "                                     num_parallel_tree=None, predictor=None,\n",
       "                                     random_state=None, reg_alpha=None, ...),\n",
       "             param_grid={'colsample_bytree': [0.3, 0.5, 0.8],\n",
       "                         'learning_rate': [0.1, 0.01, 0.001],\n",
       "                         'max_depth': [3, 4, 6, 8, 10, 15],\n",
       "                         'n_estimators': range(100, 1000, 200)},\n",
       "             verbose=1)"
      ]
     },
     "execution_count": 48,
     "metadata": {},
     "output_type": "execute_result"
    }
   ],
   "source": [
    "xgb = XGBClassifier( objective= 'binary:logistic', nthread=4, seed=42)\n",
    "\n",
    "params = {\n",
    "    \"max_depth\": [ 3, 4, 6, 8, 10, 15],\n",
    "    'n_estimators': range(100,1000,200),\n",
    "    'learning_rate': [0.1,0.01,0.001],\n",
    "    \"colsample_bytree\" : [0.3, 0.5 , 0.8]\n",
    "}\n",
    "\n",
    "cv = GridSearchCV(xgb,params,cv=10, verbose=1)\n",
    "cv.fit(X_balanced,Y_balanced.values.ravel(), verbose=1)"
   ]
  },
  {
   "cell_type": "code",
   "execution_count": 49,
   "id": "6f21b51e",
   "metadata": {},
   "outputs": [
    {
     "name": "stdout",
     "output_type": "stream",
     "text": [
      "Best parameters are: {'colsample_bytree': 0.3, 'learning_rate': 0.001, 'max_depth': 15, 'n_estimators': 300}\n",
      "Best Score is : 0.8626975347661189 \n",
      "\n",
      "\n",
      "0.72 + or -0.183 for the {'colsample_bytree': 0.3, 'learning_rate': 0.1, 'max_depth': 3, 'n_estimators': 100}\n",
      "0.736 + or -0.174 for the {'colsample_bytree': 0.3, 'learning_rate': 0.1, 'max_depth': 3, 'n_estimators': 300}\n",
      "0.729 + or -0.19 for the {'colsample_bytree': 0.3, 'learning_rate': 0.1, 'max_depth': 3, 'n_estimators': 500}\n",
      "0.737 + or -0.169 for the {'colsample_bytree': 0.3, 'learning_rate': 0.1, 'max_depth': 3, 'n_estimators': 700}\n",
      "0.741 + or -0.167 for the {'colsample_bytree': 0.3, 'learning_rate': 0.1, 'max_depth': 3, 'n_estimators': 900}\n",
      "0.759 + or -0.181 for the {'colsample_bytree': 0.3, 'learning_rate': 0.1, 'max_depth': 4, 'n_estimators': 100}\n",
      "0.741 + or -0.178 for the {'colsample_bytree': 0.3, 'learning_rate': 0.1, 'max_depth': 4, 'n_estimators': 300}\n",
      "0.75 + or -0.173 for the {'colsample_bytree': 0.3, 'learning_rate': 0.1, 'max_depth': 4, 'n_estimators': 500}\n",
      "0.748 + or -0.165 for the {'colsample_bytree': 0.3, 'learning_rate': 0.1, 'max_depth': 4, 'n_estimators': 700}\n",
      "0.746 + or -0.161 for the {'colsample_bytree': 0.3, 'learning_rate': 0.1, 'max_depth': 4, 'n_estimators': 900}\n",
      "0.786 + or -0.178 for the {'colsample_bytree': 0.3, 'learning_rate': 0.1, 'max_depth': 6, 'n_estimators': 100}\n",
      "0.774 + or -0.163 for the {'colsample_bytree': 0.3, 'learning_rate': 0.1, 'max_depth': 6, 'n_estimators': 300}\n",
      "0.768 + or -0.161 for the {'colsample_bytree': 0.3, 'learning_rate': 0.1, 'max_depth': 6, 'n_estimators': 500}\n",
      "0.768 + or -0.157 for the {'colsample_bytree': 0.3, 'learning_rate': 0.1, 'max_depth': 6, 'n_estimators': 700}\n",
      "0.766 + or -0.163 for the {'colsample_bytree': 0.3, 'learning_rate': 0.1, 'max_depth': 6, 'n_estimators': 900}\n",
      "0.799 + or -0.167 for the {'colsample_bytree': 0.3, 'learning_rate': 0.1, 'max_depth': 8, 'n_estimators': 100}\n",
      "0.782 + or -0.17 for the {'colsample_bytree': 0.3, 'learning_rate': 0.1, 'max_depth': 8, 'n_estimators': 300}\n",
      "0.77 + or -0.178 for the {'colsample_bytree': 0.3, 'learning_rate': 0.1, 'max_depth': 8, 'n_estimators': 500}\n",
      "0.768 + or -0.175 for the {'colsample_bytree': 0.3, 'learning_rate': 0.1, 'max_depth': 8, 'n_estimators': 700}\n",
      "0.767 + or -0.175 for the {'colsample_bytree': 0.3, 'learning_rate': 0.1, 'max_depth': 8, 'n_estimators': 900}\n",
      "0.814 + or -0.161 for the {'colsample_bytree': 0.3, 'learning_rate': 0.1, 'max_depth': 10, 'n_estimators': 100}\n",
      "0.799 + or -0.152 for the {'colsample_bytree': 0.3, 'learning_rate': 0.1, 'max_depth': 10, 'n_estimators': 300}\n",
      "0.791 + or -0.159 for the {'colsample_bytree': 0.3, 'learning_rate': 0.1, 'max_depth': 10, 'n_estimators': 500}\n",
      "0.787 + or -0.157 for the {'colsample_bytree': 0.3, 'learning_rate': 0.1, 'max_depth': 10, 'n_estimators': 700}\n",
      "0.791 + or -0.158 for the {'colsample_bytree': 0.3, 'learning_rate': 0.1, 'max_depth': 10, 'n_estimators': 900}\n",
      "0.822 + or -0.158 for the {'colsample_bytree': 0.3, 'learning_rate': 0.1, 'max_depth': 15, 'n_estimators': 100}\n",
      "0.801 + or -0.156 for the {'colsample_bytree': 0.3, 'learning_rate': 0.1, 'max_depth': 15, 'n_estimators': 300}\n",
      "0.793 + or -0.157 for the {'colsample_bytree': 0.3, 'learning_rate': 0.1, 'max_depth': 15, 'n_estimators': 500}\n",
      "0.789 + or -0.158 for the {'colsample_bytree': 0.3, 'learning_rate': 0.1, 'max_depth': 15, 'n_estimators': 700}\n",
      "0.79 + or -0.159 for the {'colsample_bytree': 0.3, 'learning_rate': 0.1, 'max_depth': 15, 'n_estimators': 900}\n",
      "0.687 + or -0.14 for the {'colsample_bytree': 0.3, 'learning_rate': 0.01, 'max_depth': 3, 'n_estimators': 100}\n",
      "0.695 + or -0.159 for the {'colsample_bytree': 0.3, 'learning_rate': 0.01, 'max_depth': 3, 'n_estimators': 300}\n",
      "0.695 + or -0.171 for the {'colsample_bytree': 0.3, 'learning_rate': 0.01, 'max_depth': 3, 'n_estimators': 500}\n",
      "0.7 + or -0.181 for the {'colsample_bytree': 0.3, 'learning_rate': 0.01, 'max_depth': 3, 'n_estimators': 700}\n",
      "0.707 + or -0.183 for the {'colsample_bytree': 0.3, 'learning_rate': 0.01, 'max_depth': 3, 'n_estimators': 900}\n",
      "0.748 + or -0.172 for the {'colsample_bytree': 0.3, 'learning_rate': 0.01, 'max_depth': 4, 'n_estimators': 100}\n",
      "0.756 + or -0.176 for the {'colsample_bytree': 0.3, 'learning_rate': 0.01, 'max_depth': 4, 'n_estimators': 300}\n",
      "0.752 + or -0.181 for the {'colsample_bytree': 0.3, 'learning_rate': 0.01, 'max_depth': 4, 'n_estimators': 500}\n",
      "0.741 + or -0.182 for the {'colsample_bytree': 0.3, 'learning_rate': 0.01, 'max_depth': 4, 'n_estimators': 700}\n",
      "0.751 + or -0.182 for the {'colsample_bytree': 0.3, 'learning_rate': 0.01, 'max_depth': 4, 'n_estimators': 900}\n",
      "0.809 + or -0.179 for the {'colsample_bytree': 0.3, 'learning_rate': 0.01, 'max_depth': 6, 'n_estimators': 100}\n",
      "0.799 + or -0.177 for the {'colsample_bytree': 0.3, 'learning_rate': 0.01, 'max_depth': 6, 'n_estimators': 300}\n",
      "0.797 + or -0.187 for the {'colsample_bytree': 0.3, 'learning_rate': 0.01, 'max_depth': 6, 'n_estimators': 500}\n",
      "0.787 + or -0.182 for the {'colsample_bytree': 0.3, 'learning_rate': 0.01, 'max_depth': 6, 'n_estimators': 700}\n",
      "0.784 + or -0.177 for the {'colsample_bytree': 0.3, 'learning_rate': 0.01, 'max_depth': 6, 'n_estimators': 900}\n",
      "0.84 + or -0.17 for the {'colsample_bytree': 0.3, 'learning_rate': 0.01, 'max_depth': 8, 'n_estimators': 100}\n",
      "0.828 + or -0.164 for the {'colsample_bytree': 0.3, 'learning_rate': 0.01, 'max_depth': 8, 'n_estimators': 300}\n",
      "0.819 + or -0.172 for the {'colsample_bytree': 0.3, 'learning_rate': 0.01, 'max_depth': 8, 'n_estimators': 500}\n",
      "0.812 + or -0.172 for the {'colsample_bytree': 0.3, 'learning_rate': 0.01, 'max_depth': 8, 'n_estimators': 700}\n",
      "0.803 + or -0.175 for the {'colsample_bytree': 0.3, 'learning_rate': 0.01, 'max_depth': 8, 'n_estimators': 900}\n",
      "0.849 + or -0.165 for the {'colsample_bytree': 0.3, 'learning_rate': 0.01, 'max_depth': 10, 'n_estimators': 100}\n",
      "0.842 + or -0.167 for the {'colsample_bytree': 0.3, 'learning_rate': 0.01, 'max_depth': 10, 'n_estimators': 300}\n",
      "0.834 + or -0.166 for the {'colsample_bytree': 0.3, 'learning_rate': 0.01, 'max_depth': 10, 'n_estimators': 500}\n",
      "0.827 + or -0.17 for the {'colsample_bytree': 0.3, 'learning_rate': 0.01, 'max_depth': 10, 'n_estimators': 700}\n",
      "0.817 + or -0.168 for the {'colsample_bytree': 0.3, 'learning_rate': 0.01, 'max_depth': 10, 'n_estimators': 900}\n",
      "0.857 + or -0.17 for the {'colsample_bytree': 0.3, 'learning_rate': 0.01, 'max_depth': 15, 'n_estimators': 100}\n",
      "0.856 + or -0.162 for the {'colsample_bytree': 0.3, 'learning_rate': 0.01, 'max_depth': 15, 'n_estimators': 300}\n",
      "0.841 + or -0.165 for the {'colsample_bytree': 0.3, 'learning_rate': 0.01, 'max_depth': 15, 'n_estimators': 500}\n",
      "0.834 + or -0.166 for the {'colsample_bytree': 0.3, 'learning_rate': 0.01, 'max_depth': 15, 'n_estimators': 700}\n",
      "0.822 + or -0.167 for the {'colsample_bytree': 0.3, 'learning_rate': 0.01, 'max_depth': 15, 'n_estimators': 900}\n",
      "0.684 + or -0.137 for the {'colsample_bytree': 0.3, 'learning_rate': 0.001, 'max_depth': 3, 'n_estimators': 100}\n",
      "0.706 + or -0.131 for the {'colsample_bytree': 0.3, 'learning_rate': 0.001, 'max_depth': 3, 'n_estimators': 300}\n",
      "0.704 + or -0.133 for the {'colsample_bytree': 0.3, 'learning_rate': 0.001, 'max_depth': 3, 'n_estimators': 500}\n",
      "0.7 + or -0.143 for the {'colsample_bytree': 0.3, 'learning_rate': 0.001, 'max_depth': 3, 'n_estimators': 700}\n",
      "0.689 + or -0.147 for the {'colsample_bytree': 0.3, 'learning_rate': 0.001, 'max_depth': 3, 'n_estimators': 900}\n",
      "0.744 + or -0.172 for the {'colsample_bytree': 0.3, 'learning_rate': 0.001, 'max_depth': 4, 'n_estimators': 100}\n",
      "0.755 + or -0.173 for the {'colsample_bytree': 0.3, 'learning_rate': 0.001, 'max_depth': 4, 'n_estimators': 300}\n",
      "0.749 + or -0.169 for the {'colsample_bytree': 0.3, 'learning_rate': 0.001, 'max_depth': 4, 'n_estimators': 500}\n",
      "0.756 + or -0.172 for the {'colsample_bytree': 0.3, 'learning_rate': 0.001, 'max_depth': 4, 'n_estimators': 700}\n",
      "0.754 + or -0.172 for the {'colsample_bytree': 0.3, 'learning_rate': 0.001, 'max_depth': 4, 'n_estimators': 900}\n",
      "0.8 + or -0.185 for the {'colsample_bytree': 0.3, 'learning_rate': 0.001, 'max_depth': 6, 'n_estimators': 100}\n",
      "0.802 + or -0.183 for the {'colsample_bytree': 0.3, 'learning_rate': 0.001, 'max_depth': 6, 'n_estimators': 300}\n",
      "0.805 + or -0.182 for the {'colsample_bytree': 0.3, 'learning_rate': 0.001, 'max_depth': 6, 'n_estimators': 500}\n",
      "0.809 + or -0.182 for the {'colsample_bytree': 0.3, 'learning_rate': 0.001, 'max_depth': 6, 'n_estimators': 700}\n",
      "0.807 + or -0.183 for the {'colsample_bytree': 0.3, 'learning_rate': 0.001, 'max_depth': 6, 'n_estimators': 900}\n",
      "0.828 + or -0.183 for the {'colsample_bytree': 0.3, 'learning_rate': 0.001, 'max_depth': 8, 'n_estimators': 100}\n",
      "0.84 + or -0.172 for the {'colsample_bytree': 0.3, 'learning_rate': 0.001, 'max_depth': 8, 'n_estimators': 300}\n",
      "0.838 + or -0.172 for the {'colsample_bytree': 0.3, 'learning_rate': 0.001, 'max_depth': 8, 'n_estimators': 500}\n",
      "0.831 + or -0.176 for the {'colsample_bytree': 0.3, 'learning_rate': 0.001, 'max_depth': 8, 'n_estimators': 700}\n",
      "0.831 + or -0.175 for the {'colsample_bytree': 0.3, 'learning_rate': 0.001, 'max_depth': 8, 'n_estimators': 900}\n",
      "0.848 + or -0.172 for the {'colsample_bytree': 0.3, 'learning_rate': 0.001, 'max_depth': 10, 'n_estimators': 100}\n",
      "0.86 + or -0.166 for the {'colsample_bytree': 0.3, 'learning_rate': 0.001, 'max_depth': 10, 'n_estimators': 300}\n",
      "0.859 + or -0.168 for the {'colsample_bytree': 0.3, 'learning_rate': 0.001, 'max_depth': 10, 'n_estimators': 500}\n",
      "0.857 + or -0.171 for the {'colsample_bytree': 0.3, 'learning_rate': 0.001, 'max_depth': 10, 'n_estimators': 700}\n",
      "0.854 + or -0.173 for the {'colsample_bytree': 0.3, 'learning_rate': 0.001, 'max_depth': 10, 'n_estimators': 900}\n",
      "0.86 + or -0.17 for the {'colsample_bytree': 0.3, 'learning_rate': 0.001, 'max_depth': 15, 'n_estimators': 100}\n",
      "0.863 + or -0.169 for the {'colsample_bytree': 0.3, 'learning_rate': 0.001, 'max_depth': 15, 'n_estimators': 300}\n",
      "0.862 + or -0.168 for the {'colsample_bytree': 0.3, 'learning_rate': 0.001, 'max_depth': 15, 'n_estimators': 500}\n",
      "0.862 + or -0.169 for the {'colsample_bytree': 0.3, 'learning_rate': 0.001, 'max_depth': 15, 'n_estimators': 700}\n",
      "0.858 + or -0.171 for the {'colsample_bytree': 0.3, 'learning_rate': 0.001, 'max_depth': 15, 'n_estimators': 900}\n",
      "0.703 + or -0.189 for the {'colsample_bytree': 0.5, 'learning_rate': 0.1, 'max_depth': 3, 'n_estimators': 100}\n",
      "0.738 + or -0.182 for the {'colsample_bytree': 0.5, 'learning_rate': 0.1, 'max_depth': 3, 'n_estimators': 300}\n",
      "0.731 + or -0.175 for the {'colsample_bytree': 0.5, 'learning_rate': 0.1, 'max_depth': 3, 'n_estimators': 500}\n",
      "0.732 + or -0.174 for the {'colsample_bytree': 0.5, 'learning_rate': 0.1, 'max_depth': 3, 'n_estimators': 700}\n",
      "0.733 + or -0.171 for the {'colsample_bytree': 0.5, 'learning_rate': 0.1, 'max_depth': 3, 'n_estimators': 900}\n",
      "0.734 + or -0.185 for the {'colsample_bytree': 0.5, 'learning_rate': 0.1, 'max_depth': 4, 'n_estimators': 100}\n",
      "0.745 + or -0.182 for the {'colsample_bytree': 0.5, 'learning_rate': 0.1, 'max_depth': 4, 'n_estimators': 300}\n",
      "0.745 + or -0.175 for the {'colsample_bytree': 0.5, 'learning_rate': 0.1, 'max_depth': 4, 'n_estimators': 500}\n",
      "0.744 + or -0.17 for the {'colsample_bytree': 0.5, 'learning_rate': 0.1, 'max_depth': 4, 'n_estimators': 700}\n",
      "0.747 + or -0.168 for the {'colsample_bytree': 0.5, 'learning_rate': 0.1, 'max_depth': 4, 'n_estimators': 900}\n",
      "0.757 + or -0.179 for the {'colsample_bytree': 0.5, 'learning_rate': 0.1, 'max_depth': 6, 'n_estimators': 100}\n",
      "0.749 + or -0.175 for the {'colsample_bytree': 0.5, 'learning_rate': 0.1, 'max_depth': 6, 'n_estimators': 300}\n",
      "0.746 + or -0.172 for the {'colsample_bytree': 0.5, 'learning_rate': 0.1, 'max_depth': 6, 'n_estimators': 500}\n",
      "0.743 + or -0.169 for the {'colsample_bytree': 0.5, 'learning_rate': 0.1, 'max_depth': 6, 'n_estimators': 700}\n",
      "0.754 + or -0.162 for the {'colsample_bytree': 0.5, 'learning_rate': 0.1, 'max_depth': 6, 'n_estimators': 900}\n",
      "0.755 + or -0.178 for the {'colsample_bytree': 0.5, 'learning_rate': 0.1, 'max_depth': 8, 'n_estimators': 100}\n",
      "0.761 + or -0.162 for the {'colsample_bytree': 0.5, 'learning_rate': 0.1, 'max_depth': 8, 'n_estimators': 300}\n",
      "0.753 + or -0.16 for the {'colsample_bytree': 0.5, 'learning_rate': 0.1, 'max_depth': 8, 'n_estimators': 500}\n",
      "0.758 + or -0.154 for the {'colsample_bytree': 0.5, 'learning_rate': 0.1, 'max_depth': 8, 'n_estimators': 700}\n",
      "0.759 + or -0.155 for the {'colsample_bytree': 0.5, 'learning_rate': 0.1, 'max_depth': 8, 'n_estimators': 900}\n",
      "0.777 + or -0.156 for the {'colsample_bytree': 0.5, 'learning_rate': 0.1, 'max_depth': 10, 'n_estimators': 100}\n",
      "0.763 + or -0.165 for the {'colsample_bytree': 0.5, 'learning_rate': 0.1, 'max_depth': 10, 'n_estimators': 300}\n",
      "0.76 + or -0.166 for the {'colsample_bytree': 0.5, 'learning_rate': 0.1, 'max_depth': 10, 'n_estimators': 500}\n",
      "0.765 + or -0.163 for the {'colsample_bytree': 0.5, 'learning_rate': 0.1, 'max_depth': 10, 'n_estimators': 700}\n",
      "0.768 + or -0.162 for the {'colsample_bytree': 0.5, 'learning_rate': 0.1, 'max_depth': 10, 'n_estimators': 900}\n",
      "0.765 + or -0.171 for the {'colsample_bytree': 0.5, 'learning_rate': 0.1, 'max_depth': 15, 'n_estimators': 100}\n",
      "0.763 + or -0.166 for the {'colsample_bytree': 0.5, 'learning_rate': 0.1, 'max_depth': 15, 'n_estimators': 300}\n",
      "0.767 + or -0.168 for the {'colsample_bytree': 0.5, 'learning_rate': 0.1, 'max_depth': 15, 'n_estimators': 500}\n",
      "0.765 + or -0.167 for the {'colsample_bytree': 0.5, 'learning_rate': 0.1, 'max_depth': 15, 'n_estimators': 700}\n",
      "0.765 + or -0.165 for the {'colsample_bytree': 0.5, 'learning_rate': 0.1, 'max_depth': 15, 'n_estimators': 900}\n",
      "0.634 + or -0.144 for the {'colsample_bytree': 0.5, 'learning_rate': 0.01, 'max_depth': 3, 'n_estimators': 100}\n",
      "0.666 + or -0.19 for the {'colsample_bytree': 0.5, 'learning_rate': 0.01, 'max_depth': 3, 'n_estimators': 300}\n",
      "0.675 + or -0.198 for the {'colsample_bytree': 0.5, 'learning_rate': 0.01, 'max_depth': 3, 'n_estimators': 500}\n",
      "0.69 + or -0.194 for the {'colsample_bytree': 0.5, 'learning_rate': 0.01, 'max_depth': 3, 'n_estimators': 700}\n",
      "0.691 + or -0.189 for the {'colsample_bytree': 0.5, 'learning_rate': 0.01, 'max_depth': 3, 'n_estimators': 900}\n",
      "0.677 + or -0.177 for the {'colsample_bytree': 0.5, 'learning_rate': 0.01, 'max_depth': 4, 'n_estimators': 100}\n",
      "0.707 + or -0.181 for the {'colsample_bytree': 0.5, 'learning_rate': 0.01, 'max_depth': 4, 'n_estimators': 300}\n",
      "0.713 + or -0.185 for the {'colsample_bytree': 0.5, 'learning_rate': 0.01, 'max_depth': 4, 'n_estimators': 500}\n",
      "0.726 + or -0.177 for the {'colsample_bytree': 0.5, 'learning_rate': 0.01, 'max_depth': 4, 'n_estimators': 700}\n",
      "0.727 + or -0.18 for the {'colsample_bytree': 0.5, 'learning_rate': 0.01, 'max_depth': 4, 'n_estimators': 900}\n",
      "0.761 + or -0.183 for the {'colsample_bytree': 0.5, 'learning_rate': 0.01, 'max_depth': 6, 'n_estimators': 100}\n",
      "0.755 + or -0.185 for the {'colsample_bytree': 0.5, 'learning_rate': 0.01, 'max_depth': 6, 'n_estimators': 300}\n",
      "0.755 + or -0.181 for the {'colsample_bytree': 0.5, 'learning_rate': 0.01, 'max_depth': 6, 'n_estimators': 500}\n",
      "0.754 + or -0.177 for the {'colsample_bytree': 0.5, 'learning_rate': 0.01, 'max_depth': 6, 'n_estimators': 700}\n",
      "0.755 + or -0.173 for the {'colsample_bytree': 0.5, 'learning_rate': 0.01, 'max_depth': 6, 'n_estimators': 900}\n",
      "0.775 + or -0.17 for the {'colsample_bytree': 0.5, 'learning_rate': 0.01, 'max_depth': 8, 'n_estimators': 100}\n",
      "0.769 + or -0.173 for the {'colsample_bytree': 0.5, 'learning_rate': 0.01, 'max_depth': 8, 'n_estimators': 300}\n",
      "0.768 + or -0.181 for the {'colsample_bytree': 0.5, 'learning_rate': 0.01, 'max_depth': 8, 'n_estimators': 500}\n",
      "0.768 + or -0.17 for the {'colsample_bytree': 0.5, 'learning_rate': 0.01, 'max_depth': 8, 'n_estimators': 700}\n",
      "0.769 + or -0.171 for the {'colsample_bytree': 0.5, 'learning_rate': 0.01, 'max_depth': 8, 'n_estimators': 900}\n",
      "0.791 + or -0.17 for the {'colsample_bytree': 0.5, 'learning_rate': 0.01, 'max_depth': 10, 'n_estimators': 100}\n",
      "0.779 + or -0.174 for the {'colsample_bytree': 0.5, 'learning_rate': 0.01, 'max_depth': 10, 'n_estimators': 300}\n",
      "0.777 + or -0.174 for the {'colsample_bytree': 0.5, 'learning_rate': 0.01, 'max_depth': 10, 'n_estimators': 500}\n",
      "0.769 + or -0.174 for the {'colsample_bytree': 0.5, 'learning_rate': 0.01, 'max_depth': 10, 'n_estimators': 700}\n",
      "0.775 + or -0.168 for the {'colsample_bytree': 0.5, 'learning_rate': 0.01, 'max_depth': 10, 'n_estimators': 900}\n",
      "0.795 + or -0.166 for the {'colsample_bytree': 0.5, 'learning_rate': 0.01, 'max_depth': 15, 'n_estimators': 100}\n",
      "0.789 + or -0.168 for the {'colsample_bytree': 0.5, 'learning_rate': 0.01, 'max_depth': 15, 'n_estimators': 300}\n",
      "0.783 + or -0.16 for the {'colsample_bytree': 0.5, 'learning_rate': 0.01, 'max_depth': 15, 'n_estimators': 500}\n",
      "0.778 + or -0.156 for the {'colsample_bytree': 0.5, 'learning_rate': 0.01, 'max_depth': 15, 'n_estimators': 700}\n",
      "0.778 + or -0.155 for the {'colsample_bytree': 0.5, 'learning_rate': 0.01, 'max_depth': 15, 'n_estimators': 900}\n",
      "0.63 + or -0.128 for the {'colsample_bytree': 0.5, 'learning_rate': 0.001, 'max_depth': 3, 'n_estimators': 100}\n",
      "0.627 + or -0.132 for the {'colsample_bytree': 0.5, 'learning_rate': 0.001, 'max_depth': 3, 'n_estimators': 300}\n",
      "0.629 + or -0.141 for the {'colsample_bytree': 0.5, 'learning_rate': 0.001, 'max_depth': 3, 'n_estimators': 500}\n",
      "0.632 + or -0.15 for the {'colsample_bytree': 0.5, 'learning_rate': 0.001, 'max_depth': 3, 'n_estimators': 700}\n",
      "0.636 + or -0.148 for the {'colsample_bytree': 0.5, 'learning_rate': 0.001, 'max_depth': 3, 'n_estimators': 900}\n",
      "0.665 + or -0.167 for the {'colsample_bytree': 0.5, 'learning_rate': 0.001, 'max_depth': 4, 'n_estimators': 100}\n",
      "0.68 + or -0.156 for the {'colsample_bytree': 0.5, 'learning_rate': 0.001, 'max_depth': 4, 'n_estimators': 300}\n",
      "0.678 + or -0.16 for the {'colsample_bytree': 0.5, 'learning_rate': 0.001, 'max_depth': 4, 'n_estimators': 500}\n",
      "0.67 + or -0.173 for the {'colsample_bytree': 0.5, 'learning_rate': 0.001, 'max_depth': 4, 'n_estimators': 700}\n",
      "0.673 + or -0.171 for the {'colsample_bytree': 0.5, 'learning_rate': 0.001, 'max_depth': 4, 'n_estimators': 900}\n",
      "0.757 + or -0.172 for the {'colsample_bytree': 0.5, 'learning_rate': 0.001, 'max_depth': 6, 'n_estimators': 100}\n",
      "0.753 + or -0.179 for the {'colsample_bytree': 0.5, 'learning_rate': 0.001, 'max_depth': 6, 'n_estimators': 300}\n",
      "0.751 + or -0.179 for the {'colsample_bytree': 0.5, 'learning_rate': 0.001, 'max_depth': 6, 'n_estimators': 500}\n",
      "0.751 + or -0.187 for the {'colsample_bytree': 0.5, 'learning_rate': 0.001, 'max_depth': 6, 'n_estimators': 700}\n",
      "0.749 + or -0.191 for the {'colsample_bytree': 0.5, 'learning_rate': 0.001, 'max_depth': 6, 'n_estimators': 900}\n",
      "0.786 + or -0.17 for the {'colsample_bytree': 0.5, 'learning_rate': 0.001, 'max_depth': 8, 'n_estimators': 100}\n",
      "0.793 + or -0.16 for the {'colsample_bytree': 0.5, 'learning_rate': 0.001, 'max_depth': 8, 'n_estimators': 300}\n",
      "0.784 + or -0.16 for the {'colsample_bytree': 0.5, 'learning_rate': 0.001, 'max_depth': 8, 'n_estimators': 500}\n",
      "0.78 + or -0.168 for the {'colsample_bytree': 0.5, 'learning_rate': 0.001, 'max_depth': 8, 'n_estimators': 700}\n",
      "0.781 + or -0.172 for the {'colsample_bytree': 0.5, 'learning_rate': 0.001, 'max_depth': 8, 'n_estimators': 900}\n",
      "0.803 + or -0.176 for the {'colsample_bytree': 0.5, 'learning_rate': 0.001, 'max_depth': 10, 'n_estimators': 100}\n",
      "0.809 + or -0.165 for the {'colsample_bytree': 0.5, 'learning_rate': 0.001, 'max_depth': 10, 'n_estimators': 300}\n",
      "0.804 + or -0.165 for the {'colsample_bytree': 0.5, 'learning_rate': 0.001, 'max_depth': 10, 'n_estimators': 500}\n",
      "0.8 + or -0.169 for the {'colsample_bytree': 0.5, 'learning_rate': 0.001, 'max_depth': 10, 'n_estimators': 700}\n",
      "0.796 + or -0.17 for the {'colsample_bytree': 0.5, 'learning_rate': 0.001, 'max_depth': 10, 'n_estimators': 900}\n",
      "0.807 + or -0.177 for the {'colsample_bytree': 0.5, 'learning_rate': 0.001, 'max_depth': 15, 'n_estimators': 100}\n",
      "0.811 + or -0.167 for the {'colsample_bytree': 0.5, 'learning_rate': 0.001, 'max_depth': 15, 'n_estimators': 300}\n",
      "0.81 + or -0.168 for the {'colsample_bytree': 0.5, 'learning_rate': 0.001, 'max_depth': 15, 'n_estimators': 500}\n",
      "0.801 + or -0.172 for the {'colsample_bytree': 0.5, 'learning_rate': 0.001, 'max_depth': 15, 'n_estimators': 700}\n",
      "0.801 + or -0.171 for the {'colsample_bytree': 0.5, 'learning_rate': 0.001, 'max_depth': 15, 'n_estimators': 900}\n",
      "0.706 + or -0.178 for the {'colsample_bytree': 0.8, 'learning_rate': 0.1, 'max_depth': 3, 'n_estimators': 100}\n",
      "0.73 + or -0.181 for the {'colsample_bytree': 0.8, 'learning_rate': 0.1, 'max_depth': 3, 'n_estimators': 300}\n",
      "0.729 + or -0.176 for the {'colsample_bytree': 0.8, 'learning_rate': 0.1, 'max_depth': 3, 'n_estimators': 500}\n",
      "0.725 + or -0.173 for the {'colsample_bytree': 0.8, 'learning_rate': 0.1, 'max_depth': 3, 'n_estimators': 700}\n",
      "0.724 + or -0.172 for the {'colsample_bytree': 0.8, 'learning_rate': 0.1, 'max_depth': 3, 'n_estimators': 900}\n",
      "0.722 + or -0.178 for the {'colsample_bytree': 0.8, 'learning_rate': 0.1, 'max_depth': 4, 'n_estimators': 100}\n",
      "0.735 + or -0.167 for the {'colsample_bytree': 0.8, 'learning_rate': 0.1, 'max_depth': 4, 'n_estimators': 300}\n",
      "0.738 + or -0.165 for the {'colsample_bytree': 0.8, 'learning_rate': 0.1, 'max_depth': 4, 'n_estimators': 500}\n",
      "0.733 + or -0.169 for the {'colsample_bytree': 0.8, 'learning_rate': 0.1, 'max_depth': 4, 'n_estimators': 700}\n",
      "0.738 + or -0.166 for the {'colsample_bytree': 0.8, 'learning_rate': 0.1, 'max_depth': 4, 'n_estimators': 900}\n",
      "0.739 + or -0.176 for the {'colsample_bytree': 0.8, 'learning_rate': 0.1, 'max_depth': 6, 'n_estimators': 100}\n",
      "0.739 + or -0.16 for the {'colsample_bytree': 0.8, 'learning_rate': 0.1, 'max_depth': 6, 'n_estimators': 300}\n",
      "0.743 + or -0.156 for the {'colsample_bytree': 0.8, 'learning_rate': 0.1, 'max_depth': 6, 'n_estimators': 500}\n",
      "0.741 + or -0.156 for the {'colsample_bytree': 0.8, 'learning_rate': 0.1, 'max_depth': 6, 'n_estimators': 700}\n",
      "0.745 + or -0.153 for the {'colsample_bytree': 0.8, 'learning_rate': 0.1, 'max_depth': 6, 'n_estimators': 900}\n",
      "0.746 + or -0.168 for the {'colsample_bytree': 0.8, 'learning_rate': 0.1, 'max_depth': 8, 'n_estimators': 100}\n",
      "0.746 + or -0.162 for the {'colsample_bytree': 0.8, 'learning_rate': 0.1, 'max_depth': 8, 'n_estimators': 300}\n",
      "0.744 + or -0.161 for the {'colsample_bytree': 0.8, 'learning_rate': 0.1, 'max_depth': 8, 'n_estimators': 500}\n",
      "0.746 + or -0.162 for the {'colsample_bytree': 0.8, 'learning_rate': 0.1, 'max_depth': 8, 'n_estimators': 700}\n",
      "0.755 + or -0.154 for the {'colsample_bytree': 0.8, 'learning_rate': 0.1, 'max_depth': 8, 'n_estimators': 900}\n",
      "0.746 + or -0.165 for the {'colsample_bytree': 0.8, 'learning_rate': 0.1, 'max_depth': 10, 'n_estimators': 100}\n",
      "0.747 + or -0.162 for the {'colsample_bytree': 0.8, 'learning_rate': 0.1, 'max_depth': 10, 'n_estimators': 300}\n",
      "0.753 + or -0.158 for the {'colsample_bytree': 0.8, 'learning_rate': 0.1, 'max_depth': 10, 'n_estimators': 500}\n",
      "0.751 + or -0.154 for the {'colsample_bytree': 0.8, 'learning_rate': 0.1, 'max_depth': 10, 'n_estimators': 700}\n",
      "0.753 + or -0.155 for the {'colsample_bytree': 0.8, 'learning_rate': 0.1, 'max_depth': 10, 'n_estimators': 900}\n",
      "0.756 + or -0.171 for the {'colsample_bytree': 0.8, 'learning_rate': 0.1, 'max_depth': 15, 'n_estimators': 100}\n",
      "0.759 + or -0.161 for the {'colsample_bytree': 0.8, 'learning_rate': 0.1, 'max_depth': 15, 'n_estimators': 300}\n",
      "0.75 + or -0.162 for the {'colsample_bytree': 0.8, 'learning_rate': 0.1, 'max_depth': 15, 'n_estimators': 500}\n",
      "0.756 + or -0.156 for the {'colsample_bytree': 0.8, 'learning_rate': 0.1, 'max_depth': 15, 'n_estimators': 700}\n",
      "0.755 + or -0.157 for the {'colsample_bytree': 0.8, 'learning_rate': 0.1, 'max_depth': 15, 'n_estimators': 900}\n",
      "0.619 + or -0.15 for the {'colsample_bytree': 0.8, 'learning_rate': 0.01, 'max_depth': 3, 'n_estimators': 100}\n",
      "0.658 + or -0.19 for the {'colsample_bytree': 0.8, 'learning_rate': 0.01, 'max_depth': 3, 'n_estimators': 300}\n",
      "0.676 + or -0.193 for the {'colsample_bytree': 0.8, 'learning_rate': 0.01, 'max_depth': 3, 'n_estimators': 500}\n",
      "0.689 + or -0.192 for the {'colsample_bytree': 0.8, 'learning_rate': 0.01, 'max_depth': 3, 'n_estimators': 700}\n",
      "0.699 + or -0.187 for the {'colsample_bytree': 0.8, 'learning_rate': 0.01, 'max_depth': 3, 'n_estimators': 900}\n",
      "0.658 + or -0.164 for the {'colsample_bytree': 0.8, 'learning_rate': 0.01, 'max_depth': 4, 'n_estimators': 100}\n",
      "0.702 + or -0.181 for the {'colsample_bytree': 0.8, 'learning_rate': 0.01, 'max_depth': 4, 'n_estimators': 300}\n",
      "0.706 + or -0.184 for the {'colsample_bytree': 0.8, 'learning_rate': 0.01, 'max_depth': 4, 'n_estimators': 500}\n",
      "0.708 + or -0.185 for the {'colsample_bytree': 0.8, 'learning_rate': 0.01, 'max_depth': 4, 'n_estimators': 700}\n",
      "0.71 + or -0.195 for the {'colsample_bytree': 0.8, 'learning_rate': 0.01, 'max_depth': 4, 'n_estimators': 900}\n",
      "0.714 + or -0.191 for the {'colsample_bytree': 0.8, 'learning_rate': 0.01, 'max_depth': 6, 'n_estimators': 100}\n",
      "0.727 + or -0.194 for the {'colsample_bytree': 0.8, 'learning_rate': 0.01, 'max_depth': 6, 'n_estimators': 300}\n",
      "0.734 + or -0.186 for the {'colsample_bytree': 0.8, 'learning_rate': 0.01, 'max_depth': 6, 'n_estimators': 500}\n",
      "0.735 + or -0.184 for the {'colsample_bytree': 0.8, 'learning_rate': 0.01, 'max_depth': 6, 'n_estimators': 700}\n",
      "0.733 + or -0.184 for the {'colsample_bytree': 0.8, 'learning_rate': 0.01, 'max_depth': 6, 'n_estimators': 900}\n",
      "0.723 + or -0.179 for the {'colsample_bytree': 0.8, 'learning_rate': 0.01, 'max_depth': 8, 'n_estimators': 100}\n",
      "0.735 + or -0.179 for the {'colsample_bytree': 0.8, 'learning_rate': 0.01, 'max_depth': 8, 'n_estimators': 300}\n",
      "0.738 + or -0.181 for the {'colsample_bytree': 0.8, 'learning_rate': 0.01, 'max_depth': 8, 'n_estimators': 500}\n",
      "0.74 + or -0.174 for the {'colsample_bytree': 0.8, 'learning_rate': 0.01, 'max_depth': 8, 'n_estimators': 700}\n",
      "0.737 + or -0.173 for the {'colsample_bytree': 0.8, 'learning_rate': 0.01, 'max_depth': 8, 'n_estimators': 900}\n",
      "0.732 + or -0.178 for the {'colsample_bytree': 0.8, 'learning_rate': 0.01, 'max_depth': 10, 'n_estimators': 100}\n",
      "0.744 + or -0.179 for the {'colsample_bytree': 0.8, 'learning_rate': 0.01, 'max_depth': 10, 'n_estimators': 300}\n",
      "0.745 + or -0.172 for the {'colsample_bytree': 0.8, 'learning_rate': 0.01, 'max_depth': 10, 'n_estimators': 500}\n",
      "0.742 + or -0.171 for the {'colsample_bytree': 0.8, 'learning_rate': 0.01, 'max_depth': 10, 'n_estimators': 700}\n",
      "0.743 + or -0.172 for the {'colsample_bytree': 0.8, 'learning_rate': 0.01, 'max_depth': 10, 'n_estimators': 900}\n",
      "0.742 + or -0.18 for the {'colsample_bytree': 0.8, 'learning_rate': 0.01, 'max_depth': 15, 'n_estimators': 100}\n",
      "0.747 + or -0.17 for the {'colsample_bytree': 0.8, 'learning_rate': 0.01, 'max_depth': 15, 'n_estimators': 300}\n",
      "0.751 + or -0.164 for the {'colsample_bytree': 0.8, 'learning_rate': 0.01, 'max_depth': 15, 'n_estimators': 500}\n",
      "0.75 + or -0.162 for the {'colsample_bytree': 0.8, 'learning_rate': 0.01, 'max_depth': 15, 'n_estimators': 700}\n",
      "0.753 + or -0.162 for the {'colsample_bytree': 0.8, 'learning_rate': 0.01, 'max_depth': 15, 'n_estimators': 900}\n",
      "0.617 + or -0.103 for the {'colsample_bytree': 0.8, 'learning_rate': 0.001, 'max_depth': 3, 'n_estimators': 100}\n",
      "0.609 + or -0.115 for the {'colsample_bytree': 0.8, 'learning_rate': 0.001, 'max_depth': 3, 'n_estimators': 300}\n",
      "0.617 + or -0.137 for the {'colsample_bytree': 0.8, 'learning_rate': 0.001, 'max_depth': 3, 'n_estimators': 500}\n",
      "0.612 + or -0.147 for the {'colsample_bytree': 0.8, 'learning_rate': 0.001, 'max_depth': 3, 'n_estimators': 700}\n",
      "0.618 + or -0.154 for the {'colsample_bytree': 0.8, 'learning_rate': 0.001, 'max_depth': 3, 'n_estimators': 900}\n",
      "0.624 + or -0.135 for the {'colsample_bytree': 0.8, 'learning_rate': 0.001, 'max_depth': 4, 'n_estimators': 100}\n",
      "0.634 + or -0.134 for the {'colsample_bytree': 0.8, 'learning_rate': 0.001, 'max_depth': 4, 'n_estimators': 300}\n",
      "0.629 + or -0.155 for the {'colsample_bytree': 0.8, 'learning_rate': 0.001, 'max_depth': 4, 'n_estimators': 500}\n",
      "0.636 + or -0.16 for the {'colsample_bytree': 0.8, 'learning_rate': 0.001, 'max_depth': 4, 'n_estimators': 700}\n",
      "0.642 + or -0.159 for the {'colsample_bytree': 0.8, 'learning_rate': 0.001, 'max_depth': 4, 'n_estimators': 900}\n",
      "0.697 + or -0.163 for the {'colsample_bytree': 0.8, 'learning_rate': 0.001, 'max_depth': 6, 'n_estimators': 100}\n",
      "0.706 + or -0.162 for the {'colsample_bytree': 0.8, 'learning_rate': 0.001, 'max_depth': 6, 'n_estimators': 300}\n",
      "0.705 + or -0.175 for the {'colsample_bytree': 0.8, 'learning_rate': 0.001, 'max_depth': 6, 'n_estimators': 500}\n",
      "0.703 + or -0.187 for the {'colsample_bytree': 0.8, 'learning_rate': 0.001, 'max_depth': 6, 'n_estimators': 700}\n",
      "0.703 + or -0.187 for the {'colsample_bytree': 0.8, 'learning_rate': 0.001, 'max_depth': 6, 'n_estimators': 900}\n",
      "0.722 + or -0.177 for the {'colsample_bytree': 0.8, 'learning_rate': 0.001, 'max_depth': 8, 'n_estimators': 100}\n",
      "0.728 + or -0.173 for the {'colsample_bytree': 0.8, 'learning_rate': 0.001, 'max_depth': 8, 'n_estimators': 300}\n",
      "0.721 + or -0.172 for the {'colsample_bytree': 0.8, 'learning_rate': 0.001, 'max_depth': 8, 'n_estimators': 500}\n",
      "0.72 + or -0.18 for the {'colsample_bytree': 0.8, 'learning_rate': 0.001, 'max_depth': 8, 'n_estimators': 700}\n",
      "0.722 + or -0.178 for the {'colsample_bytree': 0.8, 'learning_rate': 0.001, 'max_depth': 8, 'n_estimators': 900}\n",
      "0.735 + or -0.184 for the {'colsample_bytree': 0.8, 'learning_rate': 0.001, 'max_depth': 10, 'n_estimators': 100}\n",
      "0.736 + or -0.183 for the {'colsample_bytree': 0.8, 'learning_rate': 0.001, 'max_depth': 10, 'n_estimators': 300}\n",
      "0.726 + or -0.182 for the {'colsample_bytree': 0.8, 'learning_rate': 0.001, 'max_depth': 10, 'n_estimators': 500}\n",
      "0.731 + or -0.181 for the {'colsample_bytree': 0.8, 'learning_rate': 0.001, 'max_depth': 10, 'n_estimators': 700}\n",
      "0.73 + or -0.185 for the {'colsample_bytree': 0.8, 'learning_rate': 0.001, 'max_depth': 10, 'n_estimators': 900}\n",
      "0.746 + or -0.185 for the {'colsample_bytree': 0.8, 'learning_rate': 0.001, 'max_depth': 15, 'n_estimators': 100}\n",
      "0.741 + or -0.179 for the {'colsample_bytree': 0.8, 'learning_rate': 0.001, 'max_depth': 15, 'n_estimators': 300}\n",
      "0.738 + or -0.186 for the {'colsample_bytree': 0.8, 'learning_rate': 0.001, 'max_depth': 15, 'n_estimators': 500}\n",
      "0.742 + or -0.184 for the {'colsample_bytree': 0.8, 'learning_rate': 0.001, 'max_depth': 15, 'n_estimators': 700}\n",
      "0.731 + or -0.187 for the {'colsample_bytree': 0.8, 'learning_rate': 0.001, 'max_depth': 15, 'n_estimators': 900}\n"
     ]
    }
   ],
   "source": [
    "def display_results(results):\n",
    "    print(f'Best parameters are: {results.best_params_}')\n",
    "    print(f'Best Score is : {results.best_score_} ')\n",
    "    print(\"\\n\")\n",
    "    mean_score = results.cv_results_['mean_test_score']\n",
    "    std_score = results.cv_results_['std_test_score']\n",
    "    params = results.cv_results_['params']\n",
    "    for mean,std,params in zip(mean_score,std_score,params):\n",
    "        print(f'{round(mean,3)} + or -{round(std,3)} for the {params}')\n",
    "        \n",
    "display_results(cv)"
   ]
  },
  {
   "cell_type": "code",
   "execution_count": 51,
   "id": "e5bdb8db",
   "metadata": {},
   "outputs": [
    {
     "name": "stdout",
     "output_type": "stream",
     "text": [
      "K-fold cross-validation results:\n",
      "XGBoost average accuracy is 0.863\n",
      "XGBoost average log_loss is 0.626\n",
      "XGBoost average brier score is 0.217\n",
      "XGBoost average auc is 0.883\n",
      "XGBoost average recall is 0.779\n",
      "XGBoost average precision is 0.918\n",
      "XGBoost average f1 is 0.798\n"
     ]
    }
   ],
   "source": [
    "xgb_balanced = XGBClassifier( objective= 'binary:logistic', nthread=4, seed=42, n_estimators=300,\n",
    "                   max_depth = 15, learning_rate = 0.001, colsample_bytree = 0.3)\n",
    "xgb_balanced.fit(X_balanced,Y_balanced)\n",
    "\n",
    "scores_accuracy = cross_val_score(xgb_balanced, X_balanced, Y_balanced, cv=10, scoring='accuracy')\n",
    "scores_log_loss = cross_val_score(xgb_balanced, X_balanced, Y_balanced, cv=10, scoring='neg_log_loss')\n",
    "scores_briar = cross_val_score(xgb_balanced, X_balanced, Y_balanced, cv=10, scoring='neg_brier_score')\n",
    "scores_auc = cross_val_score(xgb_balanced, X_balanced, Y_balanced, cv=10, scoring='roc_auc')\n",
    "scores_recall = cross_val_score(xgb_balanced, X_balanced, Y_balanced, cv=10, scoring='recall')\n",
    "scores_precision = cross_val_score(xgb_balanced, X_balanced, Y_balanced, cv=10, scoring='precision')\n",
    "scores_f1 = cross_val_score(xgb_balanced, X_balanced, Y_balanced, cv=10, scoring='f1')\n",
    "print('K-fold cross-validation results:')\n",
    "print(\"XGBoost average accuracy is %2.3f\" % scores_accuracy.mean())\n",
    "print(\"XGBoost average log_loss is %2.3f\" % -scores_log_loss.mean())\n",
    "print(\"XGBoost average brier score is %2.3f\" % -scores_briar.mean())\n",
    "print(\"XGBoost average auc is %2.3f\" % scores_auc.mean())\n",
    "print(\"XGBoost average recall is %2.3f\" % scores_recall.mean())\n",
    "print(\"XGBoost average precision is %2.3f\" % scores_precision.mean())\n",
    "print(\"XGBoost average f1 is %2.3f\" % scores_f1.mean())"
   ]
  },
  {
   "cell_type": "code",
   "execution_count": null,
   "id": "f1ecbc9b",
   "metadata": {},
   "outputs": [],
   "source": []
  },
  {
   "cell_type": "code",
   "execution_count": null,
   "id": "2f0d447c",
   "metadata": {},
   "outputs": [],
   "source": []
  }
 ],
 "metadata": {
  "kernelspec": {
   "display_name": "Python 3 (ipykernel)",
   "language": "python",
   "name": "python3"
  },
  "language_info": {
   "codemirror_mode": {
    "name": "ipython",
    "version": 3
   },
   "file_extension": ".py",
   "mimetype": "text/x-python",
   "name": "python",
   "nbconvert_exporter": "python",
   "pygments_lexer": "ipython3",
   "version": "3.9.7"
  }
 },
 "nbformat": 4,
 "nbformat_minor": 5
}
