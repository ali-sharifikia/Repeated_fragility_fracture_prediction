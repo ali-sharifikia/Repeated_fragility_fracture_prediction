{
 "cells": [
  {
   "cell_type": "code",
   "execution_count": 1,
   "id": "33e48ee4",
   "metadata": {},
   "outputs": [
    {
     "name": "stderr",
     "output_type": "stream",
     "text": [
      "<frozen importlib._bootstrap>:228: RuntimeWarning: scipy._lib.messagestream.MessageStream size changed, may indicate binary incompatibility. Expected 56 from C header, got 64 from PyObject\n"
     ]
    }
   ],
   "source": [
    "import pandas as pd\n",
    "import numpy as np\n",
    "from imblearn.over_sampling import SMOTE\n",
    "from sklearn.preprocessing import normalize,StandardScaler\n",
    "from sklearn.model_selection import cross_val_predict, cross_val_score, GridSearchCV,train_test_split,KFold\n",
    "from sklearn.metrics import accuracy_score, classification_report, precision_score, recall_score,f1_score\n",
    "from sklearn.metrics import confusion_matrix, precision_recall_curve, roc_curve, auc, log_loss,roc_auc_score\n",
    "from xgboost import XGBClassifier\n",
    "import seaborn as sns\n",
    "import matplotlib.pyplot as plt\n",
    "plt.rc(\"font\", size=14)\n",
    "sns.set(style=\"white\")\n",
    "sns.set(style=\"whitegrid\", color_codes=True)"
   ]
  },
  {
   "cell_type": "code",
   "execution_count": 2,
   "id": "381d76ff",
   "metadata": {},
   "outputs": [],
   "source": [
    "Dataset = pd.read_csv(\"Dataset_male.csv\")"
   ]
  },
  {
   "cell_type": "code",
   "execution_count": 3,
   "id": "72f5f3df",
   "metadata": {},
   "outputs": [
    {
     "data": {
      "text/html": [
       "<div>\n",
       "<style scoped>\n",
       "    .dataframe tbody tr th:only-of-type {\n",
       "        vertical-align: middle;\n",
       "    }\n",
       "\n",
       "    .dataframe tbody tr th {\n",
       "        vertical-align: top;\n",
       "    }\n",
       "\n",
       "    .dataframe thead th {\n",
       "        text-align: right;\n",
       "    }\n",
       "</style>\n",
       "<table border=\"1\" class=\"dataframe\">\n",
       "  <thead>\n",
       "    <tr style=\"text-align: right;\">\n",
       "      <th></th>\n",
       "      <th>ID</th>\n",
       "      <th>Name</th>\n",
       "      <th>Last_Name</th>\n",
       "      <th>Sex</th>\n",
       "      <th>Age</th>\n",
       "      <th>Menopause_age</th>\n",
       "      <th>Tscore_Hip_total</th>\n",
       "      <th>CRP</th>\n",
       "      <th>Cr</th>\n",
       "      <th>ALP</th>\n",
       "      <th>...</th>\n",
       "      <th>Tscore_Hip_neck</th>\n",
       "      <th>Zscore_Hip_neck</th>\n",
       "      <th>BMI</th>\n",
       "      <th>Pregnancy_Count</th>\n",
       "      <th>Histroy_Anticoagulant</th>\n",
       "      <th>Active_Smoking</th>\n",
       "      <th>History_Smoking</th>\n",
       "      <th>Calcium_Supplement</th>\n",
       "      <th>History_Diabetes_2</th>\n",
       "      <th>Refracture</th>\n",
       "    </tr>\n",
       "  </thead>\n",
       "  <tbody>\n",
       "    <tr>\n",
       "      <th>0</th>\n",
       "      <td>390</td>\n",
       "      <td>منوچهر</td>\n",
       "      <td>باقریان</td>\n",
       "      <td>1</td>\n",
       "      <td>63</td>\n",
       "      <td></td>\n",
       "      <td>-0.2</td>\n",
       "      <td>5</td>\n",
       "      <td>1</td>\n",
       "      <td>90</td>\n",
       "      <td>...</td>\n",
       "      <td>-1.5</td>\n",
       "      <td>0.5</td>\n",
       "      <td>40.8</td>\n",
       "      <td></td>\n",
       "      <td>0</td>\n",
       "      <td>0</td>\n",
       "      <td>0</td>\n",
       "      <td>0</td>\n",
       "      <td>0</td>\n",
       "      <td>0</td>\n",
       "    </tr>\n",
       "    <tr>\n",
       "      <th>1</th>\n",
       "      <td>1136</td>\n",
       "      <td>حسن</td>\n",
       "      <td>مقیم زاده</td>\n",
       "      <td>1</td>\n",
       "      <td>69</td>\n",
       "      <td></td>\n",
       "      <td>-0.5</td>\n",
       "      <td></td>\n",
       "      <td></td>\n",
       "      <td></td>\n",
       "      <td>...</td>\n",
       "      <td>-1.4</td>\n",
       "      <td>-0.3</td>\n",
       "      <td>40</td>\n",
       "      <td></td>\n",
       "      <td>0</td>\n",
       "      <td>0</td>\n",
       "      <td>0</td>\n",
       "      <td>0</td>\n",
       "      <td>0</td>\n",
       "      <td>1</td>\n",
       "    </tr>\n",
       "    <tr>\n",
       "      <th>2</th>\n",
       "      <td>615</td>\n",
       "      <td>محمدعلی</td>\n",
       "      <td>قلعه</td>\n",
       "      <td>1</td>\n",
       "      <td>60</td>\n",
       "      <td></td>\n",
       "      <td>1.1</td>\n",
       "      <td>10</td>\n",
       "      <td>0.8</td>\n",
       "      <td>142</td>\n",
       "      <td>...</td>\n",
       "      <td>-1.8</td>\n",
       "      <td>-0.8</td>\n",
       "      <td>38.2</td>\n",
       "      <td></td>\n",
       "      <td>0</td>\n",
       "      <td>1</td>\n",
       "      <td>1</td>\n",
       "      <td>0</td>\n",
       "      <td>0</td>\n",
       "      <td>0</td>\n",
       "    </tr>\n",
       "    <tr>\n",
       "      <th>3</th>\n",
       "      <td>155</td>\n",
       "      <td>جعفر</td>\n",
       "      <td>خانی</td>\n",
       "      <td>1</td>\n",
       "      <td>59</td>\n",
       "      <td></td>\n",
       "      <td>-0.4</td>\n",
       "      <td>14</td>\n",
       "      <td>0.7</td>\n",
       "      <td>202</td>\n",
       "      <td>...</td>\n",
       "      <td>-2</td>\n",
       "      <td>-1.1</td>\n",
       "      <td>38.1</td>\n",
       "      <td></td>\n",
       "      <td>1</td>\n",
       "      <td>1</td>\n",
       "      <td>1</td>\n",
       "      <td>0</td>\n",
       "      <td>1</td>\n",
       "      <td>1</td>\n",
       "    </tr>\n",
       "    <tr>\n",
       "      <th>4</th>\n",
       "      <td>1429</td>\n",
       "      <td>محمود</td>\n",
       "      <td>خان بابا زاده</td>\n",
       "      <td>1</td>\n",
       "      <td>50</td>\n",
       "      <td></td>\n",
       "      <td>1.5</td>\n",
       "      <td>1</td>\n",
       "      <td>1.2</td>\n",
       "      <td>146</td>\n",
       "      <td>...</td>\n",
       "      <td>0.7</td>\n",
       "      <td>1.5</td>\n",
       "      <td>36.1</td>\n",
       "      <td></td>\n",
       "      <td></td>\n",
       "      <td></td>\n",
       "      <td>0</td>\n",
       "      <td>0</td>\n",
       "      <td></td>\n",
       "      <td>0</td>\n",
       "    </tr>\n",
       "    <tr>\n",
       "      <th>...</th>\n",
       "      <td>...</td>\n",
       "      <td>...</td>\n",
       "      <td>...</td>\n",
       "      <td>...</td>\n",
       "      <td>...</td>\n",
       "      <td>...</td>\n",
       "      <td>...</td>\n",
       "      <td>...</td>\n",
       "      <td>...</td>\n",
       "      <td>...</td>\n",
       "      <td>...</td>\n",
       "      <td>...</td>\n",
       "      <td>...</td>\n",
       "      <td>...</td>\n",
       "      <td>...</td>\n",
       "      <td>...</td>\n",
       "      <td>...</td>\n",
       "      <td>...</td>\n",
       "      <td>...</td>\n",
       "      <td>...</td>\n",
       "      <td>...</td>\n",
       "    </tr>\n",
       "    <tr>\n",
       "      <th>383</th>\n",
       "      <td>432</td>\n",
       "      <td>محمد رضا</td>\n",
       "      <td>رمضانی</td>\n",
       "      <td>1</td>\n",
       "      <td>58</td>\n",
       "      <td></td>\n",
       "      <td>0</td>\n",
       "      <td>3</td>\n",
       "      <td>3</td>\n",
       "      <td>246</td>\n",
       "      <td>...</td>\n",
       "      <td>-1.1</td>\n",
       "      <td>0</td>\n",
       "      <td>24.4</td>\n",
       "      <td></td>\n",
       "      <td>0</td>\n",
       "      <td>0</td>\n",
       "      <td>0</td>\n",
       "      <td></td>\n",
       "      <td>0</td>\n",
       "      <td>0</td>\n",
       "    </tr>\n",
       "    <tr>\n",
       "      <th>384</th>\n",
       "      <td>1114</td>\n",
       "      <td>سبز علی</td>\n",
       "      <td>بکیای سای افشار</td>\n",
       "      <td>1</td>\n",
       "      <td>59</td>\n",
       "      <td></td>\n",
       "      <td></td>\n",
       "      <td>5</td>\n",
       "      <td>0.8</td>\n",
       "      <td>141</td>\n",
       "      <td>...</td>\n",
       "      <td></td>\n",
       "      <td></td>\n",
       "      <td></td>\n",
       "      <td></td>\n",
       "      <td>1</td>\n",
       "      <td></td>\n",
       "      <td></td>\n",
       "      <td></td>\n",
       "      <td></td>\n",
       "      <td>0</td>\n",
       "    </tr>\n",
       "    <tr>\n",
       "      <th>385</th>\n",
       "      <td>1108</td>\n",
       "      <td>احمد</td>\n",
       "      <td>عبدالخالق</td>\n",
       "      <td>1</td>\n",
       "      <td>64</td>\n",
       "      <td></td>\n",
       "      <td></td>\n",
       "      <td>6</td>\n",
       "      <td>0.9</td>\n",
       "      <td>143</td>\n",
       "      <td>...</td>\n",
       "      <td></td>\n",
       "      <td></td>\n",
       "      <td></td>\n",
       "      <td></td>\n",
       "      <td>0</td>\n",
       "      <td></td>\n",
       "      <td></td>\n",
       "      <td></td>\n",
       "      <td></td>\n",
       "      <td>0</td>\n",
       "    </tr>\n",
       "    <tr>\n",
       "      <th>386</th>\n",
       "      <td>1104</td>\n",
       "      <td>عباس</td>\n",
       "      <td>شیرازی</td>\n",
       "      <td>1</td>\n",
       "      <td>62</td>\n",
       "      <td></td>\n",
       "      <td>-3</td>\n",
       "      <td>10</td>\n",
       "      <td>1.2</td>\n",
       "      <td>202</td>\n",
       "      <td>...</td>\n",
       "      <td>-2.9</td>\n",
       "      <td>-1.9</td>\n",
       "      <td></td>\n",
       "      <td></td>\n",
       "      <td>0</td>\n",
       "      <td></td>\n",
       "      <td></td>\n",
       "      <td></td>\n",
       "      <td></td>\n",
       "      <td>1</td>\n",
       "    </tr>\n",
       "    <tr>\n",
       "      <th>387</th>\n",
       "      <td>1111</td>\n",
       "      <td>سید مرتضی</td>\n",
       "      <td>عظیمی نژاد</td>\n",
       "      <td>1</td>\n",
       "      <td>66</td>\n",
       "      <td></td>\n",
       "      <td>-4</td>\n",
       "      <td>2</td>\n",
       "      <td>0.9</td>\n",
       "      <td></td>\n",
       "      <td>...</td>\n",
       "      <td>-2</td>\n",
       "      <td>-0.5</td>\n",
       "      <td></td>\n",
       "      <td></td>\n",
       "      <td>1</td>\n",
       "      <td></td>\n",
       "      <td></td>\n",
       "      <td></td>\n",
       "      <td></td>\n",
       "      <td>0</td>\n",
       "    </tr>\n",
       "  </tbody>\n",
       "</table>\n",
       "<p>388 rows × 31 columns</p>\n",
       "</div>"
      ],
      "text/plain": [
       "       ID       Name        Last_Name  Sex  Age Menopause_age  \\\n",
       "0     390     منوچهر          باقریان    1   63                 \n",
       "1    1136        حسن        مقیم زاده    1   69                 \n",
       "2     615    محمدعلی             قلعه    1   60                 \n",
       "3     155       جعفر             خانی    1   59                 \n",
       "4    1429      محمود    خان بابا زاده    1   50                 \n",
       "..    ...        ...              ...  ...  ...           ...   \n",
       "383   432   محمد رضا           رمضانی    1   58                 \n",
       "384  1114    سبز علی  بکیای سای افشار    1   59                 \n",
       "385  1108       احمد        عبدالخالق    1   64                 \n",
       "386  1104       عباس           شیرازی    1   62                 \n",
       "387  1111  سید مرتضی       عظیمی نژاد    1   66                 \n",
       "\n",
       "    Tscore_Hip_total CRP   Cr  ALP  ... Tscore_Hip_neck Zscore_Hip_neck   BMI  \\\n",
       "0               -0.2   5    1   90  ...            -1.5             0.5  40.8   \n",
       "1               -0.5                ...            -1.4            -0.3    40   \n",
       "2                1.1  10  0.8  142  ...            -1.8            -0.8  38.2   \n",
       "3               -0.4  14  0.7  202  ...              -2            -1.1  38.1   \n",
       "4                1.5   1  1.2  146  ...             0.7             1.5  36.1   \n",
       "..               ...  ..  ...  ...  ...             ...             ...   ...   \n",
       "383                0   3    3  246  ...            -1.1               0  24.4   \n",
       "384                    5  0.8  141  ...                                         \n",
       "385                    6  0.9  143  ...                                         \n",
       "386               -3  10  1.2  202  ...            -2.9            -1.9         \n",
       "387               -4   2  0.9       ...              -2            -0.5         \n",
       "\n",
       "    Pregnancy_Count Histroy_Anticoagulant Active_Smoking History_Smoking  \\\n",
       "0                                       0              0               0   \n",
       "1                                       0              0               0   \n",
       "2                                       0              1               1   \n",
       "3                                       1              1               1   \n",
       "4                                                                      0   \n",
       "..              ...                   ...            ...             ...   \n",
       "383                                     0              0               0   \n",
       "384                                     1                                  \n",
       "385                                     0                                  \n",
       "386                                     0                                  \n",
       "387                                     1                                  \n",
       "\n",
       "    Calcium_Supplement History_Diabetes_2 Refracture  \n",
       "0                    0                  0          0  \n",
       "1                    0                  0          1  \n",
       "2                    0                  0          0  \n",
       "3                    0                  1          1  \n",
       "4                    0                             0  \n",
       "..                 ...                ...        ...  \n",
       "383                                     0          0  \n",
       "384                                                0  \n",
       "385                                                0  \n",
       "386                                                1  \n",
       "387                                                0  \n",
       "\n",
       "[388 rows x 31 columns]"
      ]
     },
     "metadata": {},
     "output_type": "display_data"
    }
   ],
   "source": [
    "display(Dataset)"
   ]
  },
  {
   "cell_type": "code",
   "execution_count": 4,
   "id": "66fefd06",
   "metadata": {},
   "outputs": [],
   "source": [
    "Dataset.drop(\"Name\", axis = 1, inplace=True)\n",
    "Dataset.drop(\"Last_Name\", axis = 1, inplace=True)\n",
    "Dataset.replace(r'\\s+', np.nan, regex=True, inplace=True)"
   ]
  },
  {
   "cell_type": "code",
   "execution_count": 5,
   "id": "721302f8",
   "metadata": {},
   "outputs": [
    {
     "data": {
      "text/html": [
       "<div>\n",
       "<style scoped>\n",
       "    .dataframe tbody tr th:only-of-type {\n",
       "        vertical-align: middle;\n",
       "    }\n",
       "\n",
       "    .dataframe tbody tr th {\n",
       "        vertical-align: top;\n",
       "    }\n",
       "\n",
       "    .dataframe thead th {\n",
       "        text-align: right;\n",
       "    }\n",
       "</style>\n",
       "<table border=\"1\" class=\"dataframe\">\n",
       "  <thead>\n",
       "    <tr style=\"text-align: right;\">\n",
       "      <th></th>\n",
       "      <th>ID</th>\n",
       "      <th>Sex</th>\n",
       "      <th>Age</th>\n",
       "      <th>Menopause_age</th>\n",
       "      <th>Tscore_Hip_total</th>\n",
       "      <th>CRP</th>\n",
       "      <th>Cr</th>\n",
       "      <th>ALP</th>\n",
       "      <th>BUN</th>\n",
       "      <th>P</th>\n",
       "      <th>...</th>\n",
       "      <th>Tscore_Hip_neck</th>\n",
       "      <th>Zscore_Hip_neck</th>\n",
       "      <th>BMI</th>\n",
       "      <th>Pregnancy_Count</th>\n",
       "      <th>Histroy_Anticoagulant</th>\n",
       "      <th>Active_Smoking</th>\n",
       "      <th>History_Smoking</th>\n",
       "      <th>Calcium_Supplement</th>\n",
       "      <th>History_Diabetes_2</th>\n",
       "      <th>Refracture</th>\n",
       "    </tr>\n",
       "  </thead>\n",
       "  <tbody>\n",
       "    <tr>\n",
       "      <th>0</th>\n",
       "      <td>390</td>\n",
       "      <td>1</td>\n",
       "      <td>63</td>\n",
       "      <td>NaN</td>\n",
       "      <td>-0.2</td>\n",
       "      <td>5</td>\n",
       "      <td>1</td>\n",
       "      <td>90</td>\n",
       "      <td>16</td>\n",
       "      <td>4</td>\n",
       "      <td>...</td>\n",
       "      <td>-1.5</td>\n",
       "      <td>0.5</td>\n",
       "      <td>40.8</td>\n",
       "      <td>NaN</td>\n",
       "      <td>0</td>\n",
       "      <td>0</td>\n",
       "      <td>0</td>\n",
       "      <td>0</td>\n",
       "      <td>0</td>\n",
       "      <td>0</td>\n",
       "    </tr>\n",
       "    <tr>\n",
       "      <th>1</th>\n",
       "      <td>1136</td>\n",
       "      <td>1</td>\n",
       "      <td>69</td>\n",
       "      <td>NaN</td>\n",
       "      <td>-0.5</td>\n",
       "      <td>NaN</td>\n",
       "      <td>NaN</td>\n",
       "      <td>NaN</td>\n",
       "      <td>NaN</td>\n",
       "      <td>NaN</td>\n",
       "      <td>...</td>\n",
       "      <td>-1.4</td>\n",
       "      <td>-0.3</td>\n",
       "      <td>40</td>\n",
       "      <td>NaN</td>\n",
       "      <td>0</td>\n",
       "      <td>0</td>\n",
       "      <td>0</td>\n",
       "      <td>0</td>\n",
       "      <td>0</td>\n",
       "      <td>1</td>\n",
       "    </tr>\n",
       "    <tr>\n",
       "      <th>2</th>\n",
       "      <td>615</td>\n",
       "      <td>1</td>\n",
       "      <td>60</td>\n",
       "      <td>NaN</td>\n",
       "      <td>1.1</td>\n",
       "      <td>10</td>\n",
       "      <td>0.8</td>\n",
       "      <td>142</td>\n",
       "      <td>17</td>\n",
       "      <td>3.7</td>\n",
       "      <td>...</td>\n",
       "      <td>-1.8</td>\n",
       "      <td>-0.8</td>\n",
       "      <td>38.2</td>\n",
       "      <td>NaN</td>\n",
       "      <td>0</td>\n",
       "      <td>1</td>\n",
       "      <td>1</td>\n",
       "      <td>0</td>\n",
       "      <td>0</td>\n",
       "      <td>0</td>\n",
       "    </tr>\n",
       "    <tr>\n",
       "      <th>3</th>\n",
       "      <td>155</td>\n",
       "      <td>1</td>\n",
       "      <td>59</td>\n",
       "      <td>NaN</td>\n",
       "      <td>-0.4</td>\n",
       "      <td>14</td>\n",
       "      <td>0.7</td>\n",
       "      <td>202</td>\n",
       "      <td>17</td>\n",
       "      <td>4.2</td>\n",
       "      <td>...</td>\n",
       "      <td>-2</td>\n",
       "      <td>-1.1</td>\n",
       "      <td>38.1</td>\n",
       "      <td>NaN</td>\n",
       "      <td>1</td>\n",
       "      <td>1</td>\n",
       "      <td>1</td>\n",
       "      <td>0</td>\n",
       "      <td>1</td>\n",
       "      <td>1</td>\n",
       "    </tr>\n",
       "    <tr>\n",
       "      <th>4</th>\n",
       "      <td>1429</td>\n",
       "      <td>1</td>\n",
       "      <td>50</td>\n",
       "      <td>NaN</td>\n",
       "      <td>1.5</td>\n",
       "      <td>1</td>\n",
       "      <td>1.2</td>\n",
       "      <td>146</td>\n",
       "      <td>14</td>\n",
       "      <td>3</td>\n",
       "      <td>...</td>\n",
       "      <td>0.7</td>\n",
       "      <td>1.5</td>\n",
       "      <td>36.1</td>\n",
       "      <td>NaN</td>\n",
       "      <td>NaN</td>\n",
       "      <td>NaN</td>\n",
       "      <td>0</td>\n",
       "      <td>0</td>\n",
       "      <td>NaN</td>\n",
       "      <td>0</td>\n",
       "    </tr>\n",
       "    <tr>\n",
       "      <th>...</th>\n",
       "      <td>...</td>\n",
       "      <td>...</td>\n",
       "      <td>...</td>\n",
       "      <td>...</td>\n",
       "      <td>...</td>\n",
       "      <td>...</td>\n",
       "      <td>...</td>\n",
       "      <td>...</td>\n",
       "      <td>...</td>\n",
       "      <td>...</td>\n",
       "      <td>...</td>\n",
       "      <td>...</td>\n",
       "      <td>...</td>\n",
       "      <td>...</td>\n",
       "      <td>...</td>\n",
       "      <td>...</td>\n",
       "      <td>...</td>\n",
       "      <td>...</td>\n",
       "      <td>...</td>\n",
       "      <td>...</td>\n",
       "      <td>...</td>\n",
       "    </tr>\n",
       "    <tr>\n",
       "      <th>383</th>\n",
       "      <td>432</td>\n",
       "      <td>1</td>\n",
       "      <td>58</td>\n",
       "      <td>NaN</td>\n",
       "      <td>0</td>\n",
       "      <td>3</td>\n",
       "      <td>3</td>\n",
       "      <td>246</td>\n",
       "      <td>28</td>\n",
       "      <td>4.1</td>\n",
       "      <td>...</td>\n",
       "      <td>-1.1</td>\n",
       "      <td>0</td>\n",
       "      <td>24.4</td>\n",
       "      <td>NaN</td>\n",
       "      <td>0</td>\n",
       "      <td>0</td>\n",
       "      <td>0</td>\n",
       "      <td>NaN</td>\n",
       "      <td>0</td>\n",
       "      <td>0</td>\n",
       "    </tr>\n",
       "    <tr>\n",
       "      <th>384</th>\n",
       "      <td>1114</td>\n",
       "      <td>1</td>\n",
       "      <td>59</td>\n",
       "      <td>NaN</td>\n",
       "      <td>NaN</td>\n",
       "      <td>5</td>\n",
       "      <td>0.8</td>\n",
       "      <td>141</td>\n",
       "      <td>14</td>\n",
       "      <td>3.8</td>\n",
       "      <td>...</td>\n",
       "      <td>NaN</td>\n",
       "      <td>NaN</td>\n",
       "      <td>NaN</td>\n",
       "      <td>NaN</td>\n",
       "      <td>1</td>\n",
       "      <td>NaN</td>\n",
       "      <td>NaN</td>\n",
       "      <td>NaN</td>\n",
       "      <td>NaN</td>\n",
       "      <td>0</td>\n",
       "    </tr>\n",
       "    <tr>\n",
       "      <th>385</th>\n",
       "      <td>1108</td>\n",
       "      <td>1</td>\n",
       "      <td>64</td>\n",
       "      <td>NaN</td>\n",
       "      <td>NaN</td>\n",
       "      <td>6</td>\n",
       "      <td>0.9</td>\n",
       "      <td>143</td>\n",
       "      <td>14</td>\n",
       "      <td>4.5</td>\n",
       "      <td>...</td>\n",
       "      <td>NaN</td>\n",
       "      <td>NaN</td>\n",
       "      <td>NaN</td>\n",
       "      <td>NaN</td>\n",
       "      <td>0</td>\n",
       "      <td>NaN</td>\n",
       "      <td>NaN</td>\n",
       "      <td>NaN</td>\n",
       "      <td>NaN</td>\n",
       "      <td>0</td>\n",
       "    </tr>\n",
       "    <tr>\n",
       "      <th>386</th>\n",
       "      <td>1104</td>\n",
       "      <td>1</td>\n",
       "      <td>62</td>\n",
       "      <td>NaN</td>\n",
       "      <td>-3</td>\n",
       "      <td>10</td>\n",
       "      <td>1.2</td>\n",
       "      <td>202</td>\n",
       "      <td>17</td>\n",
       "      <td>4.5</td>\n",
       "      <td>...</td>\n",
       "      <td>-2.9</td>\n",
       "      <td>-1.9</td>\n",
       "      <td>NaN</td>\n",
       "      <td>NaN</td>\n",
       "      <td>0</td>\n",
       "      <td>NaN</td>\n",
       "      <td>NaN</td>\n",
       "      <td>NaN</td>\n",
       "      <td>NaN</td>\n",
       "      <td>1</td>\n",
       "    </tr>\n",
       "    <tr>\n",
       "      <th>387</th>\n",
       "      <td>1111</td>\n",
       "      <td>1</td>\n",
       "      <td>66</td>\n",
       "      <td>NaN</td>\n",
       "      <td>-4</td>\n",
       "      <td>2</td>\n",
       "      <td>0.9</td>\n",
       "      <td>NaN</td>\n",
       "      <td>22</td>\n",
       "      <td>NaN</td>\n",
       "      <td>...</td>\n",
       "      <td>-2</td>\n",
       "      <td>-0.5</td>\n",
       "      <td>NaN</td>\n",
       "      <td>NaN</td>\n",
       "      <td>1</td>\n",
       "      <td>NaN</td>\n",
       "      <td>NaN</td>\n",
       "      <td>NaN</td>\n",
       "      <td>NaN</td>\n",
       "      <td>0</td>\n",
       "    </tr>\n",
       "  </tbody>\n",
       "</table>\n",
       "<p>388 rows × 29 columns</p>\n",
       "</div>"
      ],
      "text/plain": [
       "       ID  Sex  Age  Menopause_age Tscore_Hip_total  CRP   Cr  ALP  BUN    P  \\\n",
       "0     390    1   63            NaN             -0.2    5    1   90   16    4   \n",
       "1    1136    1   69            NaN             -0.5  NaN  NaN  NaN  NaN  NaN   \n",
       "2     615    1   60            NaN              1.1   10  0.8  142   17  3.7   \n",
       "3     155    1   59            NaN             -0.4   14  0.7  202   17  4.2   \n",
       "4    1429    1   50            NaN              1.5    1  1.2  146   14    3   \n",
       "..    ...  ...  ...            ...              ...  ...  ...  ...  ...  ...   \n",
       "383   432    1   58            NaN                0    3    3  246   28  4.1   \n",
       "384  1114    1   59            NaN              NaN    5  0.8  141   14  3.8   \n",
       "385  1108    1   64            NaN              NaN    6  0.9  143   14  4.5   \n",
       "386  1104    1   62            NaN               -3   10  1.2  202   17  4.5   \n",
       "387  1111    1   66            NaN               -4    2  0.9  NaN   22  NaN   \n",
       "\n",
       "     ... Tscore_Hip_neck Zscore_Hip_neck   BMI Pregnancy_Count  \\\n",
       "0    ...            -1.5             0.5  40.8             NaN   \n",
       "1    ...            -1.4            -0.3    40             NaN   \n",
       "2    ...            -1.8            -0.8  38.2             NaN   \n",
       "3    ...              -2            -1.1  38.1             NaN   \n",
       "4    ...             0.7             1.5  36.1             NaN   \n",
       "..   ...             ...             ...   ...             ...   \n",
       "383  ...            -1.1               0  24.4             NaN   \n",
       "384  ...             NaN             NaN   NaN             NaN   \n",
       "385  ...             NaN             NaN   NaN             NaN   \n",
       "386  ...            -2.9            -1.9   NaN             NaN   \n",
       "387  ...              -2            -0.5   NaN             NaN   \n",
       "\n",
       "    Histroy_Anticoagulant Active_Smoking History_Smoking Calcium_Supplement  \\\n",
       "0                       0              0               0                  0   \n",
       "1                       0              0               0                  0   \n",
       "2                       0              1               1                  0   \n",
       "3                       1              1               1                  0   \n",
       "4                     NaN            NaN               0                  0   \n",
       "..                    ...            ...             ...                ...   \n",
       "383                     0              0               0                NaN   \n",
       "384                     1            NaN             NaN                NaN   \n",
       "385                     0            NaN             NaN                NaN   \n",
       "386                     0            NaN             NaN                NaN   \n",
       "387                     1            NaN             NaN                NaN   \n",
       "\n",
       "    History_Diabetes_2 Refracture  \n",
       "0                    0          0  \n",
       "1                    0          1  \n",
       "2                    0          0  \n",
       "3                    1          1  \n",
       "4                  NaN          0  \n",
       "..                 ...        ...  \n",
       "383                  0          0  \n",
       "384                NaN          0  \n",
       "385                NaN          0  \n",
       "386                NaN          1  \n",
       "387                NaN          0  \n",
       "\n",
       "[388 rows x 29 columns]"
      ]
     },
     "metadata": {},
     "output_type": "display_data"
    }
   ],
   "source": [
    "display(Dataset)"
   ]
  },
  {
   "cell_type": "code",
   "execution_count": 6,
   "id": "c59ee98e",
   "metadata": {},
   "outputs": [
    {
     "data": {
      "text/plain": [
       "ID                         0\n",
       "Sex                        0\n",
       "Age                        0\n",
       "Menopause_age            388\n",
       "Tscore_Hip_total          49\n",
       "CRP                       13\n",
       "Cr                        13\n",
       "ALP                       18\n",
       "BUN                       17\n",
       "P                         22\n",
       "Ca                        20\n",
       "PTH                       66\n",
       "Vit_D3                    38\n",
       "BMD_vertebra              46\n",
       "Tscore_vertebra           47\n",
       "Zscore_vertebra           48\n",
       "BMD_Hip_total             48\n",
       "Zscore_hip_total          48\n",
       "BMD_Hip_Neck              44\n",
       "Tscore_Hip_neck           44\n",
       "Zscore_Hip_neck           44\n",
       "BMI                        4\n",
       "Pregnancy_Count          388\n",
       "Histroy_Anticoagulant     65\n",
       "Active_Smoking            46\n",
       "History_Smoking           16\n",
       "Calcium_Supplement        14\n",
       "History_Diabetes_2        65\n",
       "Refracture                 0\n",
       "dtype: int64"
      ]
     },
     "execution_count": 6,
     "metadata": {},
     "output_type": "execute_result"
    }
   ],
   "source": [
    "Dataset.isnull().sum()"
   ]
  },
  {
   "cell_type": "code",
   "execution_count": 7,
   "id": "0df244be",
   "metadata": {},
   "outputs": [
    {
     "name": "stdout",
     "output_type": "stream",
     "text": [
      "Percent of missing \"Tscore_Hip_total\" records is 12.63%\n",
      "Percent of missing \"CRP\" records is 3.35%\n",
      "Percent of missing \"Cr\" records is 3.35%\n",
      "Percent of missing \"ALP\" records is 4.64%\n",
      "Percent of missing \"BUN\" records is 4.38%\n",
      "Percent of missing \"P\" records is 5.67%\n",
      "Percent of missing \"Ca\" records is 5.15%\n",
      "Percent of missing \"PTH\" records is 17.01%\n",
      "Percent of missing \"Vit_D3\" records is 9.79%\n",
      "Percent of missing \"BMD_vertebra\" records is 11.86%\n",
      "Percent of missing \"Tscore_vertebra\" records is 12.11%\n",
      "Percent of missing \"Zscore_vertebra\" records is 12.37%\n",
      "Percent of missing \"BMD_Hip_total\" records is 12.37%\n",
      "Percent of missing \"Zscore_hip_total\" records is 12.37%\n",
      "Percent of missing \"BMD_Hip_Neck\" records is 11.34%\n",
      "Percent of missing \"Tscore_Hip_neck\" records is 11.34%\n",
      "Percent of missing \"Zscore_Hip_neck\" records is 11.34%\n",
      "Percent of missing \"BMI\" records is 1.03%\n",
      "Percent of missing \"Histroy_Anticoagulant\" records is 16.75%\n",
      "Percent of missing \"Active_Smoking\" records is 11.86%\n",
      "Percent of missing \"History_Smoking\" records is 4.12%\n",
      "Percent of missing \"Calcium_Supplement\" records is 3.61%\n",
      "Percent of missing \"History_Diabetes_2\" records is 16.75%\n"
     ]
    }
   ],
   "source": [
    "print('Percent of missing \"Tscore_Hip_total\" records is %.2f%%' %((Dataset['Tscore_Hip_total'].isnull().sum()/Dataset.shape[0])*100))\n",
    "print('Percent of missing \"CRP\" records is %.2f%%' %((Dataset['CRP'].isnull().sum()/Dataset.shape[0])*100))\n",
    "print('Percent of missing \"Cr\" records is %.2f%%' %((Dataset['Cr'].isnull().sum()/Dataset.shape[0])*100))\n",
    "print('Percent of missing \"ALP\" records is %.2f%%' %((Dataset['ALP'].isnull().sum()/Dataset.shape[0])*100))\n",
    "print('Percent of missing \"BUN\" records is %.2f%%' %((Dataset['BUN'].isnull().sum()/Dataset.shape[0])*100))\n",
    "print('Percent of missing \"P\" records is %.2f%%' %((Dataset['P'].isnull().sum()/Dataset.shape[0])*100))\n",
    "print('Percent of missing \"Ca\" records is %.2f%%' %((Dataset['Ca'].isnull().sum()/Dataset.shape[0])*100))\n",
    "print('Percent of missing \"PTH\" records is %.2f%%' %((Dataset['PTH'].isnull().sum()/Dataset.shape[0])*100))\n",
    "print('Percent of missing \"Vit_D3\" records is %.2f%%' %((Dataset['Vit_D3'].isnull().sum()/Dataset.shape[0])*100))\n",
    "print('Percent of missing \"BMD_vertebra\" records is %.2f%%' %((Dataset['BMD_vertebra'].isnull().sum()/Dataset.shape[0])*100))\n",
    "print('Percent of missing \"Tscore_vertebra\" records is %.2f%%' %((Dataset['Tscore_vertebra'].isnull().sum()/Dataset.shape[0])*100))\n",
    "print('Percent of missing \"Zscore_vertebra\" records is %.2f%%' %((Dataset['Zscore_vertebra'].isnull().sum()/Dataset.shape[0])*100))\n",
    "print('Percent of missing \"BMD_Hip_total\" records is %.2f%%' %((Dataset['BMD_Hip_total'].isnull().sum()/Dataset.shape[0])*100))\n",
    "print('Percent of missing \"Zscore_hip_total\" records is %.2f%%' %((Dataset['Zscore_hip_total'].isnull().sum()/Dataset.shape[0])*100))\n",
    "print('Percent of missing \"BMD_Hip_Neck\" records is %.2f%%' %((Dataset['BMD_Hip_Neck'].isnull().sum()/Dataset.shape[0])*100))\n",
    "print('Percent of missing \"Tscore_Hip_neck\" records is %.2f%%' %((Dataset['Tscore_Hip_neck'].isnull().sum()/Dataset.shape[0])*100))\n",
    "print('Percent of missing \"Zscore_Hip_neck\" records is %.2f%%' %((Dataset['Zscore_Hip_neck'].isnull().sum()/Dataset.shape[0])*100))\n",
    "print('Percent of missing \"BMI\" records is %.2f%%' %((Dataset['BMI'].isnull().sum()/Dataset.shape[0])*100))\n",
    "print('Percent of missing \"Histroy_Anticoagulant\" records is %.2f%%' %((Dataset['Histroy_Anticoagulant'].isnull().sum()/Dataset.shape[0])*100))\n",
    "print('Percent of missing \"Active_Smoking\" records is %.2f%%' %((Dataset['Active_Smoking'].isnull().sum()/Dataset.shape[0])*100))\n",
    "print('Percent of missing \"History_Smoking\" records is %.2f%%' %((Dataset['History_Smoking'].isnull().sum()/Dataset.shape[0])*100))\n",
    "print('Percent of missing \"Calcium_Supplement\" records is %.2f%%' %((Dataset['Calcium_Supplement'].isnull().sum()/Dataset.shape[0])*100))\n",
    "print('Percent of missing \"History_Diabetes_2\" records is %.2f%%' %((Dataset['History_Diabetes_2'].isnull().sum()/Dataset.shape[0])*100))"
   ]
  },
  {
   "cell_type": "code",
   "execution_count": 7,
   "id": "3c773b81",
   "metadata": {},
   "outputs": [
    {
     "name": "stdout",
     "output_type": "stream",
     "text": [
      "1    388\n",
      "Name: Sex, dtype: int64\n"
     ]
    },
    {
     "data": {
      "image/png": "[encoded data removed]",
      "text/plain": [
       "<Figure size 432x288 with 1 Axes>"
      ]
     },
     "metadata": {},
     "output_type": "display_data"
    }
   ],
   "source": [
    "#Visualizing the distribution of variables\n",
    "print(Dataset['Sex'].value_counts())\n",
    "sns.countplot(x='Sex', data=Dataset, palette='Set2')\n",
    "plt.show()"
   ]
  },
  {
   "cell_type": "code",
   "execution_count": 8,
   "id": "ba739311",
   "metadata": {},
   "outputs": [
    {
     "data": {
      "image/png": "[encoded data removed]",
      "text/plain": [
       "<Figure size 432x288 with 1 Axes>"
      ]
     },
     "metadata": {},
     "output_type": "display_data"
    }
   ],
   "source": [
    "#Visualizing the distribution of variables\n",
    "ax = Dataset[\"Age\"].hist(bins=15, density=True, stacked=True, color='teal', alpha=0.6)\n",
    "ax = Dataset[\"Age\"].hist(bins=15, density=True, stacked=True, color='teal', alpha=0.6)\n",
    "Dataset[\"Age\"].plot(kind='density', color='teal')\n",
    "ax.set(xlabel='Age')\n",
    "plt.xlim(0,100)\n",
    "plt.show()"
   ]
  },
  {
   "cell_type": "code",
   "execution_count": 9,
   "id": "22f5e4b9",
   "metadata": {},
   "outputs": [
    {
     "data": {
      "text/plain": [
       "ID                         int64\n",
       "Sex                        int64\n",
       "Age                        int64\n",
       "Menopause_age            float64\n",
       "Tscore_Hip_total          object\n",
       "CRP                       object\n",
       "Cr                        object\n",
       "ALP                       object\n",
       "BUN                       object\n",
       "P                         object\n",
       "Ca                        object\n",
       "PTH                       object\n",
       "Vit_D3                    object\n",
       "BMD_vertebra              object\n",
       "Tscore_vertebra           object\n",
       "Zscore_vertebra           object\n",
       "BMD_Hip_total             object\n",
       "Zscore_hip_total          object\n",
       "BMD_Hip_Neck              object\n",
       "Tscore_Hip_neck           object\n",
       "Zscore_Hip_neck           object\n",
       "BMI                       object\n",
       "Pregnancy_Count          float64\n",
       "Histroy_Anticoagulant     object\n",
       "Active_Smoking            object\n",
       "History_Smoking           object\n",
       "Calcium_Supplement        object\n",
       "History_Diabetes_2        object\n",
       "Refracture                 int64\n",
       "dtype: object"
      ]
     },
     "execution_count": 9,
     "metadata": {},
     "output_type": "execute_result"
    }
   ],
   "source": [
    "Dataset.dtypes"
   ]
  },
  {
   "cell_type": "code",
   "execution_count": 10,
   "id": "934a2c96",
   "metadata": {},
   "outputs": [],
   "source": [
    "Dataset[\"Menopause_age\"] = Dataset[\"Menopause_age\"].astype(\"float\")\n",
    "Dataset[\"Tscore_Hip_total\"] = Dataset[\"Tscore_Hip_total\"].astype(\"float\")\n",
    "Dataset[\"CRP\"] = Dataset[\"CRP\"].astype(\"float\")\n",
    "Dataset[\"Cr\"] = Dataset[\"Cr\"].astype(\"float\")\n",
    "Dataset[\"ALP\"] = Dataset[\"ALP\"].astype(\"float\")\n",
    "Dataset[\"BUN\"] = Dataset[\"BUN\"].astype(\"float\")\n",
    "Dataset[\"P\"] = Dataset[\"P\"].astype(\"float\")\n",
    "Dataset[\"Ca\"] = Dataset[\"Ca\"].astype(\"float\")\n",
    "Dataset[\"PTH\"] = Dataset[\"PTH\"].astype(\"float\")\n",
    "Dataset[\"Vit_D3\"] = Dataset[\"Vit_D3\"].astype(\"float\")\n",
    "Dataset[\"BMD_vertebra\"] = Dataset[\"BMD_vertebra\"].astype(\"float\")\n",
    "Dataset[\"Tscore_vertebra\"] = Dataset[\"Tscore_vertebra\"].astype(\"float\")\n",
    "Dataset[\"Zscore_vertebra\"] = Dataset[\"Zscore_vertebra\"].astype(\"float\")\n",
    "Dataset[\"BMD_Hip_total\"] = Dataset[\"BMD_Hip_total\"].astype(\"float\")\n",
    "Dataset[\"Zscore_hip_total\"] = Dataset[\"Zscore_hip_total\"].astype(\"float\")\n",
    "Dataset[\"BMD_Hip_Neck\"] = Dataset[\"BMD_Hip_Neck\"].astype(\"float\")\n",
    "Dataset[\"Tscore_Hip_neck\"] = Dataset[\"Tscore_Hip_neck\"].astype(\"float\")\n",
    "Dataset[\"Zscore_Hip_neck\"] = Dataset[\"Zscore_Hip_neck\"].astype(\"float\")\n",
    "Dataset[\"BMI\"] = Dataset[\"BMI\"].astype(\"float\")\n",
    "Dataset[\"Pregnancy_Count\"] = Dataset[\"Pregnancy_Count\"].astype(\"float\")"
   ]
  },
  {
   "cell_type": "code",
   "execution_count": 11,
   "id": "7be6bf9c",
   "metadata": {},
   "outputs": [
    {
     "data": {
      "text/plain": [
       "ID                         int64\n",
       "Sex                        int64\n",
       "Age                        int64\n",
       "Menopause_age            float64\n",
       "Tscore_Hip_total         float64\n",
       "CRP                      float64\n",
       "Cr                       float64\n",
       "ALP                      float64\n",
       "BUN                      float64\n",
       "P                        float64\n",
       "Ca                       float64\n",
       "PTH                      float64\n",
       "Vit_D3                   float64\n",
       "BMD_vertebra             float64\n",
       "Tscore_vertebra          float64\n",
       "Zscore_vertebra          float64\n",
       "BMD_Hip_total            float64\n",
       "Zscore_hip_total         float64\n",
       "BMD_Hip_Neck             float64\n",
       "Tscore_Hip_neck          float64\n",
       "Zscore_Hip_neck          float64\n",
       "BMI                      float64\n",
       "Pregnancy_Count          float64\n",
       "Histroy_Anticoagulant     object\n",
       "Active_Smoking            object\n",
       "History_Smoking           object\n",
       "Calcium_Supplement        object\n",
       "History_Diabetes_2        object\n",
       "Refracture                 int64\n",
       "dtype: object"
      ]
     },
     "execution_count": 11,
     "metadata": {},
     "output_type": "execute_result"
    }
   ],
   "source": [
    "Dataset.dtypes"
   ]
  },
  {
   "cell_type": "code",
   "execution_count": 12,
   "id": "caec29b6",
   "metadata": {},
   "outputs": [
    {
     "data": {
      "image/png": "[encoded data removed]",
      "text/plain": [
       "<Figure size 432x288 with 1 Axes>"
      ]
     },
     "metadata": {},
     "output_type": "display_data"
    }
   ],
   "source": [
    "#Visualizing the distribution of variables\n",
    "ax = Dataset[\"Tscore_Hip_total\"].hist(bins=15, density=True, stacked=True, color='teal', alpha=0.6)\n",
    "ax = Dataset[\"Tscore_Hip_total\"].hist(bins=15, density=True, stacked=True, color='teal', alpha=0.6)\n",
    "Dataset[\"Tscore_Hip_total\"].plot(kind='density', color='teal')\n",
    "ax.set(xlabel='Tscore_Hip_total')\n",
    "plt.xlim(-10,10)\n",
    "plt.show()"
   ]
  },
  {
   "cell_type": "code",
   "execution_count": 13,
   "id": "47cf9c5a",
   "metadata": {},
   "outputs": [
    {
     "data": {
      "image/png": "[encoded data removed]",
      "text/plain": [
       "<Figure size 432x288 with 1 Axes>"
      ]
     },
     "metadata": {},
     "output_type": "display_data"
    }
   ],
   "source": [
    "#Visualizing the distribution of variables\n",
    "ax = Dataset[\"CRP\"].hist(bins=15, density=True, stacked=True, color='teal', alpha=0.6)\n",
    "ax = Dataset[\"CRP\"].hist(bins=15, density=True, stacked=True, color='teal', alpha=0.6)\n",
    "Dataset[\"CRP\"].plot(kind='density', color='teal')\n",
    "ax.set(xlabel='CRP')\n",
    "plt.xlim(-20,200)\n",
    "plt.show()"
   ]
  },
  {
   "cell_type": "code",
   "execution_count": 14,
   "id": "06cc31c7",
   "metadata": {},
   "outputs": [
    {
     "data": {
      "image/png": "[encoded data removed]",
      "text/plain": [
       "<Figure size 432x288 with 1 Axes>"
      ]
     },
     "metadata": {},
     "output_type": "display_data"
    }
   ],
   "source": [
    "#Visualizing the distribution of variables\n",
    "ax = Dataset[\"Cr\"].hist(bins=15, density=True, stacked=True, color='teal', alpha=0.6)\n",
    "ax = Dataset[\"Cr\"].hist(bins=15, density=True, stacked=True, color='teal', alpha=0.6)\n",
    "Dataset[\"Cr\"].plot(kind='density', color='red')\n",
    "ax.set(xlabel='Cr')\n",
    "plt.xlim(-5,5)\n",
    "plt.show()"
   ]
  },
  {
   "cell_type": "code",
   "execution_count": 15,
   "id": "ce3f08a8",
   "metadata": {},
   "outputs": [
    {
     "data": {
      "image/png": "[encoded data removed]",
      "text/plain": [
       "<Figure size 432x288 with 1 Axes>"
      ]
     },
     "metadata": {},
     "output_type": "display_data"
    }
   ],
   "source": [
    "#Visualizing the distribution of variables\n",
    "ax = Dataset[\"ALP\"].hist(bins=15, density=True, stacked=True, color='teal', alpha=0.6)\n",
    "ax = Dataset[\"ALP\"].hist(bins=15, density=True, stacked=True, color='teal', alpha=0.6)\n",
    "Dataset[\"ALP\"].plot(kind='density', color='red')\n",
    "ax.set(xlabel='ALP')\n",
    "plt.xlim(-100,700)\n",
    "plt.show()"
   ]
  },
  {
   "cell_type": "code",
   "execution_count": 16,
   "id": "e52c7934",
   "metadata": {},
   "outputs": [
    {
     "data": {
      "image/png": "[encoded data removed]",
      "text/plain": [
       "<Figure size 432x288 with 1 Axes>"
      ]
     },
     "metadata": {},
     "output_type": "display_data"
    }
   ],
   "source": [
    "#Visualizing the distribution of variables\n",
    "ax = Dataset[\"BUN\"].hist(bins=15, density=True, stacked=True, color='teal', alpha=0.6)\n",
    "ax = Dataset[\"BUN\"].hist(bins=15, density=True, stacked=True, color='teal', alpha=0.6)\n",
    "Dataset[\"BUN\"].plot(kind='density', color='red')\n",
    "ax.set(xlabel='BUN')\n",
    "plt.xlim(-10,50)\n",
    "plt.show()"
   ]
  },
  {
   "cell_type": "code",
   "execution_count": 17,
   "id": "d29922d4",
   "metadata": {},
   "outputs": [
    {
     "data": {
      "image/png": "[encoded data removed]",
      "text/plain": [
       "<Figure size 432x288 with 1 Axes>"
      ]
     },
     "metadata": {},
     "output_type": "display_data"
    }
   ],
   "source": [
    "#Visualizing the distribution of variables\n",
    "ax = Dataset[\"P\"].hist(bins=15, density=True, stacked=True, color='teal', alpha=0.6)\n",
    "ax = Dataset[\"P\"].hist(bins=15, density=True, stacked=True, color='teal', alpha=0.6)\n",
    "Dataset[\"P\"].plot(kind='density', color='red')\n",
    "ax.set(xlabel='P')\n",
    "plt.xlim(-5,10)\n",
    "plt.show()"
   ]
  },
  {
   "cell_type": "code",
   "execution_count": 18,
   "id": "88394e2f",
   "metadata": {},
   "outputs": [
    {
     "data": {
      "image/png": "[encoded data removed]",
      "text/plain": [
       "<Figure size 432x288 with 1 Axes>"
      ]
     },
     "metadata": {},
     "output_type": "display_data"
    }
   ],
   "source": [
    "#Visualizing the distribution of variables\n",
    "ax = Dataset[\"Ca\"].hist(bins=15, density=True, stacked=True, color='teal', alpha=0.6)\n",
    "ax = Dataset[\"Ca\"].hist(bins=15, density=True, stacked=True, color='teal', alpha=0.6)\n",
    "Dataset[\"Ca\"].plot(kind='density', color='red')\n",
    "ax.set(xlabel='Ca')\n",
    "plt.xlim(-5,20)\n",
    "plt.show()"
   ]
  },
  {
   "cell_type": "code",
   "execution_count": 19,
   "id": "717e430f",
   "metadata": {},
   "outputs": [
    {
     "data": {
      "image/png": "[encoded data removed]",
      "text/plain": [
       "<Figure size 432x288 with 1 Axes>"
      ]
     },
     "metadata": {},
     "output_type": "display_data"
    }
   ],
   "source": [
    "#Visualizing the distribution of variables\n",
    "ax = Dataset[\"PTH\"].hist(bins=15, density=True, stacked=True, color='teal', alpha=0.6)\n",
    "ax = Dataset[\"PTH\"].hist(bins=15, density=True, stacked=True, color='teal', alpha=0.6)\n",
    "Dataset[\"PTH\"].plot(kind='density', color='red')\n",
    "ax.set(xlabel='PTH')\n",
    "plt.xlim(-5,150)\n",
    "plt.show()"
   ]
  },
  {
   "cell_type": "code",
   "execution_count": 20,
   "id": "c3371fa1",
   "metadata": {},
   "outputs": [
    {
     "data": {
      "image/png": "[encoded data removed]",
      "text/plain": [
       "<Figure size 432x288 with 1 Axes>"
      ]
     },
     "metadata": {},
     "output_type": "display_data"
    }
   ],
   "source": [
    "#Visualizing the distribution of variables\n",
    "ax = Dataset[\"Vit_D3\"].hist(bins=15, density=True, stacked=True, color='teal', alpha=0.6)\n",
    "ax = Dataset[\"Vit_D3\"].hist(bins=15, density=True, stacked=True, color='teal', alpha=0.6)\n",
    "Dataset[\"Vit_D3\"].plot(kind='density', color='red')\n",
    "ax.set(xlabel='Vit_D3')\n",
    "plt.xlim(-5,150)\n",
    "plt.show()"
   ]
  },
  {
   "cell_type": "code",
   "execution_count": 21,
   "id": "47a081fa",
   "metadata": {},
   "outputs": [
    {
     "data": {
      "image/png": "[encoded data removed]",
      "text/plain": [
       "<Figure size 432x288 with 1 Axes>"
      ]
     },
     "metadata": {},
     "output_type": "display_data"
    }
   ],
   "source": [
    "#Visualizing the distribution of variables\n",
    "ax = Dataset[\"BMD_vertebra\"].hist(bins=15, density=True, stacked=True, color='teal', alpha=0.6)\n",
    "ax = Dataset[\"BMD_vertebra\"].hist(bins=15, density=True, stacked=True, color='teal', alpha=0.6)\n",
    "Dataset[\"BMD_vertebra\"].plot(kind='density', color='red')\n",
    "ax.set(xlabel='BMD_vertebra')\n",
    "plt.xlim(-5,2.5)\n",
    "plt.show()"
   ]
  },
  {
   "cell_type": "code",
   "execution_count": 22,
   "id": "a9bf8369",
   "metadata": {},
   "outputs": [
    {
     "data": {
      "image/png": "[encoded data removed]",
      "text/plain": [
       "<Figure size 432x288 with 1 Axes>"
      ]
     },
     "metadata": {},
     "output_type": "display_data"
    }
   ],
   "source": [
    "#Visualizing the distribution of variables\n",
    "ax = Dataset[\"Tscore_vertebra\"].hist(bins=15, density=True, stacked=True, color='teal', alpha=0.6)\n",
    "ax = Dataset[\"Tscore_vertebra\"].hist(bins=15, density=True, stacked=True, color='teal', alpha=0.6)\n",
    "Dataset[\"Tscore_vertebra\"].plot(kind='density', color='red')\n",
    "ax.set(xlabel='Tscore_vertebra')\n",
    "plt.xlim(-10,10)\n",
    "plt.show()"
   ]
  },
  {
   "cell_type": "code",
   "execution_count": 23,
   "id": "dfa94017",
   "metadata": {},
   "outputs": [
    {
     "data": {
      "image/png": "[encoded data removed]",
      "text/plain": [
       "<Figure size 432x288 with 1 Axes>"
      ]
     },
     "metadata": {},
     "output_type": "display_data"
    }
   ],
   "source": [
    "#Visualizing the distribution of variables\n",
    "ax = Dataset[\"Zscore_vertebra\"].hist(bins=15, density=True, stacked=True, color='teal', alpha=0.6)\n",
    "ax = Dataset[\"Zscore_vertebra\"].hist(bins=15, density=True, stacked=True, color='teal', alpha=0.6)\n",
    "Dataset[\"Zscore_vertebra\"].plot(kind='density', color='red')\n",
    "ax.set(xlabel='Zscore_vertebra')\n",
    "plt.xlim(-10,10)\n",
    "plt.show()"
   ]
  },
  {
   "cell_type": "code",
   "execution_count": 24,
   "id": "9f90f0df",
   "metadata": {},
   "outputs": [
    {
     "data": {
      "image/png": "[encoded data removed]",
      "text/plain": [
       "<Figure size 432x288 with 1 Axes>"
      ]
     },
     "metadata": {},
     "output_type": "display_data"
    }
   ],
   "source": [
    "#Visualizing the distribution of variables\n",
    "ax = Dataset[\"BMD_Hip_total\"].hist(bins=15, density=True, stacked=True, color='teal', alpha=0.6)\n",
    "ax = Dataset[\"BMD_Hip_total\"].hist(bins=15, density=True, stacked=True, color='teal', alpha=0.6)\n",
    "Dataset[\"BMD_Hip_total\"].plot(kind='density', color='red')\n",
    "ax.set(xlabel='BMD_Hip_total')\n",
    "plt.xlim(-5,5)\n",
    "plt.show()"
   ]
  },
  {
   "cell_type": "code",
   "execution_count": 25,
   "id": "d2aa9457",
   "metadata": {},
   "outputs": [
    {
     "data": {
      "image/png": "[encoded data removed]",
      "text/plain": [
       "<Figure size 432x288 with 1 Axes>"
      ]
     },
     "metadata": {},
     "output_type": "display_data"
    }
   ],
   "source": [
    "#Visualizing the distribution of variables\n",
    "ax = Dataset[\"Zscore_hip_total\"].hist(bins=15, density=True, stacked=True, color='teal', alpha=0.6)\n",
    "ax = Dataset[\"Zscore_hip_total\"].hist(bins=15, density=True, stacked=True, color='teal', alpha=0.6)\n",
    "Dataset[\"Zscore_hip_total\"].plot(kind='density', color='red')\n",
    "ax.set(xlabel='Zscore_hip_total')\n",
    "plt.xlim(-5,5)\n",
    "plt.show()"
   ]
  },
  {
   "cell_type": "code",
   "execution_count": 26,
   "id": "cf3c2595",
   "metadata": {},
   "outputs": [
    {
     "data": {
      "image/png": "[encoded data removed]",
      "text/plain": [
       "<Figure size 432x288 with 1 Axes>"
      ]
     },
     "metadata": {},
     "output_type": "display_data"
    }
   ],
   "source": [
    "#Visualizing the distribution of variables\n",
    "ax = Dataset[\"BMD_Hip_Neck\"].hist(bins=15, density=True, stacked=True, color='teal', alpha=0.6)\n",
    "ax = Dataset[\"BMD_Hip_Neck\"].hist(bins=15, density=True, stacked=True, color='teal', alpha=0.6)\n",
    "Dataset[\"BMD_Hip_Neck\"].plot(kind='density', color='red')\n",
    "ax.set(xlabel='BMD_Hip_Neck')\n",
    "plt.xlim(-5,5)\n",
    "plt.show()"
   ]
  },
  {
   "cell_type": "code",
   "execution_count": 27,
   "id": "182b1ffc",
   "metadata": {},
   "outputs": [
    {
     "data": {
      "image/png": "[encoded data removed]",
      "text/plain": [
       "<Figure size 432x288 with 1 Axes>"
      ]
     },
     "metadata": {},
     "output_type": "display_data"
    }
   ],
   "source": [
    "#Visualizing the distribution of variables\n",
    "ax = Dataset[\"Tscore_Hip_neck\"].hist(bins=15, density=True, stacked=True, color='teal', alpha=0.6)\n",
    "ax = Dataset[\"Tscore_Hip_neck\"].hist(bins=15, density=True, stacked=True, color='teal', alpha=0.6)\n",
    "Dataset[\"Tscore_Hip_neck\"].plot(kind='density', color='red')\n",
    "ax.set(xlabel='Tscore_Hip_neck')\n",
    "plt.xlim(-5,5)\n",
    "plt.show()"
   ]
  },
  {
   "cell_type": "code",
   "execution_count": 28,
   "id": "d5f40d49",
   "metadata": {},
   "outputs": [
    {
     "data": {
      "image/png": "[encoded data removed]",
      "text/plain": [
       "<Figure size 432x288 with 1 Axes>"
      ]
     },
     "metadata": {},
     "output_type": "display_data"
    }
   ],
   "source": [
    "#Visualizing the distribution of variables\n",
    "ax = Dataset[\"Zscore_Hip_neck\"].hist(bins=15, density=True, stacked=True, color='teal', alpha=0.6)\n",
    "ax = Dataset[\"Zscore_Hip_neck\"].hist(bins=15, density=True, stacked=True, color='teal', alpha=0.6)\n",
    "Dataset[\"Zscore_Hip_neck\"].plot(kind='density', color='red')\n",
    "ax.set(xlabel='Zscore_Hip_neck')\n",
    "plt.xlim(-5,5)\n",
    "plt.show()"
   ]
  },
  {
   "cell_type": "code",
   "execution_count": 29,
   "id": "12fcabea",
   "metadata": {},
   "outputs": [
    {
     "data": {
      "image/png": "[encoded data removed]",
      "text/plain": [
       "<Figure size 432x288 with 1 Axes>"
      ]
     },
     "metadata": {},
     "output_type": "display_data"
    }
   ],
   "source": [
    "#Visualizing the distribution of variables\n",
    "ax = Dataset[\"BMI\"].hist(bins=15, density=True, stacked=True, color='teal', alpha=0.6)\n",
    "ax = Dataset[\"BMI\"].hist(bins=15, density=True, stacked=True, color='teal', alpha=0.6)\n",
    "Dataset[\"BMI\"].plot(kind='density', color='red')\n",
    "ax.set(xlabel='BMI')\n",
    "plt.xlim(0,50)\n",
    "plt.show()"
   ]
  },
  {
   "cell_type": "code",
   "execution_count": 30,
   "id": "e6ed3dcb",
   "metadata": {},
   "outputs": [
    {
     "name": "stdout",
     "output_type": "stream",
     "text": [
      "0    274\n",
      "1     49\n",
      "Name: Histroy_Anticoagulant, dtype: int64\n"
     ]
    },
    {
     "data": {
      "image/png": "[encoded data removed]",
      "text/plain": [
       "<Figure size 432x288 with 1 Axes>"
      ]
     },
     "metadata": {},
     "output_type": "display_data"
    }
   ],
   "source": [
    "#Visualizing the distribution of variables\n",
    "print(Dataset['Histroy_Anticoagulant'].value_counts())\n",
    "sns.countplot(x='Histroy_Anticoagulant', data=Dataset, palette='Set2')\n",
    "plt.show()"
   ]
  },
  {
   "cell_type": "code",
   "execution_count": 31,
   "id": "531ba041",
   "metadata": {},
   "outputs": [
    {
     "name": "stdout",
     "output_type": "stream",
     "text": [
      "0    184\n",
      "1    158\n",
      "Name: Active_Smoking, dtype: int64\n"
     ]
    },
    {
     "data": {
      "image/png": "[encoded data removed]",
      "text/plain": [
       "<Figure size 432x288 with 1 Axes>"
      ]
     },
     "metadata": {},
     "output_type": "display_data"
    }
   ],
   "source": [
    "#Visualizing the distribution of variables\n",
    "print(Dataset['Active_Smoking'].value_counts())\n",
    "sns.countplot(x='Active_Smoking', data=Dataset, palette='Set2')\n",
    "plt.show()"
   ]
  },
  {
   "cell_type": "code",
   "execution_count": 32,
   "id": "b25e5114",
   "metadata": {},
   "outputs": [
    {
     "name": "stdout",
     "output_type": "stream",
     "text": [
      "1    202\n",
      "0    170\n",
      "Name: History_Smoking, dtype: int64\n"
     ]
    },
    {
     "data": {
      "image/png": "[encoded data removed]",
      "text/plain": [
       "<Figure size 432x288 with 1 Axes>"
      ]
     },
     "metadata": {},
     "output_type": "display_data"
    }
   ],
   "source": [
    "#Visualizing the distribution of variables\n",
    "print(Dataset['History_Smoking'].value_counts())\n",
    "sns.countplot(x='History_Smoking', data=Dataset, palette='Set2')\n",
    "plt.show()"
   ]
  },
  {
   "cell_type": "code",
   "execution_count": 33,
   "id": "e5fc4989",
   "metadata": {},
   "outputs": [
    {
     "name": "stdout",
     "output_type": "stream",
     "text": [
      "0    263\n",
      "1     60\n",
      "Name: History_Diabetes_2, dtype: int64\n"
     ]
    },
    {
     "data": {
      "image/png": "[encoded data removed]",
      "text/plain": [
       "<Figure size 432x288 with 1 Axes>"
      ]
     },
     "metadata": {},
     "output_type": "display_data"
    }
   ],
   "source": [
    "#Visualizing the distribution of variables\n",
    "print(Dataset['History_Diabetes_2'].value_counts())\n",
    "sns.countplot(x='History_Diabetes_2', data=Dataset, palette='Set2')\n",
    "plt.show()"
   ]
  },
  {
   "cell_type": "code",
   "execution_count": 34,
   "id": "1fb2abf5",
   "metadata": {},
   "outputs": [
    {
     "name": "stdout",
     "output_type": "stream",
     "text": [
      "0    344\n",
      "1     30\n",
      "Name: Calcium_Supplement, dtype: int64\n"
     ]
    },
    {
     "data": {
      "image/png": "[encoded data removed]",
      "text/plain": [
       "<Figure size 432x288 with 1 Axes>"
      ]
     },
     "metadata": {},
     "output_type": "display_data"
    }
   ],
   "source": [
    "#Visualizing the distribution of variables\n",
    "print(Dataset['Calcium_Supplement'].value_counts())\n",
    "sns.countplot(x='Calcium_Supplement', data=Dataset, palette='Set2')\n",
    "plt.show()"
   ]
  },
  {
   "cell_type": "code",
   "execution_count": 35,
   "id": "1430304c",
   "metadata": {},
   "outputs": [
    {
     "data": {
      "text/plain": [
       "Index(['ID', 'Sex', 'Age', 'Menopause_age', 'Tscore_Hip_total', 'CRP', 'Cr',\n",
       "       'ALP', 'BUN', 'P', 'Ca', 'PTH', 'Vit_D3', 'BMD_vertebra',\n",
       "       'Tscore_vertebra', 'Zscore_vertebra', 'BMD_Hip_total',\n",
       "       'Zscore_hip_total', 'BMD_Hip_Neck', 'Tscore_Hip_neck',\n",
       "       'Zscore_Hip_neck', 'BMI', 'Pregnancy_Count', 'Histroy_Anticoagulant',\n",
       "       'Active_Smoking', 'History_Smoking', 'Calcium_Supplement',\n",
       "       'History_Diabetes_2', 'Refracture'],\n",
       "      dtype='object')"
      ]
     },
     "execution_count": 35,
     "metadata": {},
     "output_type": "execute_result"
    }
   ],
   "source": [
    "Dataset.columns"
   ]
  },
  {
   "cell_type": "code",
   "execution_count": 36,
   "id": "aac343a5",
   "metadata": {},
   "outputs": [],
   "source": [
    "Dataset['Tscore_Hip_total'].fillna(Dataset[\"Tscore_Hip_total\"].mean(skipna=True), inplace=True)\n",
    "Dataset['CRP'].fillna(Dataset[\"CRP\"].median(skipna=True), inplace=True)\n",
    "Dataset['Cr'].fillna(Dataset[\"Cr\"].mean(skipna=True), inplace=True)\n",
    "Dataset['ALP'].fillna(Dataset[\"ALP\"].mean(skipna=True), inplace=True)\n",
    "Dataset['BUN'].fillna(Dataset[\"BUN\"].mean(skipna=True), inplace=True)\n",
    "Dataset['P'].fillna(Dataset[\"P\"].mean(skipna=True), inplace=True)\n",
    "Dataset['Ca'].fillna(Dataset[\"Ca\"].mean(skipna=True), inplace=True)\n",
    "Dataset['PTH'].fillna(Dataset[\"PTH\"].median(skipna=True), inplace=True)\n",
    "Dataset['Vit_D3'].fillna(Dataset[\"Vit_D3\"].mean(skipna=True), inplace=True)\n",
    "Dataset['BMD_vertebra'].fillna(Dataset[\"BMD_vertebra\"].mean(skipna=True), inplace=True)\n",
    "Dataset['Tscore_vertebra'].fillna(Dataset[\"Tscore_vertebra\"].mean(skipna=True), inplace=True)\n",
    "Dataset['Zscore_vertebra'].fillna(Dataset[\"Zscore_vertebra\"].mean(skipna=True), inplace=True)\n",
    "Dataset['BMD_Hip_total'].fillna(Dataset[\"BMD_Hip_total\"].mean(skipna=True), inplace=True)\n",
    "Dataset['Zscore_hip_total'].fillna(Dataset[\"Zscore_hip_total\"].median(skipna=True), inplace=True)\n",
    "Dataset['BMD_Hip_Neck'].fillna(Dataset[\"BMD_Hip_Neck\"].mean(skipna=True), inplace=True)\n",
    "Dataset['Tscore_Hip_neck'].fillna(Dataset[\"Tscore_Hip_neck\"].mean(skipna=True), inplace=True)\n",
    "Dataset['Zscore_Hip_neck'].fillna(Dataset[\"Zscore_Hip_neck\"].mean(skipna=True), inplace=True)\n",
    "Dataset['BMI'].fillna(Dataset[\"BMI\"].mean(skipna=True), inplace=True)\n",
    "Dataset['Histroy_Anticoagulant'].fillna(0, inplace=True)\n",
    "Dataset['Active_Smoking'].fillna(0, inplace=True)\n",
    "Dataset['History_Smoking'].fillna(0, inplace=True)\n",
    "Dataset['Calcium_Supplement'].fillna(0, inplace=True)\n",
    "Dataset['History_Diabetes_2'].fillna(0, inplace=True)"
   ]
  },
  {
   "cell_type": "code",
   "execution_count": 37,
   "id": "92985a3c",
   "metadata": {},
   "outputs": [
    {
     "data": {
      "text/plain": [
       "Age                      0\n",
       "Tscore_Hip_total         0\n",
       "CRP                      0\n",
       "Cr                       0\n",
       "ALP                      0\n",
       "BUN                      0\n",
       "P                        0\n",
       "Ca                       0\n",
       "PTH                      0\n",
       "Vit_D3                   0\n",
       "BMD_vertebra             0\n",
       "Tscore_vertebra          0\n",
       "Zscore_vertebra          0\n",
       "BMD_Hip_total            0\n",
       "Zscore_hip_total         0\n",
       "BMD_Hip_Neck             0\n",
       "Tscore_Hip_neck          0\n",
       "Zscore_Hip_neck          0\n",
       "BMI                      0\n",
       "Histroy_Anticoagulant    0\n",
       "Active_Smoking           0\n",
       "History_Smoking          0\n",
       "Calcium_Supplement       0\n",
       "History_Diabetes_2       0\n",
       "Refracture               0\n",
       "dtype: int64"
      ]
     },
     "execution_count": 37,
     "metadata": {},
     "output_type": "execute_result"
    }
   ],
   "source": [
    "Dataset.drop(\"Menopause_age\", axis=1, inplace=True)\n",
    "Dataset.drop(\"Pregnancy_Count\", axis=1, inplace=True)\n",
    "Dataset.drop(\"ID\", axis=1, inplace=True)\n",
    "Dataset.drop(\"Sex\", axis=1, inplace=True)\n",
    "Dataset.isnull().sum()"
   ]
  },
  {
   "cell_type": "code",
   "execution_count": 38,
   "id": "29a91879",
   "metadata": {},
   "outputs": [
    {
     "data": {
      "text/plain": [
       "Age                        int64\n",
       "Tscore_Hip_total         float64\n",
       "CRP                      float64\n",
       "Cr                       float64\n",
       "ALP                      float64\n",
       "BUN                      float64\n",
       "P                        float64\n",
       "Ca                       float64\n",
       "PTH                      float64\n",
       "Vit_D3                   float64\n",
       "BMD_vertebra             float64\n",
       "Tscore_vertebra          float64\n",
       "Zscore_vertebra          float64\n",
       "BMD_Hip_total            float64\n",
       "Zscore_hip_total         float64\n",
       "BMD_Hip_Neck             float64\n",
       "Tscore_Hip_neck          float64\n",
       "Zscore_Hip_neck          float64\n",
       "BMI                      float64\n",
       "Histroy_Anticoagulant     object\n",
       "Active_Smoking            object\n",
       "History_Smoking           object\n",
       "Calcium_Supplement        object\n",
       "History_Diabetes_2        object\n",
       "Refracture                 int64\n",
       "dtype: object"
      ]
     },
     "execution_count": 38,
     "metadata": {},
     "output_type": "execute_result"
    }
   ],
   "source": [
    "Dataset.dtypes"
   ]
  },
  {
   "cell_type": "code",
   "execution_count": 39,
   "id": "790e89ca",
   "metadata": {},
   "outputs": [],
   "source": [
    "Dataset[\"Histroy_Anticoagulant\"] = Dataset[\"Histroy_Anticoagulant\"].astype(\"int\")\n",
    "Dataset[\"Active_Smoking\"] = Dataset[\"Active_Smoking\"].astype(\"int\")\n",
    "Dataset[\"History_Smoking\"] = Dataset[\"History_Smoking\"].astype(\"int\")\n",
    "Dataset[\"Calcium_Supplement\"] = Dataset[\"Calcium_Supplement\"].astype(\"int\")\n",
    "Dataset[\"History_Diabetes_2\"] = Dataset[\"History_Diabetes_2\"].astype(\"int\")\n",
    "Dataset[\"Refracture\"] = Dataset[\"Refracture\"].astype(\"int\")"
   ]
  },
  {
   "cell_type": "code",
   "execution_count": 40,
   "id": "12759b0f",
   "metadata": {},
   "outputs": [],
   "source": [
    "Dataset.to_csv(\"Dataset_male_Final.csv\")"
   ]
  },
  {
   "cell_type": "code",
   "execution_count": 40,
   "id": "97f2427c",
   "metadata": {},
   "outputs": [],
   "source": [
    "X= Dataset.loc[:, Dataset.columns != 'Refracture']\n",
    "Y = Dataset[\"Refracture\"]"
   ]
  },
  {
   "cell_type": "code",
   "execution_count": 41,
   "id": "08444902",
   "metadata": {},
   "outputs": [
    {
     "name": "stdout",
     "output_type": "stream",
     "text": [
      "Fitting 10 folds for each of 270 candidates, totalling 2700 fits\n"
     ]
    },
    {
     "data": {
      "text/plain": [
       "GridSearchCV(cv=10,\n",
       "             estimator=XGBClassifier(base_score=None, booster=None,\n",
       "                                     callbacks=None, colsample_bylevel=None,\n",
       "                                     colsample_bynode=None,\n",
       "                                     colsample_bytree=None,\n",
       "                                     early_stopping_rounds=None,\n",
       "                                     enable_categorical=False, eval_metric=None,\n",
       "                                     gamma=None, gpu_id=None, grow_policy=None,\n",
       "                                     importance_type=None,\n",
       "                                     interaction_constraints=None,\n",
       "                                     learning_rate=None, max_bin=None,\n",
       "                                     max_c...\n",
       "                                     max_delta_step=None, max_depth=None,\n",
       "                                     max_leaves=None, min_child_weight=None,\n",
       "                                     missing=nan, monotone_constraints=None,\n",
       "                                     n_estimators=100, n_jobs=None, nthread=4,\n",
       "                                     num_parallel_tree=None, predictor=None,\n",
       "                                     random_state=None, reg_alpha=None, ...),\n",
       "             param_grid={'colsample_bytree': [0.3, 0.5, 0.8],\n",
       "                         'learning_rate': [0.1, 0.01, 0.001],\n",
       "                         'max_depth': [3, 4, 6, 8, 10, 15],\n",
       "                         'n_estimators': range(100, 1000, 200)},\n",
       "             verbose=1)"
      ]
     },
     "execution_count": 41,
     "metadata": {},
     "output_type": "execute_result"
    }
   ],
   "source": [
    "xgb = XGBClassifier( objective= 'binary:logistic', nthread=4, seed=42)\n",
    "\n",
    "params = {\n",
    "    \"max_depth\": [ 3, 4, 6, 8, 10, 15],\n",
    "    'n_estimators': range(100,1000,200),\n",
    "    'learning_rate': [0.1,0.01,0.001],\n",
    "    \"colsample_bytree\" : [0.3, 0.5 , 0.8]\n",
    "}\n",
    "\n",
    "cv = GridSearchCV(xgb,params,cv=10, verbose=1)\n",
    "cv.fit(X,Y.values.ravel(), verbose=1)"
   ]
  },
  {
   "cell_type": "code",
   "execution_count": 42,
   "id": "3b09f434",
   "metadata": {},
   "outputs": [
    {
     "name": "stdout",
     "output_type": "stream",
     "text": [
      "Best parameters are: {'colsample_bytree': 0.3, 'learning_rate': 0.001, 'max_depth': 3, 'n_estimators': 300}\n",
      "Best Score is : 0.8815114709851551 \n",
      "\n",
      "\n",
      "0.816 + or -0.125 for the {'colsample_bytree': 0.3, 'learning_rate': 0.1, 'max_depth': 3, 'n_estimators': 100}\n",
      "0.801 + or -0.092 for the {'colsample_bytree': 0.3, 'learning_rate': 0.1, 'max_depth': 3, 'n_estimators': 300}\n",
      "0.806 + or -0.078 for the {'colsample_bytree': 0.3, 'learning_rate': 0.1, 'max_depth': 3, 'n_estimators': 500}\n",
      "0.809 + or -0.075 for the {'colsample_bytree': 0.3, 'learning_rate': 0.1, 'max_depth': 3, 'n_estimators': 700}\n",
      "0.812 + or -0.074 for the {'colsample_bytree': 0.3, 'learning_rate': 0.1, 'max_depth': 3, 'n_estimators': 900}\n",
      "0.821 + or -0.111 for the {'colsample_bytree': 0.3, 'learning_rate': 0.1, 'max_depth': 4, 'n_estimators': 100}\n",
      "0.83 + or -0.058 for the {'colsample_bytree': 0.3, 'learning_rate': 0.1, 'max_depth': 4, 'n_estimators': 300}\n",
      "0.822 + or -0.062 for the {'colsample_bytree': 0.3, 'learning_rate': 0.1, 'max_depth': 4, 'n_estimators': 500}\n",
      "0.819 + or -0.063 for the {'colsample_bytree': 0.3, 'learning_rate': 0.1, 'max_depth': 4, 'n_estimators': 700}\n",
      "0.822 + or -0.06 for the {'colsample_bytree': 0.3, 'learning_rate': 0.1, 'max_depth': 4, 'n_estimators': 900}\n",
      "0.84 + or -0.089 for the {'colsample_bytree': 0.3, 'learning_rate': 0.1, 'max_depth': 6, 'n_estimators': 100}\n",
      "0.837 + or -0.061 for the {'colsample_bytree': 0.3, 'learning_rate': 0.1, 'max_depth': 6, 'n_estimators': 300}\n",
      "0.837 + or -0.044 for the {'colsample_bytree': 0.3, 'learning_rate': 0.1, 'max_depth': 6, 'n_estimators': 500}\n",
      "0.835 + or -0.044 for the {'colsample_bytree': 0.3, 'learning_rate': 0.1, 'max_depth': 6, 'n_estimators': 700}\n",
      "0.827 + or -0.058 for the {'colsample_bytree': 0.3, 'learning_rate': 0.1, 'max_depth': 6, 'n_estimators': 900}\n",
      "0.853 + or -0.043 for the {'colsample_bytree': 0.3, 'learning_rate': 0.1, 'max_depth': 8, 'n_estimators': 100}\n",
      "0.837 + or -0.039 for the {'colsample_bytree': 0.3, 'learning_rate': 0.1, 'max_depth': 8, 'n_estimators': 300}\n",
      "0.838 + or -0.04 for the {'colsample_bytree': 0.3, 'learning_rate': 0.1, 'max_depth': 8, 'n_estimators': 500}\n",
      "0.832 + or -0.051 for the {'colsample_bytree': 0.3, 'learning_rate': 0.1, 'max_depth': 8, 'n_estimators': 700}\n",
      "0.83 + or -0.057 for the {'colsample_bytree': 0.3, 'learning_rate': 0.1, 'max_depth': 8, 'n_estimators': 900}\n",
      "0.85 + or -0.052 for the {'colsample_bytree': 0.3, 'learning_rate': 0.1, 'max_depth': 10, 'n_estimators': 100}\n",
      "0.843 + or -0.042 for the {'colsample_bytree': 0.3, 'learning_rate': 0.1, 'max_depth': 10, 'n_estimators': 300}\n",
      "0.835 + or -0.05 for the {'colsample_bytree': 0.3, 'learning_rate': 0.1, 'max_depth': 10, 'n_estimators': 500}\n",
      "0.832 + or -0.051 for the {'colsample_bytree': 0.3, 'learning_rate': 0.1, 'max_depth': 10, 'n_estimators': 700}\n",
      "0.827 + or -0.063 for the {'colsample_bytree': 0.3, 'learning_rate': 0.1, 'max_depth': 10, 'n_estimators': 900}\n",
      "0.853 + or -0.045 for the {'colsample_bytree': 0.3, 'learning_rate': 0.1, 'max_depth': 15, 'n_estimators': 100}\n",
      "0.848 + or -0.04 for the {'colsample_bytree': 0.3, 'learning_rate': 0.1, 'max_depth': 15, 'n_estimators': 300}\n",
      "0.843 + or -0.042 for the {'colsample_bytree': 0.3, 'learning_rate': 0.1, 'max_depth': 15, 'n_estimators': 500}\n",
      "0.838 + or -0.053 for the {'colsample_bytree': 0.3, 'learning_rate': 0.1, 'max_depth': 15, 'n_estimators': 700}\n",
      "0.835 + or -0.052 for the {'colsample_bytree': 0.3, 'learning_rate': 0.1, 'max_depth': 15, 'n_estimators': 900}\n",
      "0.879 + or -0.012 for the {'colsample_bytree': 0.3, 'learning_rate': 0.01, 'max_depth': 3, 'n_estimators': 100}\n",
      "0.86 + or -0.051 for the {'colsample_bytree': 0.3, 'learning_rate': 0.01, 'max_depth': 3, 'n_estimators': 300}\n",
      "0.837 + or -0.113 for the {'colsample_bytree': 0.3, 'learning_rate': 0.01, 'max_depth': 3, 'n_estimators': 500}\n",
      "0.824 + or -0.119 for the {'colsample_bytree': 0.3, 'learning_rate': 0.01, 'max_depth': 3, 'n_estimators': 700}\n",
      "0.819 + or -0.117 for the {'colsample_bytree': 0.3, 'learning_rate': 0.01, 'max_depth': 3, 'n_estimators': 900}\n",
      "0.876 + or -0.011 for the {'colsample_bytree': 0.3, 'learning_rate': 0.01, 'max_depth': 4, 'n_estimators': 100}\n",
      "0.868 + or -0.028 for the {'colsample_bytree': 0.3, 'learning_rate': 0.01, 'max_depth': 4, 'n_estimators': 300}\n",
      "0.842 + or -0.106 for the {'colsample_bytree': 0.3, 'learning_rate': 0.01, 'max_depth': 4, 'n_estimators': 500}\n",
      "0.834 + or -0.104 for the {'colsample_bytree': 0.3, 'learning_rate': 0.01, 'max_depth': 4, 'n_estimators': 700}\n",
      "0.84 + or -0.089 for the {'colsample_bytree': 0.3, 'learning_rate': 0.01, 'max_depth': 4, 'n_estimators': 900}\n",
      "0.876 + or -0.011 for the {'colsample_bytree': 0.3, 'learning_rate': 0.01, 'max_depth': 6, 'n_estimators': 100}\n",
      "0.871 + or -0.021 for the {'colsample_bytree': 0.3, 'learning_rate': 0.01, 'max_depth': 6, 'n_estimators': 300}\n",
      "0.855 + or -0.067 for the {'colsample_bytree': 0.3, 'learning_rate': 0.01, 'max_depth': 6, 'n_estimators': 500}\n",
      "0.847 + or -0.074 for the {'colsample_bytree': 0.3, 'learning_rate': 0.01, 'max_depth': 6, 'n_estimators': 700}\n",
      "0.85 + or -0.058 for the {'colsample_bytree': 0.3, 'learning_rate': 0.01, 'max_depth': 6, 'n_estimators': 900}\n",
      "0.876 + or -0.011 for the {'colsample_bytree': 0.3, 'learning_rate': 0.01, 'max_depth': 8, 'n_estimators': 100}\n",
      "0.871 + or -0.021 for the {'colsample_bytree': 0.3, 'learning_rate': 0.01, 'max_depth': 8, 'n_estimators': 300}\n",
      "0.855 + or -0.067 for the {'colsample_bytree': 0.3, 'learning_rate': 0.01, 'max_depth': 8, 'n_estimators': 500}\n",
      "0.855 + or -0.059 for the {'colsample_bytree': 0.3, 'learning_rate': 0.01, 'max_depth': 8, 'n_estimators': 700}\n",
      "0.861 + or -0.036 for the {'colsample_bytree': 0.3, 'learning_rate': 0.01, 'max_depth': 8, 'n_estimators': 900}\n",
      "0.876 + or -0.011 for the {'colsample_bytree': 0.3, 'learning_rate': 0.01, 'max_depth': 10, 'n_estimators': 100}\n",
      "0.871 + or -0.021 for the {'colsample_bytree': 0.3, 'learning_rate': 0.01, 'max_depth': 10, 'n_estimators': 300}\n",
      "0.858 + or -0.059 for the {'colsample_bytree': 0.3, 'learning_rate': 0.01, 'max_depth': 10, 'n_estimators': 500}\n",
      "0.861 + or -0.044 for the {'colsample_bytree': 0.3, 'learning_rate': 0.01, 'max_depth': 10, 'n_estimators': 700}\n",
      "0.861 + or -0.036 for the {'colsample_bytree': 0.3, 'learning_rate': 0.01, 'max_depth': 10, 'n_estimators': 900}\n",
      "0.876 + or -0.011 for the {'colsample_bytree': 0.3, 'learning_rate': 0.01, 'max_depth': 15, 'n_estimators': 100}\n",
      "0.871 + or -0.021 for the {'colsample_bytree': 0.3, 'learning_rate': 0.01, 'max_depth': 15, 'n_estimators': 300}\n",
      "0.86 + or -0.051 for the {'colsample_bytree': 0.3, 'learning_rate': 0.01, 'max_depth': 15, 'n_estimators': 500}\n",
      "0.863 + or -0.036 for the {'colsample_bytree': 0.3, 'learning_rate': 0.01, 'max_depth': 15, 'n_estimators': 700}\n",
      "0.863 + or -0.029 for the {'colsample_bytree': 0.3, 'learning_rate': 0.01, 'max_depth': 15, 'n_estimators': 900}\n",
      "0.879 + or -0.012 for the {'colsample_bytree': 0.3, 'learning_rate': 0.001, 'max_depth': 3, 'n_estimators': 100}\n",
      "0.882 + or -0.012 for the {'colsample_bytree': 0.3, 'learning_rate': 0.001, 'max_depth': 3, 'n_estimators': 300}\n",
      "0.882 + or -0.012 for the {'colsample_bytree': 0.3, 'learning_rate': 0.001, 'max_depth': 3, 'n_estimators': 500}\n",
      "0.882 + or -0.012 for the {'colsample_bytree': 0.3, 'learning_rate': 0.001, 'max_depth': 3, 'n_estimators': 700}\n",
      "0.879 + or -0.012 for the {'colsample_bytree': 0.3, 'learning_rate': 0.001, 'max_depth': 3, 'n_estimators': 900}\n",
      "0.879 + or -0.012 for the {'colsample_bytree': 0.3, 'learning_rate': 0.001, 'max_depth': 4, 'n_estimators': 100}\n",
      "0.882 + or -0.012 for the {'colsample_bytree': 0.3, 'learning_rate': 0.001, 'max_depth': 4, 'n_estimators': 300}\n",
      "0.882 + or -0.012 for the {'colsample_bytree': 0.3, 'learning_rate': 0.001, 'max_depth': 4, 'n_estimators': 500}\n",
      "0.879 + or -0.012 for the {'colsample_bytree': 0.3, 'learning_rate': 0.001, 'max_depth': 4, 'n_estimators': 700}\n",
      "0.876 + or -0.011 for the {'colsample_bytree': 0.3, 'learning_rate': 0.001, 'max_depth': 4, 'n_estimators': 900}\n",
      "0.879 + or -0.012 for the {'colsample_bytree': 0.3, 'learning_rate': 0.001, 'max_depth': 6, 'n_estimators': 100}\n",
      "0.882 + or -0.012 for the {'colsample_bytree': 0.3, 'learning_rate': 0.001, 'max_depth': 6, 'n_estimators': 300}\n",
      "0.879 + or -0.012 for the {'colsample_bytree': 0.3, 'learning_rate': 0.001, 'max_depth': 6, 'n_estimators': 500}\n",
      "0.876 + or -0.011 for the {'colsample_bytree': 0.3, 'learning_rate': 0.001, 'max_depth': 6, 'n_estimators': 700}\n",
      "0.876 + or -0.011 for the {'colsample_bytree': 0.3, 'learning_rate': 0.001, 'max_depth': 6, 'n_estimators': 900}\n",
      "0.879 + or -0.012 for the {'colsample_bytree': 0.3, 'learning_rate': 0.001, 'max_depth': 8, 'n_estimators': 100}\n",
      "0.882 + or -0.012 for the {'colsample_bytree': 0.3, 'learning_rate': 0.001, 'max_depth': 8, 'n_estimators': 300}\n",
      "0.879 + or -0.012 for the {'colsample_bytree': 0.3, 'learning_rate': 0.001, 'max_depth': 8, 'n_estimators': 500}\n",
      "0.876 + or -0.011 for the {'colsample_bytree': 0.3, 'learning_rate': 0.001, 'max_depth': 8, 'n_estimators': 700}\n",
      "0.876 + or -0.011 for the {'colsample_bytree': 0.3, 'learning_rate': 0.001, 'max_depth': 8, 'n_estimators': 900}\n",
      "0.879 + or -0.012 for the {'colsample_bytree': 0.3, 'learning_rate': 0.001, 'max_depth': 10, 'n_estimators': 100}\n",
      "0.882 + or -0.012 for the {'colsample_bytree': 0.3, 'learning_rate': 0.001, 'max_depth': 10, 'n_estimators': 300}\n",
      "0.879 + or -0.012 for the {'colsample_bytree': 0.3, 'learning_rate': 0.001, 'max_depth': 10, 'n_estimators': 500}\n",
      "0.876 + or -0.011 for the {'colsample_bytree': 0.3, 'learning_rate': 0.001, 'max_depth': 10, 'n_estimators': 700}\n",
      "0.876 + or -0.011 for the {'colsample_bytree': 0.3, 'learning_rate': 0.001, 'max_depth': 10, 'n_estimators': 900}\n",
      "0.879 + or -0.012 for the {'colsample_bytree': 0.3, 'learning_rate': 0.001, 'max_depth': 15, 'n_estimators': 100}\n",
      "0.882 + or -0.012 for the {'colsample_bytree': 0.3, 'learning_rate': 0.001, 'max_depth': 15, 'n_estimators': 300}\n",
      "0.879 + or -0.012 for the {'colsample_bytree': 0.3, 'learning_rate': 0.001, 'max_depth': 15, 'n_estimators': 500}\n",
      "0.876 + or -0.011 for the {'colsample_bytree': 0.3, 'learning_rate': 0.001, 'max_depth': 15, 'n_estimators': 700}\n",
      "0.876 + or -0.011 for the {'colsample_bytree': 0.3, 'learning_rate': 0.001, 'max_depth': 15, 'n_estimators': 900}\n",
      "0.8 + or -0.122 for the {'colsample_bytree': 0.5, 'learning_rate': 0.1, 'max_depth': 3, 'n_estimators': 100}\n",
      "0.801 + or -0.082 for the {'colsample_bytree': 0.5, 'learning_rate': 0.1, 'max_depth': 3, 'n_estimators': 300}\n",
      "0.804 + or -0.079 for the {'colsample_bytree': 0.5, 'learning_rate': 0.1, 'max_depth': 3, 'n_estimators': 500}\n",
      "0.809 + or -0.072 for the {'colsample_bytree': 0.5, 'learning_rate': 0.1, 'max_depth': 3, 'n_estimators': 700}\n",
      "0.812 + or -0.073 for the {'colsample_bytree': 0.5, 'learning_rate': 0.1, 'max_depth': 3, 'n_estimators': 900}\n",
      "0.816 + or -0.097 for the {'colsample_bytree': 0.5, 'learning_rate': 0.1, 'max_depth': 4, 'n_estimators': 100}\n",
      "0.819 + or -0.064 for the {'colsample_bytree': 0.5, 'learning_rate': 0.1, 'max_depth': 4, 'n_estimators': 300}\n",
      "0.814 + or -0.067 for the {'colsample_bytree': 0.5, 'learning_rate': 0.1, 'max_depth': 4, 'n_estimators': 500}\n",
      "0.817 + or -0.065 for the {'colsample_bytree': 0.5, 'learning_rate': 0.1, 'max_depth': 4, 'n_estimators': 700}\n",
      "0.817 + or -0.065 for the {'colsample_bytree': 0.5, 'learning_rate': 0.1, 'max_depth': 4, 'n_estimators': 900}\n",
      "0.837 + or -0.073 for the {'colsample_bytree': 0.5, 'learning_rate': 0.1, 'max_depth': 6, 'n_estimators': 100}\n",
      "0.827 + or -0.055 for the {'colsample_bytree': 0.5, 'learning_rate': 0.1, 'max_depth': 6, 'n_estimators': 300}\n",
      "0.83 + or -0.054 for the {'colsample_bytree': 0.5, 'learning_rate': 0.1, 'max_depth': 6, 'n_estimators': 500}\n",
      "0.827 + or -0.053 for the {'colsample_bytree': 0.5, 'learning_rate': 0.1, 'max_depth': 6, 'n_estimators': 700}\n",
      "0.827 + or -0.053 for the {'colsample_bytree': 0.5, 'learning_rate': 0.1, 'max_depth': 6, 'n_estimators': 900}\n",
      "0.835 + or -0.069 for the {'colsample_bytree': 0.5, 'learning_rate': 0.1, 'max_depth': 8, 'n_estimators': 100}\n",
      "0.832 + or -0.058 for the {'colsample_bytree': 0.5, 'learning_rate': 0.1, 'max_depth': 8, 'n_estimators': 300}\n",
      "0.827 + or -0.064 for the {'colsample_bytree': 0.5, 'learning_rate': 0.1, 'max_depth': 8, 'n_estimators': 500}\n",
      "0.827 + or -0.067 for the {'colsample_bytree': 0.5, 'learning_rate': 0.1, 'max_depth': 8, 'n_estimators': 700}\n",
      "0.827 + or -0.067 for the {'colsample_bytree': 0.5, 'learning_rate': 0.1, 'max_depth': 8, 'n_estimators': 900}\n",
      "0.845 + or -0.058 for the {'colsample_bytree': 0.5, 'learning_rate': 0.1, 'max_depth': 10, 'n_estimators': 100}\n",
      "0.837 + or -0.053 for the {'colsample_bytree': 0.5, 'learning_rate': 0.1, 'max_depth': 10, 'n_estimators': 300}\n",
      "0.83 + or -0.056 for the {'colsample_bytree': 0.5, 'learning_rate': 0.1, 'max_depth': 10, 'n_estimators': 500}\n",
      "0.822 + or -0.061 for the {'colsample_bytree': 0.5, 'learning_rate': 0.1, 'max_depth': 10, 'n_estimators': 700}\n",
      "0.824 + or -0.057 for the {'colsample_bytree': 0.5, 'learning_rate': 0.1, 'max_depth': 10, 'n_estimators': 900}\n",
      "0.845 + or -0.068 for the {'colsample_bytree': 0.5, 'learning_rate': 0.1, 'max_depth': 15, 'n_estimators': 100}\n",
      "0.835 + or -0.044 for the {'colsample_bytree': 0.5, 'learning_rate': 0.1, 'max_depth': 15, 'n_estimators': 300}\n",
      "0.83 + or -0.046 for the {'colsample_bytree': 0.5, 'learning_rate': 0.1, 'max_depth': 15, 'n_estimators': 500}\n",
      "0.827 + or -0.053 for the {'colsample_bytree': 0.5, 'learning_rate': 0.1, 'max_depth': 15, 'n_estimators': 700}\n",
      "0.83 + or -0.051 for the {'colsample_bytree': 0.5, 'learning_rate': 0.1, 'max_depth': 15, 'n_estimators': 900}\n",
      "0.861 + or -0.052 for the {'colsample_bytree': 0.5, 'learning_rate': 0.01, 'max_depth': 3, 'n_estimators': 100}\n",
      "0.829 + or -0.145 for the {'colsample_bytree': 0.5, 'learning_rate': 0.01, 'max_depth': 3, 'n_estimators': 300}\n",
      "0.821 + or -0.135 for the {'colsample_bytree': 0.5, 'learning_rate': 0.01, 'max_depth': 3, 'n_estimators': 500}\n",
      "0.811 + or -0.126 for the {'colsample_bytree': 0.5, 'learning_rate': 0.01, 'max_depth': 3, 'n_estimators': 700}\n",
      "0.811 + or -0.12 for the {'colsample_bytree': 0.5, 'learning_rate': 0.01, 'max_depth': 3, 'n_estimators': 900}\n",
      "0.861 + or -0.044 for the {'colsample_bytree': 0.5, 'learning_rate': 0.01, 'max_depth': 4, 'n_estimators': 100}\n",
      "0.832 + or -0.137 for the {'colsample_bytree': 0.5, 'learning_rate': 0.01, 'max_depth': 4, 'n_estimators': 300}\n",
      "0.826 + or -0.128 for the {'colsample_bytree': 0.5, 'learning_rate': 0.01, 'max_depth': 4, 'n_estimators': 500}\n",
      "0.829 + or -0.112 for the {'colsample_bytree': 0.5, 'learning_rate': 0.01, 'max_depth': 4, 'n_estimators': 700}\n",
      "0.829 + or -0.094 for the {'colsample_bytree': 0.5, 'learning_rate': 0.01, 'max_depth': 4, 'n_estimators': 900}\n",
      "0.855 + or -0.059 for the {'colsample_bytree': 0.5, 'learning_rate': 0.01, 'max_depth': 6, 'n_estimators': 100}\n",
      "0.837 + or -0.121 for the {'colsample_bytree': 0.5, 'learning_rate': 0.01, 'max_depth': 6, 'n_estimators': 300}\n",
      "0.832 + or -0.12 for the {'colsample_bytree': 0.5, 'learning_rate': 0.01, 'max_depth': 6, 'n_estimators': 500}\n",
      "0.848 + or -0.066 for the {'colsample_bytree': 0.5, 'learning_rate': 0.01, 'max_depth': 6, 'n_estimators': 700}\n",
      "0.848 + or -0.059 for the {'colsample_bytree': 0.5, 'learning_rate': 0.01, 'max_depth': 6, 'n_estimators': 900}\n",
      "0.853 + or -0.066 for the {'colsample_bytree': 0.5, 'learning_rate': 0.01, 'max_depth': 8, 'n_estimators': 100}\n",
      "0.834 + or -0.121 for the {'colsample_bytree': 0.5, 'learning_rate': 0.01, 'max_depth': 8, 'n_estimators': 300}\n",
      "0.847 + or -0.082 for the {'colsample_bytree': 0.5, 'learning_rate': 0.01, 'max_depth': 8, 'n_estimators': 500}\n",
      "0.853 + or -0.058 for the {'colsample_bytree': 0.5, 'learning_rate': 0.01, 'max_depth': 8, 'n_estimators': 700}\n",
      "0.85 + or -0.052 for the {'colsample_bytree': 0.5, 'learning_rate': 0.01, 'max_depth': 8, 'n_estimators': 900}\n",
      "0.853 + or -0.059 for the {'colsample_bytree': 0.5, 'learning_rate': 0.01, 'max_depth': 10, 'n_estimators': 100}\n",
      "0.837 + or -0.105 for the {'colsample_bytree': 0.5, 'learning_rate': 0.01, 'max_depth': 10, 'n_estimators': 300}\n",
      "0.845 + or -0.081 for the {'colsample_bytree': 0.5, 'learning_rate': 0.01, 'max_depth': 10, 'n_estimators': 500}\n",
      "0.85 + or -0.058 for the {'colsample_bytree': 0.5, 'learning_rate': 0.01, 'max_depth': 10, 'n_estimators': 700}\n",
      "0.85 + or -0.052 for the {'colsample_bytree': 0.5, 'learning_rate': 0.01, 'max_depth': 10, 'n_estimators': 900}\n",
      "0.855 + or -0.059 for the {'colsample_bytree': 0.5, 'learning_rate': 0.01, 'max_depth': 15, 'n_estimators': 100}\n",
      "0.837 + or -0.113 for the {'colsample_bytree': 0.5, 'learning_rate': 0.01, 'max_depth': 15, 'n_estimators': 300}\n",
      "0.842 + or -0.089 for the {'colsample_bytree': 0.5, 'learning_rate': 0.01, 'max_depth': 15, 'n_estimators': 500}\n",
      "0.853 + or -0.058 for the {'colsample_bytree': 0.5, 'learning_rate': 0.01, 'max_depth': 15, 'n_estimators': 700}\n",
      "0.853 + or -0.051 for the {'colsample_bytree': 0.5, 'learning_rate': 0.01, 'max_depth': 15, 'n_estimators': 900}\n",
      "0.871 + or -0.017 for the {'colsample_bytree': 0.5, 'learning_rate': 0.001, 'max_depth': 3, 'n_estimators': 100}\n",
      "0.866 + or -0.036 for the {'colsample_bytree': 0.5, 'learning_rate': 0.001, 'max_depth': 3, 'n_estimators': 300}\n",
      "0.847 + or -0.09 for the {'colsample_bytree': 0.5, 'learning_rate': 0.001, 'max_depth': 3, 'n_estimators': 500}\n",
      "0.858 + or -0.059 for the {'colsample_bytree': 0.5, 'learning_rate': 0.001, 'max_depth': 3, 'n_estimators': 700}\n",
      "0.847 + or -0.09 for the {'colsample_bytree': 0.5, 'learning_rate': 0.001, 'max_depth': 3, 'n_estimators': 900}\n",
      "0.868 + or -0.022 for the {'colsample_bytree': 0.5, 'learning_rate': 0.001, 'max_depth': 4, 'n_estimators': 100}\n",
      "0.868 + or -0.028 for the {'colsample_bytree': 0.5, 'learning_rate': 0.001, 'max_depth': 4, 'n_estimators': 300}\n",
      "0.853 + or -0.074 for the {'colsample_bytree': 0.5, 'learning_rate': 0.001, 'max_depth': 4, 'n_estimators': 500}\n",
      "0.855 + or -0.067 for the {'colsample_bytree': 0.5, 'learning_rate': 0.001, 'max_depth': 4, 'n_estimators': 700}\n",
      "0.847 + or -0.09 for the {'colsample_bytree': 0.5, 'learning_rate': 0.001, 'max_depth': 4, 'n_estimators': 900}\n",
      "0.866 + or -0.024 for the {'colsample_bytree': 0.5, 'learning_rate': 0.001, 'max_depth': 6, 'n_estimators': 100}\n",
      "0.866 + or -0.036 for the {'colsample_bytree': 0.5, 'learning_rate': 0.001, 'max_depth': 6, 'n_estimators': 300}\n",
      "0.855 + or -0.067 for the {'colsample_bytree': 0.5, 'learning_rate': 0.001, 'max_depth': 6, 'n_estimators': 500}\n",
      "0.858 + or -0.059 for the {'colsample_bytree': 0.5, 'learning_rate': 0.001, 'max_depth': 6, 'n_estimators': 700}\n",
      "0.853 + or -0.074 for the {'colsample_bytree': 0.5, 'learning_rate': 0.001, 'max_depth': 6, 'n_estimators': 900}\n",
      "0.863 + or -0.03 for the {'colsample_bytree': 0.5, 'learning_rate': 0.001, 'max_depth': 8, 'n_estimators': 100}\n",
      "0.866 + or -0.036 for the {'colsample_bytree': 0.5, 'learning_rate': 0.001, 'max_depth': 8, 'n_estimators': 300}\n",
      "0.855 + or -0.067 for the {'colsample_bytree': 0.5, 'learning_rate': 0.001, 'max_depth': 8, 'n_estimators': 500}\n",
      "0.858 + or -0.059 for the {'colsample_bytree': 0.5, 'learning_rate': 0.001, 'max_depth': 8, 'n_estimators': 700}\n",
      "0.855 + or -0.067 for the {'colsample_bytree': 0.5, 'learning_rate': 0.001, 'max_depth': 8, 'n_estimators': 900}\n",
      "0.863 + or -0.03 for the {'colsample_bytree': 0.5, 'learning_rate': 0.001, 'max_depth': 10, 'n_estimators': 100}\n",
      "0.866 + or -0.036 for the {'colsample_bytree': 0.5, 'learning_rate': 0.001, 'max_depth': 10, 'n_estimators': 300}\n",
      "0.855 + or -0.067 for the {'colsample_bytree': 0.5, 'learning_rate': 0.001, 'max_depth': 10, 'n_estimators': 500}\n",
      "0.858 + or -0.059 for the {'colsample_bytree': 0.5, 'learning_rate': 0.001, 'max_depth': 10, 'n_estimators': 700}\n",
      "0.855 + or -0.067 for the {'colsample_bytree': 0.5, 'learning_rate': 0.001, 'max_depth': 10, 'n_estimators': 900}\n",
      "0.863 + or -0.03 for the {'colsample_bytree': 0.5, 'learning_rate': 0.001, 'max_depth': 15, 'n_estimators': 100}\n",
      "0.866 + or -0.036 for the {'colsample_bytree': 0.5, 'learning_rate': 0.001, 'max_depth': 15, 'n_estimators': 300}\n",
      "0.855 + or -0.067 for the {'colsample_bytree': 0.5, 'learning_rate': 0.001, 'max_depth': 15, 'n_estimators': 500}\n",
      "0.858 + or -0.059 for the {'colsample_bytree': 0.5, 'learning_rate': 0.001, 'max_depth': 15, 'n_estimators': 700}\n",
      "0.855 + or -0.067 for the {'colsample_bytree': 0.5, 'learning_rate': 0.001, 'max_depth': 15, 'n_estimators': 900}\n",
      "0.782 + or -0.148 for the {'colsample_bytree': 0.8, 'learning_rate': 0.1, 'max_depth': 3, 'n_estimators': 100}\n",
      "0.798 + or -0.088 for the {'colsample_bytree': 0.8, 'learning_rate': 0.1, 'max_depth': 3, 'n_estimators': 300}\n",
      "0.804 + or -0.074 for the {'colsample_bytree': 0.8, 'learning_rate': 0.1, 'max_depth': 3, 'n_estimators': 500}\n",
      "0.804 + or -0.073 for the {'colsample_bytree': 0.8, 'learning_rate': 0.1, 'max_depth': 3, 'n_estimators': 700}\n",
      "0.806 + or -0.072 for the {'colsample_bytree': 0.8, 'learning_rate': 0.1, 'max_depth': 3, 'n_estimators': 900}\n",
      "0.808 + or -0.113 for the {'colsample_bytree': 0.8, 'learning_rate': 0.1, 'max_depth': 4, 'n_estimators': 100}\n",
      "0.811 + or -0.069 for the {'colsample_bytree': 0.8, 'learning_rate': 0.1, 'max_depth': 4, 'n_estimators': 300}\n",
      "0.811 + or -0.068 for the {'colsample_bytree': 0.8, 'learning_rate': 0.1, 'max_depth': 4, 'n_estimators': 500}\n",
      "0.811 + or -0.068 for the {'colsample_bytree': 0.8, 'learning_rate': 0.1, 'max_depth': 4, 'n_estimators': 700}\n",
      "0.814 + or -0.067 for the {'colsample_bytree': 0.8, 'learning_rate': 0.1, 'max_depth': 4, 'n_estimators': 900}\n",
      "0.835 + or -0.081 for the {'colsample_bytree': 0.8, 'learning_rate': 0.1, 'max_depth': 6, 'n_estimators': 100}\n",
      "0.832 + or -0.056 for the {'colsample_bytree': 0.8, 'learning_rate': 0.1, 'max_depth': 6, 'n_estimators': 300}\n",
      "0.827 + or -0.063 for the {'colsample_bytree': 0.8, 'learning_rate': 0.1, 'max_depth': 6, 'n_estimators': 500}\n",
      "0.824 + or -0.064 for the {'colsample_bytree': 0.8, 'learning_rate': 0.1, 'max_depth': 6, 'n_estimators': 700}\n",
      "0.824 + or -0.064 for the {'colsample_bytree': 0.8, 'learning_rate': 0.1, 'max_depth': 6, 'n_estimators': 900}\n",
      "0.84 + or -0.059 for the {'colsample_bytree': 0.8, 'learning_rate': 0.1, 'max_depth': 8, 'n_estimators': 100}\n",
      "0.83 + or -0.062 for the {'colsample_bytree': 0.8, 'learning_rate': 0.1, 'max_depth': 8, 'n_estimators': 300}\n",
      "0.824 + or -0.068 for the {'colsample_bytree': 0.8, 'learning_rate': 0.1, 'max_depth': 8, 'n_estimators': 500}\n",
      "0.827 + or -0.067 for the {'colsample_bytree': 0.8, 'learning_rate': 0.1, 'max_depth': 8, 'n_estimators': 700}\n",
      "0.822 + or -0.072 for the {'colsample_bytree': 0.8, 'learning_rate': 0.1, 'max_depth': 8, 'n_estimators': 900}\n",
      "0.837 + or -0.074 for the {'colsample_bytree': 0.8, 'learning_rate': 0.1, 'max_depth': 10, 'n_estimators': 100}\n",
      "0.837 + or -0.052 for the {'colsample_bytree': 0.8, 'learning_rate': 0.1, 'max_depth': 10, 'n_estimators': 300}\n",
      "0.832 + or -0.054 for the {'colsample_bytree': 0.8, 'learning_rate': 0.1, 'max_depth': 10, 'n_estimators': 500}\n",
      "0.824 + or -0.057 for the {'colsample_bytree': 0.8, 'learning_rate': 0.1, 'max_depth': 10, 'n_estimators': 700}\n",
      "0.822 + or -0.068 for the {'colsample_bytree': 0.8, 'learning_rate': 0.1, 'max_depth': 10, 'n_estimators': 900}\n",
      "0.837 + or -0.082 for the {'colsample_bytree': 0.8, 'learning_rate': 0.1, 'max_depth': 15, 'n_estimators': 100}\n",
      "0.827 + or -0.059 for the {'colsample_bytree': 0.8, 'learning_rate': 0.1, 'max_depth': 15, 'n_estimators': 300}\n",
      "0.824 + or -0.063 for the {'colsample_bytree': 0.8, 'learning_rate': 0.1, 'max_depth': 15, 'n_estimators': 500}\n",
      "0.824 + or -0.062 for the {'colsample_bytree': 0.8, 'learning_rate': 0.1, 'max_depth': 15, 'n_estimators': 700}\n",
      "0.827 + or -0.063 for the {'colsample_bytree': 0.8, 'learning_rate': 0.1, 'max_depth': 15, 'n_estimators': 900}\n",
      "0.824 + or -0.144 for the {'colsample_bytree': 0.8, 'learning_rate': 0.01, 'max_depth': 3, 'n_estimators': 100}\n",
      "0.824 + or -0.144 for the {'colsample_bytree': 0.8, 'learning_rate': 0.01, 'max_depth': 3, 'n_estimators': 300}\n",
      "0.813 + or -0.142 for the {'colsample_bytree': 0.8, 'learning_rate': 0.01, 'max_depth': 3, 'n_estimators': 500}\n",
      "0.793 + or -0.145 for the {'colsample_bytree': 0.8, 'learning_rate': 0.01, 'max_depth': 3, 'n_estimators': 700}\n",
      "0.793 + or -0.137 for the {'colsample_bytree': 0.8, 'learning_rate': 0.01, 'max_depth': 3, 'n_estimators': 900}\n",
      "0.824 + or -0.144 for the {'colsample_bytree': 0.8, 'learning_rate': 0.01, 'max_depth': 4, 'n_estimators': 100}\n",
      "0.818 + or -0.143 for the {'colsample_bytree': 0.8, 'learning_rate': 0.01, 'max_depth': 4, 'n_estimators': 300}\n",
      "0.816 + or -0.135 for the {'colsample_bytree': 0.8, 'learning_rate': 0.01, 'max_depth': 4, 'n_estimators': 500}\n",
      "0.821 + or -0.119 for the {'colsample_bytree': 0.8, 'learning_rate': 0.01, 'max_depth': 4, 'n_estimators': 700}\n",
      "0.827 + or -0.096 for the {'colsample_bytree': 0.8, 'learning_rate': 0.01, 'max_depth': 4, 'n_estimators': 900}\n",
      "0.818 + or -0.143 for the {'colsample_bytree': 0.8, 'learning_rate': 0.01, 'max_depth': 6, 'n_estimators': 100}\n",
      "0.821 + or -0.143 for the {'colsample_bytree': 0.8, 'learning_rate': 0.01, 'max_depth': 6, 'n_estimators': 300}\n",
      "0.832 + or -0.111 for the {'colsample_bytree': 0.8, 'learning_rate': 0.01, 'max_depth': 6, 'n_estimators': 500}\n",
      "0.837 + or -0.096 for the {'colsample_bytree': 0.8, 'learning_rate': 0.01, 'max_depth': 6, 'n_estimators': 700}\n",
      "0.845 + or -0.057 for the {'colsample_bytree': 0.8, 'learning_rate': 0.01, 'max_depth': 6, 'n_estimators': 900}\n",
      "0.821 + or -0.143 for the {'colsample_bytree': 0.8, 'learning_rate': 0.01, 'max_depth': 8, 'n_estimators': 100}\n",
      "0.818 + or -0.143 for the {'colsample_bytree': 0.8, 'learning_rate': 0.01, 'max_depth': 8, 'n_estimators': 300}\n",
      "0.837 + or -0.105 for the {'colsample_bytree': 0.8, 'learning_rate': 0.01, 'max_depth': 8, 'n_estimators': 500}\n",
      "0.848 + or -0.059 for the {'colsample_bytree': 0.8, 'learning_rate': 0.01, 'max_depth': 8, 'n_estimators': 700}\n",
      "0.845 + or -0.052 for the {'colsample_bytree': 0.8, 'learning_rate': 0.01, 'max_depth': 8, 'n_estimators': 900}\n",
      "0.821 + or -0.143 for the {'colsample_bytree': 0.8, 'learning_rate': 0.01, 'max_depth': 10, 'n_estimators': 100}\n",
      "0.813 + or -0.144 for the {'colsample_bytree': 0.8, 'learning_rate': 0.01, 'max_depth': 10, 'n_estimators': 300}\n",
      "0.834 + or -0.09 for the {'colsample_bytree': 0.8, 'learning_rate': 0.01, 'max_depth': 10, 'n_estimators': 500}\n",
      "0.845 + or -0.061 for the {'colsample_bytree': 0.8, 'learning_rate': 0.01, 'max_depth': 10, 'n_estimators': 700}\n",
      "0.842 + or -0.054 for the {'colsample_bytree': 0.8, 'learning_rate': 0.01, 'max_depth': 10, 'n_estimators': 900}\n",
      "0.821 + or -0.143 for the {'colsample_bytree': 0.8, 'learning_rate': 0.01, 'max_depth': 15, 'n_estimators': 100}\n",
      "0.816 + or -0.143 for the {'colsample_bytree': 0.8, 'learning_rate': 0.01, 'max_depth': 15, 'n_estimators': 300}\n",
      "0.834 + or -0.097 for the {'colsample_bytree': 0.8, 'learning_rate': 0.01, 'max_depth': 15, 'n_estimators': 500}\n",
      "0.847 + or -0.059 for the {'colsample_bytree': 0.8, 'learning_rate': 0.01, 'max_depth': 15, 'n_estimators': 700}\n",
      "0.848 + or -0.059 for the {'colsample_bytree': 0.8, 'learning_rate': 0.01, 'max_depth': 15, 'n_estimators': 900}\n",
      "0.816 + or -0.143 for the {'colsample_bytree': 0.8, 'learning_rate': 0.001, 'max_depth': 3, 'n_estimators': 100}\n",
      "0.821 + or -0.144 for the {'colsample_bytree': 0.8, 'learning_rate': 0.001, 'max_depth': 3, 'n_estimators': 300}\n",
      "0.829 + or -0.146 for the {'colsample_bytree': 0.8, 'learning_rate': 0.001, 'max_depth': 3, 'n_estimators': 500}\n",
      "0.824 + or -0.144 for the {'colsample_bytree': 0.8, 'learning_rate': 0.001, 'max_depth': 3, 'n_estimators': 700}\n",
      "0.8 + or -0.158 for the {'colsample_bytree': 0.8, 'learning_rate': 0.001, 'max_depth': 3, 'n_estimators': 900}\n",
      "0.816 + or -0.143 for the {'colsample_bytree': 0.8, 'learning_rate': 0.001, 'max_depth': 4, 'n_estimators': 100}\n",
      "0.816 + or -0.143 for the {'colsample_bytree': 0.8, 'learning_rate': 0.001, 'max_depth': 4, 'n_estimators': 300}\n",
      "0.819 + or -0.143 for the {'colsample_bytree': 0.8, 'learning_rate': 0.001, 'max_depth': 4, 'n_estimators': 500}\n",
      "0.824 + or -0.144 for the {'colsample_bytree': 0.8, 'learning_rate': 0.001, 'max_depth': 4, 'n_estimators': 700}\n",
      "0.8 + or -0.158 for the {'colsample_bytree': 0.8, 'learning_rate': 0.001, 'max_depth': 4, 'n_estimators': 900}\n",
      "0.813 + or -0.142 for the {'colsample_bytree': 0.8, 'learning_rate': 0.001, 'max_depth': 6, 'n_estimators': 100}\n",
      "0.816 + or -0.143 for the {'colsample_bytree': 0.8, 'learning_rate': 0.001, 'max_depth': 6, 'n_estimators': 300}\n",
      "0.819 + or -0.143 for the {'colsample_bytree': 0.8, 'learning_rate': 0.001, 'max_depth': 6, 'n_estimators': 500}\n",
      "0.821 + or -0.143 for the {'colsample_bytree': 0.8, 'learning_rate': 0.001, 'max_depth': 6, 'n_estimators': 700}\n",
      "0.818 + or -0.143 for the {'colsample_bytree': 0.8, 'learning_rate': 0.001, 'max_depth': 6, 'n_estimators': 900}\n",
      "0.808 + or -0.142 for the {'colsample_bytree': 0.8, 'learning_rate': 0.001, 'max_depth': 8, 'n_estimators': 100}\n",
      "0.816 + or -0.143 for the {'colsample_bytree': 0.8, 'learning_rate': 0.001, 'max_depth': 8, 'n_estimators': 300}\n",
      "0.813 + or -0.142 for the {'colsample_bytree': 0.8, 'learning_rate': 0.001, 'max_depth': 8, 'n_estimators': 500}\n",
      "0.816 + or -0.143 for the {'colsample_bytree': 0.8, 'learning_rate': 0.001, 'max_depth': 8, 'n_estimators': 700}\n",
      "0.816 + or -0.143 for the {'colsample_bytree': 0.8, 'learning_rate': 0.001, 'max_depth': 8, 'n_estimators': 900}\n",
      "0.808 + or -0.142 for the {'colsample_bytree': 0.8, 'learning_rate': 0.001, 'max_depth': 10, 'n_estimators': 100}\n",
      "0.816 + or -0.143 for the {'colsample_bytree': 0.8, 'learning_rate': 0.001, 'max_depth': 10, 'n_estimators': 300}\n",
      "0.816 + or -0.143 for the {'colsample_bytree': 0.8, 'learning_rate': 0.001, 'max_depth': 10, 'n_estimators': 500}\n",
      "0.816 + or -0.143 for the {'colsample_bytree': 0.8, 'learning_rate': 0.001, 'max_depth': 10, 'n_estimators': 700}\n",
      "0.818 + or -0.143 for the {'colsample_bytree': 0.8, 'learning_rate': 0.001, 'max_depth': 10, 'n_estimators': 900}\n",
      "0.808 + or -0.142 for the {'colsample_bytree': 0.8, 'learning_rate': 0.001, 'max_depth': 15, 'n_estimators': 100}\n",
      "0.816 + or -0.143 for the {'colsample_bytree': 0.8, 'learning_rate': 0.001, 'max_depth': 15, 'n_estimators': 300}\n",
      "0.816 + or -0.143 for the {'colsample_bytree': 0.8, 'learning_rate': 0.001, 'max_depth': 15, 'n_estimators': 500}\n",
      "0.816 + or -0.143 for the {'colsample_bytree': 0.8, 'learning_rate': 0.001, 'max_depth': 15, 'n_estimators': 700}\n",
      "0.818 + or -0.143 for the {'colsample_bytree': 0.8, 'learning_rate': 0.001, 'max_depth': 15, 'n_estimators': 900}\n"
     ]
    }
   ],
   "source": [
    "def display_results(results):\n",
    "    print(f'Best parameters are: {results.best_params_}')\n",
    "    print(f'Best Score is : {results.best_score_} ')\n",
    "    print(\"\\n\")\n",
    "    mean_score = results.cv_results_['mean_test_score']\n",
    "    std_score = results.cv_results_['std_test_score']\n",
    "    params = results.cv_results_['params']\n",
    "    for mean,std,params in zip(mean_score,std_score,params):\n",
    "        print(f'{round(mean,3)} + or -{round(std,3)} for the {params}')\n",
    "        \n",
    "display_results(cv)"
   ]
  },
  {
   "cell_type": "code",
   "execution_count": 43,
   "id": "f8b2cfc9",
   "metadata": {},
   "outputs": [
    {
     "name": "stderr",
     "output_type": "stream",
     "text": [
      "C:\\Users\\alish\\anaconda3\\lib\\site-packages\\sklearn\\metrics\\_classification.py:1318: UndefinedMetricWarning: Precision is ill-defined and being set to 0.0 due to no predicted samples. Use `zero_division` parameter to control this behavior.\n",
      "  _warn_prf(average, modifier, msg_start, len(result))\n",
      "C:\\Users\\alish\\anaconda3\\lib\\site-packages\\sklearn\\metrics\\_classification.py:1318: UndefinedMetricWarning: Precision is ill-defined and being set to 0.0 due to no predicted samples. Use `zero_division` parameter to control this behavior.\n",
      "  _warn_prf(average, modifier, msg_start, len(result))\n",
      "C:\\Users\\alish\\anaconda3\\lib\\site-packages\\sklearn\\metrics\\_classification.py:1318: UndefinedMetricWarning: Precision is ill-defined and being set to 0.0 due to no predicted samples. Use `zero_division` parameter to control this behavior.\n",
      "  _warn_prf(average, modifier, msg_start, len(result))\n",
      "C:\\Users\\alish\\anaconda3\\lib\\site-packages\\sklearn\\metrics\\_classification.py:1318: UndefinedMetricWarning: Precision is ill-defined and being set to 0.0 due to no predicted samples. Use `zero_division` parameter to control this behavior.\n",
      "  _warn_prf(average, modifier, msg_start, len(result))\n",
      "C:\\Users\\alish\\anaconda3\\lib\\site-packages\\sklearn\\metrics\\_classification.py:1318: UndefinedMetricWarning: Precision is ill-defined and being set to 0.0 due to no predicted samples. Use `zero_division` parameter to control this behavior.\n",
      "  _warn_prf(average, modifier, msg_start, len(result))\n",
      "C:\\Users\\alish\\anaconda3\\lib\\site-packages\\sklearn\\metrics\\_classification.py:1318: UndefinedMetricWarning: Precision is ill-defined and being set to 0.0 due to no predicted samples. Use `zero_division` parameter to control this behavior.\n",
      "  _warn_prf(average, modifier, msg_start, len(result))\n",
      "C:\\Users\\alish\\anaconda3\\lib\\site-packages\\sklearn\\metrics\\_classification.py:1318: UndefinedMetricWarning: Precision is ill-defined and being set to 0.0 due to no predicted samples. Use `zero_division` parameter to control this behavior.\n",
      "  _warn_prf(average, modifier, msg_start, len(result))\n",
      "C:\\Users\\alish\\anaconda3\\lib\\site-packages\\sklearn\\metrics\\_classification.py:1318: UndefinedMetricWarning: Precision is ill-defined and being set to 0.0 due to no predicted samples. Use `zero_division` parameter to control this behavior.\n",
      "  _warn_prf(average, modifier, msg_start, len(result))\n",
      "C:\\Users\\alish\\anaconda3\\lib\\site-packages\\sklearn\\metrics\\_classification.py:1318: UndefinedMetricWarning: Precision is ill-defined and being set to 0.0 due to no predicted samples. Use `zero_division` parameter to control this behavior.\n",
      "  _warn_prf(average, modifier, msg_start, len(result))\n",
      "C:\\Users\\alish\\anaconda3\\lib\\site-packages\\sklearn\\metrics\\_classification.py:1318: UndefinedMetricWarning: Precision is ill-defined and being set to 0.0 due to no predicted samples. Use `zero_division` parameter to control this behavior.\n",
      "  _warn_prf(average, modifier, msg_start, len(result))\n"
     ]
    },
    {
     "name": "stdout",
     "output_type": "stream",
     "text": [
      "K-fold cross-validation results:\n",
      "XGBoost average accuracy is 0.882\n",
      "XGBoost average log_loss is 0.571\n",
      "XGBoost average brier score is 0.190\n",
      "XGBoost average auc is 0.498\n",
      "XGBoost average recall is 0.000\n",
      "XGBoost average precision is 0.000\n",
      "XGBoost average f1 is 0.000\n"
     ]
    }
   ],
   "source": [
    "xgb = XGBClassifier( objective= 'binary:logistic', nthread=4, seed=42, n_estimators=300,\n",
    "                   max_depth = 3, learning_rate = 0.001, colsample_bytree = 0.3)\n",
    "xgb.fit(X,Y)\n",
    "\n",
    "scores_accuracy = cross_val_score(xgb, X, Y, cv=10, scoring='accuracy')\n",
    "scores_log_loss = cross_val_score(xgb, X, Y, cv=10, scoring='neg_log_loss')\n",
    "scores_briar = cross_val_score(xgb, X, Y, cv=10, scoring='neg_brier_score')\n",
    "scores_auc = cross_val_score(xgb, X, Y, cv=10, scoring='roc_auc')\n",
    "scores_recall = cross_val_score(xgb, X, Y, cv=10, scoring='recall')\n",
    "scores_precision = cross_val_score(xgb, X, Y, cv=10, scoring='precision')\n",
    "scores_f1 = cross_val_score(xgb, X, Y, cv=10, scoring='f1')\n",
    "print('K-fold cross-validation results:')\n",
    "print(\"XGBoost average accuracy is %2.3f\" % scores_accuracy.mean())\n",
    "print(\"XGBoost average log_loss is %2.3f\" % -scores_log_loss.mean())\n",
    "print(\"XGBoost average brier score is %2.3f\" % -scores_briar.mean())\n",
    "print(\"XGBoost average auc is %2.3f\" % scores_auc.mean())\n",
    "print(\"XGBoost average recall is %2.3f\" % scores_recall.mean())\n",
    "print(\"XGBoost average precision is %2.3f\" % scores_precision.mean())\n",
    "print(\"XGBoost average f1 is %2.3f\" % scores_f1.mean())"
   ]
  },
  {
   "cell_type": "code",
   "execution_count": 44,
   "id": "671505e4",
   "metadata": {},
   "outputs": [],
   "source": [
    "sm = SMOTE(random_state=5)\n",
    "X_balanced, Y_balanced = sm.fit_resample(X, Y)"
   ]
  },
  {
   "cell_type": "code",
   "execution_count": 45,
   "id": "519daade",
   "metadata": {},
   "outputs": [
    {
     "name": "stdout",
     "output_type": "stream",
     "text": [
      "Fitting 10 folds for each of 270 candidates, totalling 2700 fits\n"
     ]
    },
    {
     "data": {
      "text/plain": [
       "GridSearchCV(cv=10,\n",
       "             estimator=XGBClassifier(base_score=None, booster=None,\n",
       "                                     callbacks=None, colsample_bylevel=None,\n",
       "                                     colsample_bynode=None,\n",
       "                                     colsample_bytree=None,\n",
       "                                     early_stopping_rounds=None,\n",
       "                                     enable_categorical=False, eval_metric=None,\n",
       "                                     gamma=None, gpu_id=None, grow_policy=None,\n",
       "                                     importance_type=None,\n",
       "                                     interaction_constraints=None,\n",
       "                                     learning_rate=None, max_bin=None,\n",
       "                                     max_c...\n",
       "                                     max_delta_step=None, max_depth=None,\n",
       "                                     max_leaves=None, min_child_weight=None,\n",
       "                                     missing=nan, monotone_constraints=None,\n",
       "                                     n_estimators=100, n_jobs=None, nthread=4,\n",
       "                                     num_parallel_tree=None, predictor=None,\n",
       "                                     random_state=None, reg_alpha=None, ...),\n",
       "             param_grid={'colsample_bytree': [0.3, 0.5, 0.8],\n",
       "                         'learning_rate': [0.1, 0.01, 0.001],\n",
       "                         'max_depth': [3, 4, 6, 8, 10, 15],\n",
       "                         'n_estimators': range(100, 1000, 200)},\n",
       "             verbose=1)"
      ]
     },
     "execution_count": 45,
     "metadata": {},
     "output_type": "execute_result"
    }
   ],
   "source": [
    "xgb = XGBClassifier( objective= 'binary:logistic', nthread=4, seed=42)\n",
    "\n",
    "params = {\n",
    "    \"max_depth\": [ 3, 4, 6, 8, 10, 15],\n",
    "    'n_estimators': range(100,1000,200),\n",
    "    'learning_rate': [0.1,0.01,0.001],\n",
    "    \"colsample_bytree\" : [0.3, 0.5 , 0.8]\n",
    "}\n",
    "\n",
    "cv = GridSearchCV(xgb,params,cv=10, verbose=1)\n",
    "cv.fit(X_balanced,Y_balanced.values.ravel(), verbose=1)"
   ]
  },
  {
   "cell_type": "code",
   "execution_count": 46,
   "id": "6f21b51e",
   "metadata": {},
   "outputs": [
    {
     "name": "stdout",
     "output_type": "stream",
     "text": [
      "Best parameters are: {'colsample_bytree': 0.3, 'learning_rate': 0.001, 'max_depth': 15, 'n_estimators': 500}\n",
      "Best Score is : 0.9241687979539641 \n",
      "\n",
      "\n",
      "0.809 + or -0.124 for the {'colsample_bytree': 0.3, 'learning_rate': 0.1, 'max_depth': 3, 'n_estimators': 100}\n",
      "0.85 + or -0.128 for the {'colsample_bytree': 0.3, 'learning_rate': 0.1, 'max_depth': 3, 'n_estimators': 300}\n",
      "0.861 + or -0.102 for the {'colsample_bytree': 0.3, 'learning_rate': 0.1, 'max_depth': 3, 'n_estimators': 500}\n",
      "0.869 + or -0.094 for the {'colsample_bytree': 0.3, 'learning_rate': 0.1, 'max_depth': 3, 'n_estimators': 700}\n",
      "0.871 + or -0.095 for the {'colsample_bytree': 0.3, 'learning_rate': 0.1, 'max_depth': 3, 'n_estimators': 900}\n",
      "0.842 + or -0.115 for the {'colsample_bytree': 0.3, 'learning_rate': 0.1, 'max_depth': 4, 'n_estimators': 100}\n",
      "0.871 + or -0.101 for the {'colsample_bytree': 0.3, 'learning_rate': 0.1, 'max_depth': 4, 'n_estimators': 300}\n",
      "0.882 + or -0.1 for the {'colsample_bytree': 0.3, 'learning_rate': 0.1, 'max_depth': 4, 'n_estimators': 500}\n",
      "0.882 + or -0.099 for the {'colsample_bytree': 0.3, 'learning_rate': 0.1, 'max_depth': 4, 'n_estimators': 700}\n",
      "0.883 + or -0.099 for the {'colsample_bytree': 0.3, 'learning_rate': 0.1, 'max_depth': 4, 'n_estimators': 900}\n",
      "0.874 + or -0.099 for the {'colsample_bytree': 0.3, 'learning_rate': 0.1, 'max_depth': 6, 'n_estimators': 100}\n",
      "0.889 + or -0.089 for the {'colsample_bytree': 0.3, 'learning_rate': 0.1, 'max_depth': 6, 'n_estimators': 300}\n",
      "0.889 + or -0.087 for the {'colsample_bytree': 0.3, 'learning_rate': 0.1, 'max_depth': 6, 'n_estimators': 500}\n",
      "0.892 + or -0.083 for the {'colsample_bytree': 0.3, 'learning_rate': 0.1, 'max_depth': 6, 'n_estimators': 700}\n",
      "0.89 + or -0.088 for the {'colsample_bytree': 0.3, 'learning_rate': 0.1, 'max_depth': 6, 'n_estimators': 900}\n",
      "0.89 + or -0.088 for the {'colsample_bytree': 0.3, 'learning_rate': 0.1, 'max_depth': 8, 'n_estimators': 100}\n",
      "0.895 + or -0.085 for the {'colsample_bytree': 0.3, 'learning_rate': 0.1, 'max_depth': 8, 'n_estimators': 300}\n",
      "0.888 + or -0.094 for the {'colsample_bytree': 0.3, 'learning_rate': 0.1, 'max_depth': 8, 'n_estimators': 500}\n",
      "0.893 + or -0.085 for the {'colsample_bytree': 0.3, 'learning_rate': 0.1, 'max_depth': 8, 'n_estimators': 700}\n",
      "0.891 + or -0.089 for the {'colsample_bytree': 0.3, 'learning_rate': 0.1, 'max_depth': 8, 'n_estimators': 900}\n",
      "0.902 + or -0.082 for the {'colsample_bytree': 0.3, 'learning_rate': 0.1, 'max_depth': 10, 'n_estimators': 100}\n",
      "0.891 + or -0.089 for the {'colsample_bytree': 0.3, 'learning_rate': 0.1, 'max_depth': 10, 'n_estimators': 300}\n",
      "0.893 + or -0.089 for the {'colsample_bytree': 0.3, 'learning_rate': 0.1, 'max_depth': 10, 'n_estimators': 500}\n",
      "0.895 + or -0.09 for the {'colsample_bytree': 0.3, 'learning_rate': 0.1, 'max_depth': 10, 'n_estimators': 700}\n",
      "0.893 + or -0.089 for the {'colsample_bytree': 0.3, 'learning_rate': 0.1, 'max_depth': 10, 'n_estimators': 900}\n",
      "0.891 + or -0.094 for the {'colsample_bytree': 0.3, 'learning_rate': 0.1, 'max_depth': 15, 'n_estimators': 100}\n",
      "0.895 + or -0.086 for the {'colsample_bytree': 0.3, 'learning_rate': 0.1, 'max_depth': 15, 'n_estimators': 300}\n",
      "0.892 + or -0.091 for the {'colsample_bytree': 0.3, 'learning_rate': 0.1, 'max_depth': 15, 'n_estimators': 500}\n",
      "0.886 + or -0.09 for the {'colsample_bytree': 0.3, 'learning_rate': 0.1, 'max_depth': 15, 'n_estimators': 700}\n",
      "0.892 + or -0.091 for the {'colsample_bytree': 0.3, 'learning_rate': 0.1, 'max_depth': 15, 'n_estimators': 900}\n",
      "0.788 + or -0.08 for the {'colsample_bytree': 0.3, 'learning_rate': 0.01, 'max_depth': 3, 'n_estimators': 100}\n",
      "0.784 + or -0.096 for the {'colsample_bytree': 0.3, 'learning_rate': 0.01, 'max_depth': 3, 'n_estimators': 300}\n",
      "0.8 + or -0.122 for the {'colsample_bytree': 0.3, 'learning_rate': 0.01, 'max_depth': 3, 'n_estimators': 500}\n",
      "0.806 + or -0.122 for the {'colsample_bytree': 0.3, 'learning_rate': 0.01, 'max_depth': 3, 'n_estimators': 700}\n",
      "0.82 + or -0.129 for the {'colsample_bytree': 0.3, 'learning_rate': 0.01, 'max_depth': 3, 'n_estimators': 900}\n",
      "0.832 + or -0.08 for the {'colsample_bytree': 0.3, 'learning_rate': 0.01, 'max_depth': 4, 'n_estimators': 100}\n",
      "0.826 + or -0.102 for the {'colsample_bytree': 0.3, 'learning_rate': 0.01, 'max_depth': 4, 'n_estimators': 300}\n",
      "0.838 + or -0.108 for the {'colsample_bytree': 0.3, 'learning_rate': 0.01, 'max_depth': 4, 'n_estimators': 500}\n",
      "0.838 + or -0.12 for the {'colsample_bytree': 0.3, 'learning_rate': 0.01, 'max_depth': 4, 'n_estimators': 700}\n",
      "0.844 + or -0.116 for the {'colsample_bytree': 0.3, 'learning_rate': 0.01, 'max_depth': 4, 'n_estimators': 900}\n",
      "0.873 + or -0.072 for the {'colsample_bytree': 0.3, 'learning_rate': 0.01, 'max_depth': 6, 'n_estimators': 100}\n",
      "0.877 + or -0.086 for the {'colsample_bytree': 0.3, 'learning_rate': 0.01, 'max_depth': 6, 'n_estimators': 300}\n",
      "0.876 + or -0.09 for the {'colsample_bytree': 0.3, 'learning_rate': 0.01, 'max_depth': 6, 'n_estimators': 500}\n",
      "0.88 + or -0.091 for the {'colsample_bytree': 0.3, 'learning_rate': 0.01, 'max_depth': 6, 'n_estimators': 700}\n",
      "0.877 + or -0.089 for the {'colsample_bytree': 0.3, 'learning_rate': 0.01, 'max_depth': 6, 'n_estimators': 900}\n",
      "0.902 + or -0.062 for the {'colsample_bytree': 0.3, 'learning_rate': 0.01, 'max_depth': 8, 'n_estimators': 100}\n",
      "0.905 + or -0.076 for the {'colsample_bytree': 0.3, 'learning_rate': 0.01, 'max_depth': 8, 'n_estimators': 300}\n",
      "0.901 + or -0.08 for the {'colsample_bytree': 0.3, 'learning_rate': 0.01, 'max_depth': 8, 'n_estimators': 500}\n",
      "0.896 + or -0.085 for the {'colsample_bytree': 0.3, 'learning_rate': 0.01, 'max_depth': 8, 'n_estimators': 700}\n",
      "0.892 + or -0.085 for the {'colsample_bytree': 0.3, 'learning_rate': 0.01, 'max_depth': 8, 'n_estimators': 900}\n",
      "0.912 + or -0.055 for the {'colsample_bytree': 0.3, 'learning_rate': 0.01, 'max_depth': 10, 'n_estimators': 100}\n",
      "0.915 + or -0.07 for the {'colsample_bytree': 0.3, 'learning_rate': 0.01, 'max_depth': 10, 'n_estimators': 300}\n",
      "0.908 + or -0.081 for the {'colsample_bytree': 0.3, 'learning_rate': 0.01, 'max_depth': 10, 'n_estimators': 500}\n",
      "0.904 + or -0.082 for the {'colsample_bytree': 0.3, 'learning_rate': 0.01, 'max_depth': 10, 'n_estimators': 700}\n",
      "0.901 + or -0.081 for the {'colsample_bytree': 0.3, 'learning_rate': 0.01, 'max_depth': 10, 'n_estimators': 900}\n",
      "0.915 + or -0.058 for the {'colsample_bytree': 0.3, 'learning_rate': 0.01, 'max_depth': 15, 'n_estimators': 100}\n",
      "0.92 + or -0.063 for the {'colsample_bytree': 0.3, 'learning_rate': 0.01, 'max_depth': 15, 'n_estimators': 300}\n",
      "0.91 + or -0.074 for the {'colsample_bytree': 0.3, 'learning_rate': 0.01, 'max_depth': 15, 'n_estimators': 500}\n",
      "0.905 + or -0.079 for the {'colsample_bytree': 0.3, 'learning_rate': 0.01, 'max_depth': 15, 'n_estimators': 700}\n",
      "0.907 + or -0.077 for the {'colsample_bytree': 0.3, 'learning_rate': 0.01, 'max_depth': 15, 'n_estimators': 900}\n",
      "0.776 + or -0.079 for the {'colsample_bytree': 0.3, 'learning_rate': 0.001, 'max_depth': 3, 'n_estimators': 100}\n",
      "0.779 + or -0.088 for the {'colsample_bytree': 0.3, 'learning_rate': 0.001, 'max_depth': 3, 'n_estimators': 300}\n",
      "0.776 + or -0.09 for the {'colsample_bytree': 0.3, 'learning_rate': 0.001, 'max_depth': 3, 'n_estimators': 500}\n",
      "0.775 + or -0.09 for the {'colsample_bytree': 0.3, 'learning_rate': 0.001, 'max_depth': 3, 'n_estimators': 700}\n",
      "0.769 + or -0.093 for the {'colsample_bytree': 0.3, 'learning_rate': 0.001, 'max_depth': 3, 'n_estimators': 900}\n",
      "0.813 + or -0.076 for the {'colsample_bytree': 0.3, 'learning_rate': 0.001, 'max_depth': 4, 'n_estimators': 100}\n",
      "0.822 + or -0.079 for the {'colsample_bytree': 0.3, 'learning_rate': 0.001, 'max_depth': 4, 'n_estimators': 300}\n",
      "0.814 + or -0.077 for the {'colsample_bytree': 0.3, 'learning_rate': 0.001, 'max_depth': 4, 'n_estimators': 500}\n",
      "0.813 + or -0.081 for the {'colsample_bytree': 0.3, 'learning_rate': 0.001, 'max_depth': 4, 'n_estimators': 700}\n",
      "0.807 + or -0.082 for the {'colsample_bytree': 0.3, 'learning_rate': 0.001, 'max_depth': 4, 'n_estimators': 900}\n",
      "0.86 + or -0.072 for the {'colsample_bytree': 0.3, 'learning_rate': 0.001, 'max_depth': 6, 'n_estimators': 100}\n",
      "0.877 + or -0.077 for the {'colsample_bytree': 0.3, 'learning_rate': 0.001, 'max_depth': 6, 'n_estimators': 300}\n",
      "0.879 + or -0.077 for the {'colsample_bytree': 0.3, 'learning_rate': 0.001, 'max_depth': 6, 'n_estimators': 500}\n",
      "0.874 + or -0.074 for the {'colsample_bytree': 0.3, 'learning_rate': 0.001, 'max_depth': 6, 'n_estimators': 700}\n",
      "0.874 + or -0.082 for the {'colsample_bytree': 0.3, 'learning_rate': 0.001, 'max_depth': 6, 'n_estimators': 900}\n",
      "0.89 + or -0.063 for the {'colsample_bytree': 0.3, 'learning_rate': 0.001, 'max_depth': 8, 'n_estimators': 100}\n",
      "0.904 + or -0.07 for the {'colsample_bytree': 0.3, 'learning_rate': 0.001, 'max_depth': 8, 'n_estimators': 300}\n",
      "0.908 + or -0.074 for the {'colsample_bytree': 0.3, 'learning_rate': 0.001, 'max_depth': 8, 'n_estimators': 500}\n",
      "0.91 + or -0.07 for the {'colsample_bytree': 0.3, 'learning_rate': 0.001, 'max_depth': 8, 'n_estimators': 700}\n",
      "0.911 + or -0.071 for the {'colsample_bytree': 0.3, 'learning_rate': 0.001, 'max_depth': 8, 'n_estimators': 900}\n",
      "0.905 + or -0.064 for the {'colsample_bytree': 0.3, 'learning_rate': 0.001, 'max_depth': 10, 'n_estimators': 100}\n",
      "0.917 + or -0.063 for the {'colsample_bytree': 0.3, 'learning_rate': 0.001, 'max_depth': 10, 'n_estimators': 300}\n",
      "0.911 + or -0.066 for the {'colsample_bytree': 0.3, 'learning_rate': 0.001, 'max_depth': 10, 'n_estimators': 500}\n",
      "0.917 + or -0.064 for the {'colsample_bytree': 0.3, 'learning_rate': 0.001, 'max_depth': 10, 'n_estimators': 700}\n",
      "0.917 + or -0.068 for the {'colsample_bytree': 0.3, 'learning_rate': 0.001, 'max_depth': 10, 'n_estimators': 900}\n",
      "0.908 + or -0.063 for the {'colsample_bytree': 0.3, 'learning_rate': 0.001, 'max_depth': 15, 'n_estimators': 100}\n",
      "0.918 + or -0.063 for the {'colsample_bytree': 0.3, 'learning_rate': 0.001, 'max_depth': 15, 'n_estimators': 300}\n",
      "0.924 + or -0.069 for the {'colsample_bytree': 0.3, 'learning_rate': 0.001, 'max_depth': 15, 'n_estimators': 500}\n",
      "0.921 + or -0.069 for the {'colsample_bytree': 0.3, 'learning_rate': 0.001, 'max_depth': 15, 'n_estimators': 700}\n",
      "0.923 + or -0.07 for the {'colsample_bytree': 0.3, 'learning_rate': 0.001, 'max_depth': 15, 'n_estimators': 900}\n",
      "0.828 + or -0.106 for the {'colsample_bytree': 0.5, 'learning_rate': 0.1, 'max_depth': 3, 'n_estimators': 100}\n",
      "0.863 + or -0.098 for the {'colsample_bytree': 0.5, 'learning_rate': 0.1, 'max_depth': 3, 'n_estimators': 300}\n",
      "0.87 + or -0.098 for the {'colsample_bytree': 0.5, 'learning_rate': 0.1, 'max_depth': 3, 'n_estimators': 500}\n",
      "0.876 + or -0.094 for the {'colsample_bytree': 0.5, 'learning_rate': 0.1, 'max_depth': 3, 'n_estimators': 700}\n",
      "0.877 + or -0.096 for the {'colsample_bytree': 0.5, 'learning_rate': 0.1, 'max_depth': 3, 'n_estimators': 900}\n",
      "0.857 + or -0.092 for the {'colsample_bytree': 0.5, 'learning_rate': 0.1, 'max_depth': 4, 'n_estimators': 100}\n",
      "0.889 + or -0.075 for the {'colsample_bytree': 0.5, 'learning_rate': 0.1, 'max_depth': 4, 'n_estimators': 300}\n",
      "0.886 + or -0.079 for the {'colsample_bytree': 0.5, 'learning_rate': 0.1, 'max_depth': 4, 'n_estimators': 500}\n",
      "0.883 + or -0.08 for the {'colsample_bytree': 0.5, 'learning_rate': 0.1, 'max_depth': 4, 'n_estimators': 700}\n",
      "0.88 + or -0.083 for the {'colsample_bytree': 0.5, 'learning_rate': 0.1, 'max_depth': 4, 'n_estimators': 900}\n",
      "0.877 + or -0.087 for the {'colsample_bytree': 0.5, 'learning_rate': 0.1, 'max_depth': 6, 'n_estimators': 100}\n",
      "0.895 + or -0.082 for the {'colsample_bytree': 0.5, 'learning_rate': 0.1, 'max_depth': 6, 'n_estimators': 300}\n",
      "0.892 + or -0.079 for the {'colsample_bytree': 0.5, 'learning_rate': 0.1, 'max_depth': 6, 'n_estimators': 500}\n",
      "0.89 + or -0.08 for the {'colsample_bytree': 0.5, 'learning_rate': 0.1, 'max_depth': 6, 'n_estimators': 700}\n",
      "0.89 + or -0.08 for the {'colsample_bytree': 0.5, 'learning_rate': 0.1, 'max_depth': 6, 'n_estimators': 900}\n",
      "0.876 + or -0.09 for the {'colsample_bytree': 0.5, 'learning_rate': 0.1, 'max_depth': 8, 'n_estimators': 100}\n",
      "0.885 + or -0.083 for the {'colsample_bytree': 0.5, 'learning_rate': 0.1, 'max_depth': 8, 'n_estimators': 300}\n",
      "0.882 + or -0.085 for the {'colsample_bytree': 0.5, 'learning_rate': 0.1, 'max_depth': 8, 'n_estimators': 500}\n",
      "0.888 + or -0.082 for the {'colsample_bytree': 0.5, 'learning_rate': 0.1, 'max_depth': 8, 'n_estimators': 700}\n",
      "0.885 + or -0.082 for the {'colsample_bytree': 0.5, 'learning_rate': 0.1, 'max_depth': 8, 'n_estimators': 900}\n",
      "0.886 + or -0.085 for the {'colsample_bytree': 0.5, 'learning_rate': 0.1, 'max_depth': 10, 'n_estimators': 100}\n",
      "0.892 + or -0.087 for the {'colsample_bytree': 0.5, 'learning_rate': 0.1, 'max_depth': 10, 'n_estimators': 300}\n",
      "0.893 + or -0.078 for the {'colsample_bytree': 0.5, 'learning_rate': 0.1, 'max_depth': 10, 'n_estimators': 500}\n",
      "0.892 + or -0.082 for the {'colsample_bytree': 0.5, 'learning_rate': 0.1, 'max_depth': 10, 'n_estimators': 700}\n",
      "0.893 + or -0.081 for the {'colsample_bytree': 0.5, 'learning_rate': 0.1, 'max_depth': 10, 'n_estimators': 900}\n",
      "0.893 + or -0.072 for the {'colsample_bytree': 0.5, 'learning_rate': 0.1, 'max_depth': 15, 'n_estimators': 100}\n",
      "0.901 + or -0.073 for the {'colsample_bytree': 0.5, 'learning_rate': 0.1, 'max_depth': 15, 'n_estimators': 300}\n",
      "0.902 + or -0.072 for the {'colsample_bytree': 0.5, 'learning_rate': 0.1, 'max_depth': 15, 'n_estimators': 500}\n",
      "0.898 + or -0.078 for the {'colsample_bytree': 0.5, 'learning_rate': 0.1, 'max_depth': 15, 'n_estimators': 700}\n",
      "0.895 + or -0.078 for the {'colsample_bytree': 0.5, 'learning_rate': 0.1, 'max_depth': 15, 'n_estimators': 900}\n",
      "0.762 + or -0.076 for the {'colsample_bytree': 0.5, 'learning_rate': 0.01, 'max_depth': 3, 'n_estimators': 100}\n",
      "0.763 + or -0.103 for the {'colsample_bytree': 0.5, 'learning_rate': 0.01, 'max_depth': 3, 'n_estimators': 300}\n",
      "0.789 + or -0.106 for the {'colsample_bytree': 0.5, 'learning_rate': 0.01, 'max_depth': 3, 'n_estimators': 500}\n",
      "0.807 + or -0.114 for the {'colsample_bytree': 0.5, 'learning_rate': 0.01, 'max_depth': 3, 'n_estimators': 700}\n",
      "0.816 + or -0.117 for the {'colsample_bytree': 0.5, 'learning_rate': 0.01, 'max_depth': 3, 'n_estimators': 900}\n",
      "0.798 + or -0.071 for the {'colsample_bytree': 0.5, 'learning_rate': 0.01, 'max_depth': 4, 'n_estimators': 100}\n",
      "0.8 + or -0.105 for the {'colsample_bytree': 0.5, 'learning_rate': 0.01, 'max_depth': 4, 'n_estimators': 300}\n",
      "0.82 + or -0.103 for the {'colsample_bytree': 0.5, 'learning_rate': 0.01, 'max_depth': 4, 'n_estimators': 500}\n",
      "0.83 + or -0.104 for the {'colsample_bytree': 0.5, 'learning_rate': 0.01, 'max_depth': 4, 'n_estimators': 700}\n",
      "0.835 + or -0.108 for the {'colsample_bytree': 0.5, 'learning_rate': 0.01, 'max_depth': 4, 'n_estimators': 900}\n",
      "0.861 + or -0.064 for the {'colsample_bytree': 0.5, 'learning_rate': 0.01, 'max_depth': 6, 'n_estimators': 100}\n",
      "0.86 + or -0.086 for the {'colsample_bytree': 0.5, 'learning_rate': 0.01, 'max_depth': 6, 'n_estimators': 300}\n",
      "0.848 + or -0.103 for the {'colsample_bytree': 0.5, 'learning_rate': 0.01, 'max_depth': 6, 'n_estimators': 500}\n",
      "0.857 + or -0.093 for the {'colsample_bytree': 0.5, 'learning_rate': 0.01, 'max_depth': 6, 'n_estimators': 700}\n",
      "0.863 + or -0.092 for the {'colsample_bytree': 0.5, 'learning_rate': 0.01, 'max_depth': 6, 'n_estimators': 900}\n",
      "0.88 + or -0.072 for the {'colsample_bytree': 0.5, 'learning_rate': 0.01, 'max_depth': 8, 'n_estimators': 100}\n",
      "0.876 + or -0.089 for the {'colsample_bytree': 0.5, 'learning_rate': 0.01, 'max_depth': 8, 'n_estimators': 300}\n",
      "0.871 + or -0.095 for the {'colsample_bytree': 0.5, 'learning_rate': 0.01, 'max_depth': 8, 'n_estimators': 500}\n",
      "0.876 + or -0.089 for the {'colsample_bytree': 0.5, 'learning_rate': 0.01, 'max_depth': 8, 'n_estimators': 700}\n",
      "0.88 + or -0.085 for the {'colsample_bytree': 0.5, 'learning_rate': 0.01, 'max_depth': 8, 'n_estimators': 900}\n",
      "0.89 + or -0.079 for the {'colsample_bytree': 0.5, 'learning_rate': 0.01, 'max_depth': 10, 'n_estimators': 100}\n",
      "0.889 + or -0.087 for the {'colsample_bytree': 0.5, 'learning_rate': 0.01, 'max_depth': 10, 'n_estimators': 300}\n",
      "0.876 + or -0.09 for the {'colsample_bytree': 0.5, 'learning_rate': 0.01, 'max_depth': 10, 'n_estimators': 500}\n",
      "0.882 + or -0.084 for the {'colsample_bytree': 0.5, 'learning_rate': 0.01, 'max_depth': 10, 'n_estimators': 700}\n",
      "0.884 + or -0.081 for the {'colsample_bytree': 0.5, 'learning_rate': 0.01, 'max_depth': 10, 'n_estimators': 900}\n",
      "0.899 + or -0.081 for the {'colsample_bytree': 0.5, 'learning_rate': 0.01, 'max_depth': 15, 'n_estimators': 100}\n",
      "0.892 + or -0.089 for the {'colsample_bytree': 0.5, 'learning_rate': 0.01, 'max_depth': 15, 'n_estimators': 300}\n",
      "0.88 + or -0.091 for the {'colsample_bytree': 0.5, 'learning_rate': 0.01, 'max_depth': 15, 'n_estimators': 500}\n",
      "0.893 + or -0.081 for the {'colsample_bytree': 0.5, 'learning_rate': 0.01, 'max_depth': 15, 'n_estimators': 700}\n",
      "0.886 + or -0.078 for the {'colsample_bytree': 0.5, 'learning_rate': 0.01, 'max_depth': 15, 'n_estimators': 900}\n",
      "0.772 + or -0.073 for the {'colsample_bytree': 0.5, 'learning_rate': 0.001, 'max_depth': 3, 'n_estimators': 100}\n",
      "0.763 + or -0.074 for the {'colsample_bytree': 0.5, 'learning_rate': 0.001, 'max_depth': 3, 'n_estimators': 300}\n",
      "0.765 + or -0.076 for the {'colsample_bytree': 0.5, 'learning_rate': 0.001, 'max_depth': 3, 'n_estimators': 500}\n",
      "0.765 + or -0.073 for the {'colsample_bytree': 0.5, 'learning_rate': 0.001, 'max_depth': 3, 'n_estimators': 700}\n",
      "0.768 + or -0.076 for the {'colsample_bytree': 0.5, 'learning_rate': 0.001, 'max_depth': 3, 'n_estimators': 900}\n",
      "0.798 + or -0.072 for the {'colsample_bytree': 0.5, 'learning_rate': 0.001, 'max_depth': 4, 'n_estimators': 100}\n",
      "0.797 + or -0.078 for the {'colsample_bytree': 0.5, 'learning_rate': 0.001, 'max_depth': 4, 'n_estimators': 300}\n",
      "0.801 + or -0.079 for the {'colsample_bytree': 0.5, 'learning_rate': 0.001, 'max_depth': 4, 'n_estimators': 500}\n",
      "0.803 + or -0.077 for the {'colsample_bytree': 0.5, 'learning_rate': 0.001, 'max_depth': 4, 'n_estimators': 700}\n",
      "0.806 + or -0.075 for the {'colsample_bytree': 0.5, 'learning_rate': 0.001, 'max_depth': 4, 'n_estimators': 900}\n",
      "0.847 + or -0.084 for the {'colsample_bytree': 0.5, 'learning_rate': 0.001, 'max_depth': 6, 'n_estimators': 100}\n",
      "0.854 + or -0.079 for the {'colsample_bytree': 0.5, 'learning_rate': 0.001, 'max_depth': 6, 'n_estimators': 300}\n",
      "0.852 + or -0.081 for the {'colsample_bytree': 0.5, 'learning_rate': 0.001, 'max_depth': 6, 'n_estimators': 500}\n",
      "0.855 + or -0.08 for the {'colsample_bytree': 0.5, 'learning_rate': 0.001, 'max_depth': 6, 'n_estimators': 700}\n",
      "0.855 + or -0.078 for the {'colsample_bytree': 0.5, 'learning_rate': 0.001, 'max_depth': 6, 'n_estimators': 900}\n",
      "0.87 + or -0.082 for the {'colsample_bytree': 0.5, 'learning_rate': 0.001, 'max_depth': 8, 'n_estimators': 100}\n",
      "0.88 + or -0.079 for the {'colsample_bytree': 0.5, 'learning_rate': 0.001, 'max_depth': 8, 'n_estimators': 300}\n",
      "0.891 + or -0.077 for the {'colsample_bytree': 0.5, 'learning_rate': 0.001, 'max_depth': 8, 'n_estimators': 500}\n",
      "0.888 + or -0.077 for the {'colsample_bytree': 0.5, 'learning_rate': 0.001, 'max_depth': 8, 'n_estimators': 700}\n",
      "0.89 + or -0.074 for the {'colsample_bytree': 0.5, 'learning_rate': 0.001, 'max_depth': 8, 'n_estimators': 900}\n",
      "0.885 + or -0.089 for the {'colsample_bytree': 0.5, 'learning_rate': 0.001, 'max_depth': 10, 'n_estimators': 100}\n",
      "0.896 + or -0.075 for the {'colsample_bytree': 0.5, 'learning_rate': 0.001, 'max_depth': 10, 'n_estimators': 300}\n",
      "0.895 + or -0.076 for the {'colsample_bytree': 0.5, 'learning_rate': 0.001, 'max_depth': 10, 'n_estimators': 500}\n",
      "0.892 + or -0.079 for the {'colsample_bytree': 0.5, 'learning_rate': 0.001, 'max_depth': 10, 'n_estimators': 700}\n",
      "0.895 + or -0.082 for the {'colsample_bytree': 0.5, 'learning_rate': 0.001, 'max_depth': 10, 'n_estimators': 900}\n",
      "0.893 + or -0.08 for the {'colsample_bytree': 0.5, 'learning_rate': 0.001, 'max_depth': 15, 'n_estimators': 100}\n",
      "0.901 + or -0.074 for the {'colsample_bytree': 0.5, 'learning_rate': 0.001, 'max_depth': 15, 'n_estimators': 300}\n",
      "0.905 + or -0.073 for the {'colsample_bytree': 0.5, 'learning_rate': 0.001, 'max_depth': 15, 'n_estimators': 500}\n",
      "0.899 + or -0.079 for the {'colsample_bytree': 0.5, 'learning_rate': 0.001, 'max_depth': 15, 'n_estimators': 700}\n",
      "0.904 + or -0.078 for the {'colsample_bytree': 0.5, 'learning_rate': 0.001, 'max_depth': 15, 'n_estimators': 900}\n",
      "0.816 + or -0.118 for the {'colsample_bytree': 0.8, 'learning_rate': 0.1, 'max_depth': 3, 'n_estimators': 100}\n",
      "0.863 + or -0.087 for the {'colsample_bytree': 0.8, 'learning_rate': 0.1, 'max_depth': 3, 'n_estimators': 300}\n",
      "0.873 + or -0.084 for the {'colsample_bytree': 0.8, 'learning_rate': 0.1, 'max_depth': 3, 'n_estimators': 500}\n",
      "0.874 + or -0.08 for the {'colsample_bytree': 0.8, 'learning_rate': 0.1, 'max_depth': 3, 'n_estimators': 700}\n",
      "0.882 + or -0.078 for the {'colsample_bytree': 0.8, 'learning_rate': 0.1, 'max_depth': 3, 'n_estimators': 900}\n",
      "0.847 + or -0.098 for the {'colsample_bytree': 0.8, 'learning_rate': 0.1, 'max_depth': 4, 'n_estimators': 100}\n",
      "0.883 + or -0.077 for the {'colsample_bytree': 0.8, 'learning_rate': 0.1, 'max_depth': 4, 'n_estimators': 300}\n",
      "0.88 + or -0.083 for the {'colsample_bytree': 0.8, 'learning_rate': 0.1, 'max_depth': 4, 'n_estimators': 500}\n",
      "0.883 + or -0.08 for the {'colsample_bytree': 0.8, 'learning_rate': 0.1, 'max_depth': 4, 'n_estimators': 700}\n",
      "0.882 + or -0.077 for the {'colsample_bytree': 0.8, 'learning_rate': 0.1, 'max_depth': 4, 'n_estimators': 900}\n",
      "0.863 + or -0.083 for the {'colsample_bytree': 0.8, 'learning_rate': 0.1, 'max_depth': 6, 'n_estimators': 100}\n",
      "0.877 + or -0.075 for the {'colsample_bytree': 0.8, 'learning_rate': 0.1, 'max_depth': 6, 'n_estimators': 300}\n",
      "0.88 + or -0.078 for the {'colsample_bytree': 0.8, 'learning_rate': 0.1, 'max_depth': 6, 'n_estimators': 500}\n",
      "0.879 + or -0.071 for the {'colsample_bytree': 0.8, 'learning_rate': 0.1, 'max_depth': 6, 'n_estimators': 700}\n",
      "0.886 + or -0.07 for the {'colsample_bytree': 0.8, 'learning_rate': 0.1, 'max_depth': 6, 'n_estimators': 900}\n",
      "0.874 + or -0.077 for the {'colsample_bytree': 0.8, 'learning_rate': 0.1, 'max_depth': 8, 'n_estimators': 100}\n",
      "0.876 + or -0.08 for the {'colsample_bytree': 0.8, 'learning_rate': 0.1, 'max_depth': 8, 'n_estimators': 300}\n",
      "0.874 + or -0.071 for the {'colsample_bytree': 0.8, 'learning_rate': 0.1, 'max_depth': 8, 'n_estimators': 500}\n",
      "0.879 + or -0.075 for the {'colsample_bytree': 0.8, 'learning_rate': 0.1, 'max_depth': 8, 'n_estimators': 700}\n",
      "0.88 + or -0.077 for the {'colsample_bytree': 0.8, 'learning_rate': 0.1, 'max_depth': 8, 'n_estimators': 900}\n",
      "0.882 + or -0.07 for the {'colsample_bytree': 0.8, 'learning_rate': 0.1, 'max_depth': 10, 'n_estimators': 100}\n",
      "0.892 + or -0.072 for the {'colsample_bytree': 0.8, 'learning_rate': 0.1, 'max_depth': 10, 'n_estimators': 300}\n",
      "0.885 + or -0.079 for the {'colsample_bytree': 0.8, 'learning_rate': 0.1, 'max_depth': 10, 'n_estimators': 500}\n",
      "0.886 + or -0.076 for the {'colsample_bytree': 0.8, 'learning_rate': 0.1, 'max_depth': 10, 'n_estimators': 700}\n",
      "0.882 + or -0.081 for the {'colsample_bytree': 0.8, 'learning_rate': 0.1, 'max_depth': 10, 'n_estimators': 900}\n",
      "0.877 + or -0.078 for the {'colsample_bytree': 0.8, 'learning_rate': 0.1, 'max_depth': 15, 'n_estimators': 100}\n",
      "0.892 + or -0.072 for the {'colsample_bytree': 0.8, 'learning_rate': 0.1, 'max_depth': 15, 'n_estimators': 300}\n",
      "0.885 + or -0.081 for the {'colsample_bytree': 0.8, 'learning_rate': 0.1, 'max_depth': 15, 'n_estimators': 500}\n",
      "0.882 + or -0.081 for the {'colsample_bytree': 0.8, 'learning_rate': 0.1, 'max_depth': 15, 'n_estimators': 700}\n",
      "0.88 + or -0.088 for the {'colsample_bytree': 0.8, 'learning_rate': 0.1, 'max_depth': 15, 'n_estimators': 900}\n",
      "0.753 + or -0.067 for the {'colsample_bytree': 0.8, 'learning_rate': 0.01, 'max_depth': 3, 'n_estimators': 100}\n",
      "0.766 + or -0.093 for the {'colsample_bytree': 0.8, 'learning_rate': 0.01, 'max_depth': 3, 'n_estimators': 300}\n",
      "0.781 + or -0.102 for the {'colsample_bytree': 0.8, 'learning_rate': 0.01, 'max_depth': 3, 'n_estimators': 500}\n",
      "0.798 + or -0.096 for the {'colsample_bytree': 0.8, 'learning_rate': 0.01, 'max_depth': 3, 'n_estimators': 700}\n",
      "0.813 + or -0.103 for the {'colsample_bytree': 0.8, 'learning_rate': 0.01, 'max_depth': 3, 'n_estimators': 900}\n",
      "0.773 + or -0.061 for the {'colsample_bytree': 0.8, 'learning_rate': 0.01, 'max_depth': 4, 'n_estimators': 100}\n",
      "0.795 + or -0.089 for the {'colsample_bytree': 0.8, 'learning_rate': 0.01, 'max_depth': 4, 'n_estimators': 300}\n",
      "0.817 + or -0.09 for the {'colsample_bytree': 0.8, 'learning_rate': 0.01, 'max_depth': 4, 'n_estimators': 500}\n",
      "0.842 + or -0.09 for the {'colsample_bytree': 0.8, 'learning_rate': 0.01, 'max_depth': 4, 'n_estimators': 700}\n",
      "0.847 + or -0.097 for the {'colsample_bytree': 0.8, 'learning_rate': 0.01, 'max_depth': 4, 'n_estimators': 900}\n",
      "0.82 + or -0.066 for the {'colsample_bytree': 0.8, 'learning_rate': 0.01, 'max_depth': 6, 'n_estimators': 100}\n",
      "0.829 + or -0.093 for the {'colsample_bytree': 0.8, 'learning_rate': 0.01, 'max_depth': 6, 'n_estimators': 300}\n",
      "0.835 + or -0.116 for the {'colsample_bytree': 0.8, 'learning_rate': 0.01, 'max_depth': 6, 'n_estimators': 500}\n",
      "0.841 + or -0.114 for the {'colsample_bytree': 0.8, 'learning_rate': 0.01, 'max_depth': 6, 'n_estimators': 700}\n",
      "0.86 + or -0.096 for the {'colsample_bytree': 0.8, 'learning_rate': 0.01, 'max_depth': 6, 'n_estimators': 900}\n",
      "0.844 + or -0.081 for the {'colsample_bytree': 0.8, 'learning_rate': 0.01, 'max_depth': 8, 'n_estimators': 100}\n",
      "0.848 + or -0.085 for the {'colsample_bytree': 0.8, 'learning_rate': 0.01, 'max_depth': 8, 'n_estimators': 300}\n",
      "0.851 + or -0.093 for the {'colsample_bytree': 0.8, 'learning_rate': 0.01, 'max_depth': 8, 'n_estimators': 500}\n",
      "0.857 + or -0.088 for the {'colsample_bytree': 0.8, 'learning_rate': 0.01, 'max_depth': 8, 'n_estimators': 700}\n",
      "0.86 + or -0.083 for the {'colsample_bytree': 0.8, 'learning_rate': 0.01, 'max_depth': 8, 'n_estimators': 900}\n",
      "0.848 + or -0.074 for the {'colsample_bytree': 0.8, 'learning_rate': 0.01, 'max_depth': 10, 'n_estimators': 100}\n",
      "0.852 + or -0.088 for the {'colsample_bytree': 0.8, 'learning_rate': 0.01, 'max_depth': 10, 'n_estimators': 300}\n",
      "0.86 + or -0.092 for the {'colsample_bytree': 0.8, 'learning_rate': 0.01, 'max_depth': 10, 'n_estimators': 500}\n",
      "0.863 + or -0.089 for the {'colsample_bytree': 0.8, 'learning_rate': 0.01, 'max_depth': 10, 'n_estimators': 700}\n",
      "0.863 + or -0.085 for the {'colsample_bytree': 0.8, 'learning_rate': 0.01, 'max_depth': 10, 'n_estimators': 900}\n",
      "0.858 + or -0.066 for the {'colsample_bytree': 0.8, 'learning_rate': 0.01, 'max_depth': 15, 'n_estimators': 100}\n",
      "0.863 + or -0.087 for the {'colsample_bytree': 0.8, 'learning_rate': 0.01, 'max_depth': 15, 'n_estimators': 300}\n",
      "0.867 + or -0.089 for the {'colsample_bytree': 0.8, 'learning_rate': 0.01, 'max_depth': 15, 'n_estimators': 500}\n",
      "0.87 + or -0.09 for the {'colsample_bytree': 0.8, 'learning_rate': 0.01, 'max_depth': 15, 'n_estimators': 700}\n",
      "0.873 + or -0.077 for the {'colsample_bytree': 0.8, 'learning_rate': 0.01, 'max_depth': 15, 'n_estimators': 900}\n",
      "0.715 + or -0.07 for the {'colsample_bytree': 0.8, 'learning_rate': 0.001, 'max_depth': 3, 'n_estimators': 100}\n",
      "0.715 + or -0.074 for the {'colsample_bytree': 0.8, 'learning_rate': 0.001, 'max_depth': 3, 'n_estimators': 300}\n",
      "0.725 + or -0.063 for the {'colsample_bytree': 0.8, 'learning_rate': 0.001, 'max_depth': 3, 'n_estimators': 500}\n",
      "0.747 + or -0.064 for the {'colsample_bytree': 0.8, 'learning_rate': 0.001, 'max_depth': 3, 'n_estimators': 700}\n",
      "0.749 + or -0.065 for the {'colsample_bytree': 0.8, 'learning_rate': 0.001, 'max_depth': 3, 'n_estimators': 900}\n",
      "0.75 + or -0.061 for the {'colsample_bytree': 0.8, 'learning_rate': 0.001, 'max_depth': 4, 'n_estimators': 100}\n",
      "0.753 + or -0.062 for the {'colsample_bytree': 0.8, 'learning_rate': 0.001, 'max_depth': 4, 'n_estimators': 300}\n",
      "0.754 + or -0.059 for the {'colsample_bytree': 0.8, 'learning_rate': 0.001, 'max_depth': 4, 'n_estimators': 500}\n",
      "0.768 + or -0.056 for the {'colsample_bytree': 0.8, 'learning_rate': 0.001, 'max_depth': 4, 'n_estimators': 700}\n",
      "0.772 + or -0.063 for the {'colsample_bytree': 0.8, 'learning_rate': 0.001, 'max_depth': 4, 'n_estimators': 900}\n",
      "0.781 + or -0.052 for the {'colsample_bytree': 0.8, 'learning_rate': 0.001, 'max_depth': 6, 'n_estimators': 100}\n",
      "0.791 + or -0.052 for the {'colsample_bytree': 0.8, 'learning_rate': 0.001, 'max_depth': 6, 'n_estimators': 300}\n",
      "0.8 + or -0.055 for the {'colsample_bytree': 0.8, 'learning_rate': 0.001, 'max_depth': 6, 'n_estimators': 500}\n",
      "0.806 + or -0.054 for the {'colsample_bytree': 0.8, 'learning_rate': 0.001, 'max_depth': 6, 'n_estimators': 700}\n",
      "0.81 + or -0.057 for the {'colsample_bytree': 0.8, 'learning_rate': 0.001, 'max_depth': 6, 'n_estimators': 900}\n",
      "0.797 + or -0.049 for the {'colsample_bytree': 0.8, 'learning_rate': 0.001, 'max_depth': 8, 'n_estimators': 100}\n",
      "0.807 + or -0.056 for the {'colsample_bytree': 0.8, 'learning_rate': 0.001, 'max_depth': 8, 'n_estimators': 300}\n",
      "0.823 + or -0.055 for the {'colsample_bytree': 0.8, 'learning_rate': 0.001, 'max_depth': 8, 'n_estimators': 500}\n",
      "0.83 + or -0.054 for the {'colsample_bytree': 0.8, 'learning_rate': 0.001, 'max_depth': 8, 'n_estimators': 700}\n",
      "0.836 + or -0.064 for the {'colsample_bytree': 0.8, 'learning_rate': 0.001, 'max_depth': 8, 'n_estimators': 900}\n",
      "0.8 + or -0.061 for the {'colsample_bytree': 0.8, 'learning_rate': 0.001, 'max_depth': 10, 'n_estimators': 100}\n",
      "0.816 + or -0.057 for the {'colsample_bytree': 0.8, 'learning_rate': 0.001, 'max_depth': 10, 'n_estimators': 300}\n",
      "0.832 + or -0.058 for the {'colsample_bytree': 0.8, 'learning_rate': 0.001, 'max_depth': 10, 'n_estimators': 500}\n",
      "0.841 + or -0.056 for the {'colsample_bytree': 0.8, 'learning_rate': 0.001, 'max_depth': 10, 'n_estimators': 700}\n",
      "0.85 + or -0.065 for the {'colsample_bytree': 0.8, 'learning_rate': 0.001, 'max_depth': 10, 'n_estimators': 900}\n",
      "0.816 + or -0.07 for the {'colsample_bytree': 0.8, 'learning_rate': 0.001, 'max_depth': 15, 'n_estimators': 100}\n",
      "0.828 + or -0.059 for the {'colsample_bytree': 0.8, 'learning_rate': 0.001, 'max_depth': 15, 'n_estimators': 300}\n",
      "0.833 + or -0.058 for the {'colsample_bytree': 0.8, 'learning_rate': 0.001, 'max_depth': 15, 'n_estimators': 500}\n",
      "0.845 + or -0.056 for the {'colsample_bytree': 0.8, 'learning_rate': 0.001, 'max_depth': 15, 'n_estimators': 700}\n",
      "0.852 + or -0.059 for the {'colsample_bytree': 0.8, 'learning_rate': 0.001, 'max_depth': 15, 'n_estimators': 900}\n"
     ]
    }
   ],
   "source": [
    "def display_results(results):\n",
    "    print(f'Best parameters are: {results.best_params_}')\n",
    "    print(f'Best Score is : {results.best_score_} ')\n",
    "    print(\"\\n\")\n",
    "    mean_score = results.cv_results_['mean_test_score']\n",
    "    std_score = results.cv_results_['std_test_score']\n",
    "    params = results.cv_results_['params']\n",
    "    for mean,std,params in zip(mean_score,std_score,params):\n",
    "        print(f'{round(mean,3)} + or -{round(std,3)} for the {params}')\n",
    "        \n",
    "display_results(cv)"
   ]
  },
  {
   "cell_type": "code",
   "execution_count": 48,
   "id": "e5bdb8db",
   "metadata": {},
   "outputs": [
    {
     "name": "stdout",
     "output_type": "stream",
     "text": [
      "K-fold cross-validation results:\n",
      "XGBoost average accuracy is 0.924\n",
      "XGBoost average log_loss is 0.555\n",
      "XGBoost average brier score is 0.182\n",
      "XGBoost average auc is 0.978\n",
      "XGBoost average recall is 0.921\n",
      "XGBoost average precision is 0.928\n",
      "XGBoost average f1 is 0.918\n"
     ]
    }
   ],
   "source": [
    "xgb_balanced = XGBClassifier( objective= 'binary:logistic', nthread=4, seed=42, n_estimators=500,\n",
    "                   max_depth = 15, learning_rate = 0.001, colsample_bytree = 0.3)\n",
    "xgb_balanced.fit(X_balanced,Y_balanced)\n",
    "\n",
    "scores_accuracy = cross_val_score(xgb_balanced, X_balanced, Y_balanced, cv=10, scoring='accuracy')\n",
    "scores_log_loss = cross_val_score(xgb_balanced, X_balanced, Y_balanced, cv=10, scoring='neg_log_loss')\n",
    "scores_briar = cross_val_score(xgb_balanced, X_balanced, Y_balanced, cv=10, scoring='neg_brier_score')\n",
    "scores_auc = cross_val_score(xgb_balanced, X_balanced, Y_balanced, cv=10, scoring='roc_auc')\n",
    "scores_recall = cross_val_score(xgb_balanced, X_balanced, Y_balanced, cv=10, scoring='recall')\n",
    "scores_precision = cross_val_score(xgb_balanced, X_balanced, Y_balanced, cv=10, scoring='precision')\n",
    "scores_f1 = cross_val_score(xgb_balanced, X_balanced, Y_balanced, cv=10, scoring='f1')\n",
    "print('K-fold cross-validation results:')\n",
    "print(\"XGBoost average accuracy is %2.3f\" % scores_accuracy.mean())\n",
    "print(\"XGBoost average log_loss is %2.3f\" % -scores_log_loss.mean())\n",
    "print(\"XGBoost average brier score is %2.3f\" % -scores_briar.mean())\n",
    "print(\"XGBoost average auc is %2.3f\" % scores_auc.mean())\n",
    "print(\"XGBoost average recall is %2.3f\" % scores_recall.mean())\n",
    "print(\"XGBoost average precision is %2.3f\" % scores_precision.mean())\n",
    "print(\"XGBoost average f1 is %2.3f\" % scores_f1.mean())"
   ]
  },
  {
   "cell_type": "code",
   "execution_count": null,
   "id": "f1ecbc9b",
   "metadata": {},
   "outputs": [],
   "source": []
  },
  {
   "cell_type": "code",
   "execution_count": null,
   "id": "2f0d447c",
   "metadata": {},
   "outputs": [],
   "source": []
  }
 ],
 "metadata": {
  "kernelspec": {
   "display_name": "Python 3 (ipykernel)",
   "language": "python",
   "name": "python3"
  },
  "language_info": {
   "codemirror_mode": {
    "name": "ipython",
    "version": 3
   },
   "file_extension": ".py",
   "mimetype": "text/x-python",
   "name": "python",
   "nbconvert_exporter": "python",
   "pygments_lexer": "ipython3",
   "version": "3.9.7"
  }
 },
 "nbformat": 4,
 "nbformat_minor": 5
}
